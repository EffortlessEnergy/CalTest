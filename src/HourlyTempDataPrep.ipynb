{
 "metadata": {
  "name": ""
 },
 "nbformat": 3,
 "nbformat_minor": 0,
 "worksheets": [
  {
   "cells": [
    {
     "cell_type": "markdown",
     "metadata": {},
     "source": [
      "###Weather Data Imputation for CalCalc\n",
      "\n",
      "Using data from weather stations in California, we construct a balanced panel of daily tempurature readings for all stations over the last eight years. Missing data is imputed using a combination of random forest regression and linear interpolation. "
     ]
    },
    {
     "cell_type": "markdown",
     "metadata": {},
     "source": [
      "###Setup\n",
      "\n",
      "Import libraries and define global variables\n"
     ]
    },
    {
     "cell_type": "code",
     "collapsed": false,
     "input": [
      "import pandas as pd\n",
      "import datetime as dt\n",
      "#import statsmodels\n",
      "from sklearn.ensemble import RandomForestRegressor\n",
      "import warnings\n",
      "warnings.filterwarnings(\"ignore\", category=DeprecationWarning) \n",
      "\n",
      "PATH = \"/Users/matthewgee/Projects/CalTest/data/weather/\" #\n",
      "URL = \"\"  #for setting up reoccuring data creation\n"
     ],
     "language": "python",
     "metadata": {},
     "outputs": [],
     "prompt_number": 1
    },
    {
     "cell_type": "code",
     "collapsed": false,
     "input": [
      "#read in data and generate two main datasets for analysis and export\n",
      "rawtemps = pd.read_csv(PATH + 'cz2010_gsod_2006_2013.csv')\n",
      "completetemps = rawtemps[['usaf' , 'date' , 'temp']]\n",
      "completetemps['predtemp'] = NaN"
     ],
     "language": "python",
     "metadata": {},
     "outputs": [],
     "prompt_number": 2
    },
    {
     "cell_type": "code",
     "collapsed": false,
     "input": [
      "#check raw data\n",
      "rawtemps.head()\n"
     ],
     "language": "python",
     "metadata": {},
     "outputs": [
      {
       "html": [
        "<div style=\"max-height:1000px;max-width:1500px;overflow:auto;\">\n",
        "<table border=\"1\" class=\"dataframe\">\n",
        "  <thead>\n",
        "    <tr style=\"text-align: right;\">\n",
        "      <th></th>\n",
        "      <th>usaf</th>\n",
        "      <th>wthrfile</th>\n",
        "      <th>date</th>\n",
        "      <th>temp</th>\n",
        "    </tr>\n",
        "  </thead>\n",
        "  <tbody>\n",
        "    <tr>\n",
        "      <th>0</th>\n",
        "      <td> 690150</td>\n",
        "      <td> TWENTYNINE-PALMS</td>\n",
        "      <td> 01jan2006</td>\n",
        "      <td> 54.8</td>\n",
        "    </tr>\n",
        "    <tr>\n",
        "      <th>1</th>\n",
        "      <td> 690150</td>\n",
        "      <td> TWENTYNINE-PALMS</td>\n",
        "      <td> 02jan2006</td>\n",
        "      <td> 58.2</td>\n",
        "    </tr>\n",
        "    <tr>\n",
        "      <th>2</th>\n",
        "      <td> 690150</td>\n",
        "      <td> TWENTYNINE-PALMS</td>\n",
        "      <td> 03jan2006</td>\n",
        "      <td> 53.4</td>\n",
        "    </tr>\n",
        "    <tr>\n",
        "      <th>3</th>\n",
        "      <td> 690150</td>\n",
        "      <td> TWENTYNINE-PALMS</td>\n",
        "      <td> 04jan2006</td>\n",
        "      <td> 53.8</td>\n",
        "    </tr>\n",
        "    <tr>\n",
        "      <th>4</th>\n",
        "      <td> 690150</td>\n",
        "      <td> TWENTYNINE-PALMS</td>\n",
        "      <td> 05jan2006</td>\n",
        "      <td> 58.1</td>\n",
        "    </tr>\n",
        "  </tbody>\n",
        "</table>\n",
        "</div>"
       ],
       "metadata": {},
       "output_type": "pyout",
       "prompt_number": 3,
       "text": [
        "     usaf          wthrfile       date  temp\n",
        "0  690150  TWENTYNINE-PALMS  01jan2006  54.8\n",
        "1  690150  TWENTYNINE-PALMS  02jan2006  58.2\n",
        "2  690150  TWENTYNINE-PALMS  03jan2006  53.4\n",
        "3  690150  TWENTYNINE-PALMS  04jan2006  53.8\n",
        "4  690150  TWENTYNINE-PALMS  05jan2006  58.1"
       ]
      }
     ],
     "prompt_number": 3
    },
    {
     "cell_type": "code",
     "collapsed": false,
     "input": [
      "#Check data frame that will contain predicted values\n",
      "completetemps.head()"
     ],
     "language": "python",
     "metadata": {},
     "outputs": [
      {
       "html": [
        "<div style=\"max-height:1000px;max-width:1500px;overflow:auto;\">\n",
        "<table border=\"1\" class=\"dataframe\">\n",
        "  <thead>\n",
        "    <tr style=\"text-align: right;\">\n",
        "      <th></th>\n",
        "      <th>usaf</th>\n",
        "      <th>date</th>\n",
        "      <th>temp</th>\n",
        "      <th>predtemp</th>\n",
        "    </tr>\n",
        "  </thead>\n",
        "  <tbody>\n",
        "    <tr>\n",
        "      <th>0</th>\n",
        "      <td> 690150</td>\n",
        "      <td> 01jan2006</td>\n",
        "      <td> 54.8</td>\n",
        "      <td>NaN</td>\n",
        "    </tr>\n",
        "    <tr>\n",
        "      <th>1</th>\n",
        "      <td> 690150</td>\n",
        "      <td> 02jan2006</td>\n",
        "      <td> 58.2</td>\n",
        "      <td>NaN</td>\n",
        "    </tr>\n",
        "    <tr>\n",
        "      <th>2</th>\n",
        "      <td> 690150</td>\n",
        "      <td> 03jan2006</td>\n",
        "      <td> 53.4</td>\n",
        "      <td>NaN</td>\n",
        "    </tr>\n",
        "    <tr>\n",
        "      <th>3</th>\n",
        "      <td> 690150</td>\n",
        "      <td> 04jan2006</td>\n",
        "      <td> 53.8</td>\n",
        "      <td>NaN</td>\n",
        "    </tr>\n",
        "    <tr>\n",
        "      <th>4</th>\n",
        "      <td> 690150</td>\n",
        "      <td> 05jan2006</td>\n",
        "      <td> 58.1</td>\n",
        "      <td>NaN</td>\n",
        "    </tr>\n",
        "  </tbody>\n",
        "</table>\n",
        "</div>"
       ],
       "metadata": {},
       "output_type": "pyout",
       "prompt_number": 4,
       "text": [
        "     usaf       date  temp  predtemp\n",
        "0  690150  01jan2006  54.8       NaN\n",
        "1  690150  02jan2006  58.2       NaN\n",
        "2  690150  03jan2006  53.4       NaN\n",
        "3  690150  04jan2006  53.8       NaN\n",
        "4  690150  05jan2006  58.1       NaN"
       ]
      }
     ],
     "prompt_number": 4
    },
    {
     "cell_type": "markdown",
     "metadata": {},
     "source": [
      "###Reformat and reshape raw tempurature data and complete tempurature dataset (for later use)"
     ]
    },
    {
     "cell_type": "code",
     "collapsed": false,
     "input": [
      "#set the index\n",
      "completetemps = completetemps.set_index(['usaf','date'])\n",
      "df = rawtemps.pivot(index='date',columns='usaf',values='temp')"
     ],
     "language": "python",
     "metadata": {},
     "outputs": [],
     "prompt_number": 5
    },
    {
     "cell_type": "markdown",
     "metadata": {},
     "source": [
      "###Sort prepared data"
     ]
    },
    {
     "cell_type": "code",
     "collapsed": false,
     "input": [
      "df.sort()\n",
      "df"
     ],
     "language": "python",
     "metadata": {},
     "outputs": [
      {
       "html": [
        "<pre>\n",
        "&lt;class 'pandas.core.frame.DataFrame'&gt;\n",
        "Index: 2922 entries, 01apr2006 to 31oct2013\n",
        "Data columns (total 86 columns):\n",
        "690150    2903  non-null values\n",
        "722810    2848  non-null values\n",
        "722860    2922  non-null values\n",
        "722868    2911  non-null values\n",
        "722869    2549  non-null values\n",
        "722874    2922  non-null values\n",
        "722880    2922  non-null values\n",
        "722885    2922  non-null values\n",
        "722886    2922  non-null values\n",
        "722895    2633  non-null values\n",
        "722897    2922  non-null values\n",
        "722899    2921  non-null values\n",
        "722900    2922  non-null values\n",
        "722903    2922  non-null values\n",
        "722906    2920  non-null values\n",
        "722907    2459  non-null values\n",
        "722909    2695  non-null values\n",
        "722910    2673  non-null values\n",
        "722925    2177  non-null values\n",
        "722926    2915  non-null values\n",
        "722927    2922  non-null values\n",
        "722950    2922  non-null values\n",
        "722953    2395  non-null values\n",
        "722955    2895  non-null values\n",
        "722956    2922  non-null values\n",
        "722970    2922  non-null values\n",
        "722975    2893  non-null values\n",
        "722976    2922  non-null values\n",
        "722977    2922  non-null values\n",
        "723805    2911  non-null values\n",
        "723810    2921  non-null values\n",
        "723815    2902  non-null values\n",
        "723816    2914  non-null values\n",
        "723820    2920  non-null values\n",
        "723826    2724  non-null values\n",
        "723830    2911  non-null values\n",
        "723840    2922  non-null values\n",
        "723890    2922  non-null values\n",
        "723895    2840  non-null values\n",
        "723896    2853  non-null values\n",
        "723910    2909  non-null values\n",
        "723925    2916  non-null values\n",
        "723926    2919  non-null values\n",
        "723927    2918  non-null values\n",
        "723930    2886  non-null values\n",
        "723940    2922  non-null values\n",
        "723965    2921  non-null values\n",
        "724800    2920  non-null values\n",
        "724815    2921  non-null values\n",
        "724830    2922  non-null values\n",
        "724837    2775  non-null values\n",
        "724838    2917  non-null values\n",
        "724839    2922  non-null values\n",
        "724915    2922  non-null values\n",
        "724917    2922  non-null values\n",
        "724920    2922  non-null values\n",
        "724926    2920  non-null values\n",
        "724927    2919  non-null values\n",
        "724930    2922  non-null values\n",
        "724935    2906  non-null values\n",
        "724936    2922  non-null values\n",
        "724937    2464  non-null values\n",
        "724938    2921  non-null values\n",
        "724940    2922  non-null values\n",
        "724945    2922  non-null values\n",
        "724946    2850  non-null values\n",
        "724955    2922  non-null values\n",
        "724957    2922  non-null values\n",
        "725845    2920  non-null values\n",
        "725846    2920  non-null values\n",
        "725847    2920  non-null values\n",
        "725905    2920  non-null values\n",
        "725910    2922  non-null values\n",
        "725920    2922  non-null values\n",
        "725940    2762  non-null values\n",
        "725945    2922  non-null values\n",
        "725946    2921  non-null values\n",
        "725955    2919  non-null values\n",
        "725957    2922  non-null values\n",
        "725958    2921  non-null values\n",
        "745160    2922  non-null values\n",
        "746120    2805  non-null values\n",
        "747020    2912  non-null values\n",
        "747185    2921  non-null values\n",
        "747187    2918  non-null values\n",
        "747188    2920  non-null values\n",
        "dtypes: float64(86)\n",
        "</pre>"
       ],
       "metadata": {},
       "output_type": "pyout",
       "prompt_number": 6,
       "text": [
        "<class 'pandas.core.frame.DataFrame'>\n",
        "Index: 2922 entries, 01apr2006 to 31oct2013\n",
        "Data columns (total 86 columns):\n",
        "690150    2903  non-null values\n",
        "722810    2848  non-null values\n",
        "722860    2922  non-null values\n",
        "722868    2911  non-null values\n",
        "722869    2549  non-null values\n",
        "722874    2922  non-null values\n",
        "722880    2922  non-null values\n",
        "722885    2922  non-null values\n",
        "722886    2922  non-null values\n",
        "722895    2633  non-null values\n",
        "722897    2922  non-null values\n",
        "722899    2921  non-null values\n",
        "722900    2922  non-null values\n",
        "722903    2922  non-null values\n",
        "722906    2920  non-null values\n",
        "722907    2459  non-null values\n",
        "722909    2695  non-null values\n",
        "722910    2673  non-null values\n",
        "722925    2177  non-null values\n",
        "722926    2915  non-null values\n",
        "722927    2922  non-null values\n",
        "722950    2922  non-null values\n",
        "722953    2395  non-null values\n",
        "722955    2895  non-null values\n",
        "722956    2922  non-null values\n",
        "722970    2922  non-null values\n",
        "722975    2893  non-null values\n",
        "722976    2922  non-null values\n",
        "722977    2922  non-null values\n",
        "723805    2911  non-null values\n",
        "723810    2921  non-null values\n",
        "723815    2902  non-null values\n",
        "723816    2914  non-null values\n",
        "723820    2920  non-null values\n",
        "723826    2724  non-null values\n",
        "723830    2911  non-null values\n",
        "723840    2922  non-null values\n",
        "723890    2922  non-null values\n",
        "723895    2840  non-null values\n",
        "723896    2853  non-null values\n",
        "723910    2909  non-null values\n",
        "723925    2916  non-null values\n",
        "723926    2919  non-null values\n",
        "723927    2918  non-null values\n",
        "723930    2886  non-null values\n",
        "723940    2922  non-null values\n",
        "723965    2921  non-null values\n",
        "724800    2920  non-null values\n",
        "724815    2921  non-null values\n",
        "724830    2922  non-null values\n",
        "724837    2775  non-null values\n",
        "724838    2917  non-null values\n",
        "724839    2922  non-null values\n",
        "724915    2922  non-null values\n",
        "724917    2922  non-null values\n",
        "724920    2922  non-null values\n",
        "724926    2920  non-null values\n",
        "724927    2919  non-null values\n",
        "724930    2922  non-null values\n",
        "724935    2906  non-null values\n",
        "724936    2922  non-null values\n",
        "724937    2464  non-null values\n",
        "724938    2921  non-null values\n",
        "724940    2922  non-null values\n",
        "724945    2922  non-null values\n",
        "724946    2850  non-null values\n",
        "724955    2922  non-null values\n",
        "724957    2922  non-null values\n",
        "725845    2920  non-null values\n",
        "725846    2920  non-null values\n",
        "725847    2920  non-null values\n",
        "725905    2920  non-null values\n",
        "725910    2922  non-null values\n",
        "725920    2922  non-null values\n",
        "725940    2762  non-null values\n",
        "725945    2922  non-null values\n",
        "725946    2921  non-null values\n",
        "725955    2919  non-null values\n",
        "725957    2922  non-null values\n",
        "725958    2921  non-null values\n",
        "745160    2922  non-null values\n",
        "746120    2805  non-null values\n",
        "747020    2912  non-null values\n",
        "747185    2921  non-null values\n",
        "747187    2918  non-null values\n",
        "747188    2920  non-null values\n",
        "dtypes: float64(86)"
       ]
      }
     ],
     "prompt_number": 6
    },
    {
     "cell_type": "markdown",
     "metadata": {},
     "source": [
      "###Implement Random Forest Model\n",
      "\n",
      "For imputing large blocks of missing data, I apply an ensemble method called random forest regression. Random forest is a meta estimator that fits a number of classifying decision trees on various sub-samples of the dataset and use averaging to improve the predictive accuracy and control over-fitting. \n",
      "\n",
      "I use the sci-kit learn machine learning library for implementation of the random forest regression method. The documentation for sci-kit learn's RandomForestRegressor can be found [here.](http://scikit-learn.org/stable/modules/generated/sklearn.ensemble.RandomForestRegressor.html)\n"
     ]
    },
    {
     "cell_type": "code",
     "collapsed": false,
     "input": [
      "allstations = df.columns #creates list of stations for use\n",
      "\n",
      "##Loop through imputation procedure\n",
      "\n",
      "for i in range(len(allstations)):\n",
      "\n",
      "    otherstations = allstations.delete(i)\n",
      "    train = df[df[allstations[i]].notnull()]\n",
      "    missing = df[df[allstations[i]].isnull()]\n",
      "    \n",
      "    if len(missing) > 5:\n",
      "        \n",
      "        #create prediction dataset\n",
      "        predict = missing[otherstations]\n",
      "        predict.fillna(predict.mean(),inplace=True)\n",
      "        \n",
      "        #create features dataset\n",
      "        features = train[otherstations] \n",
      "        features.fillna(features.mean(),inplace=True)\n",
      "        \n",
      "        #create dependent variable for training\n",
      "        y = train[allstations[i]]\n",
      "        \n",
      "        #run the random forest model\n",
      "        reg = RandomForestRegressor(n_jobs=-1, n_estimators=20)\n",
      "        reg.fit(features, y)\n",
      "        \n",
      "        #generate predictions\n",
      "        preds = reg.predict(predict)\n",
      "        missing[allstations[i]]=preds\n",
      "        \n",
      "        #create dataset of filled values to merge back into incomplete data\n",
      "        varname = 'predtemp' + str(i)\n",
      "        filled = pd.DataFrame(missing[allstations[i]], columns=[varname])\n",
      "        filled['usaf']=allstations[i]\n",
      "        filled = filled.reset_index().set_index(['usaf','date'])\n",
      "\n",
      "        \n",
      "        #merge predictions into incomplete data\n",
      "        #pd.merge(completetemps, filled, left_index=True, right_index=True,how='inner')\n",
      "        completetemps = completetemps.join(filled, how='outer')\n",
      "        completetemps['predtemp'] = np.where(completetemps['predtemp'].isnull(),  completetemps[varname], completetemps['predtemp'])\n",
      "\n",
      "\n"
     ],
     "language": "python",
     "metadata": {},
     "outputs": [],
     "prompt_number": 7
    },
    {
     "cell_type": "markdown",
     "metadata": {},
     "source": [
      "###Apply linear Interpolation for single missing values\n",
      "\n",
      "For single instance of missing values and small contiguous instances within station, I apply a linear interpolation.\n",
      "- fill out initial gaps of less than 2 days with linear interpolation\n",
      "- "
     ]
    },
    {
     "cell_type": "code",
     "collapsed": false,
     "input": [
      "outputtemps = completetemps[['temp','predtemp']]\n",
      "outputtemps['completetemps'] = np.where(outputtemps['temp'].isnull(), outputtemps['predtemp'], outputtemps['temp'])\n",
      "\n",
      "#convert to datetime\n",
      "outputtemps = outputtemps.reset_index() #reset the index on the data to allow for datetime converions\n",
      "outputtemps['date'] = pd.to_datetime(outputtemps['date'], format='%d%b%Y') #convert date string to datetime for sorting\n",
      "outputtemps #check conversions\n",
      "outputtemps = outputtemps.sort(columns=['usaf','date']) #sort on station code and date\n",
      "\n",
      "#Apply interpolation to final missing data\n",
      "outputtemps['completetemps'] = outputtemps['completetemps'].interpolate()"
     ],
     "language": "python",
     "metadata": {},
     "outputs": [],
     "prompt_number": 9
    },
    {
     "cell_type": "markdown",
     "metadata": {},
     "source": [
      "###Output predictions\n",
      "\n",
      "Write final imputed values to a csv and save it to the shared folder.\n"
     ]
    },
    {
     "cell_type": "code",
     "collapsed": false,
     "input": [
      "outputtemps.to_csv(PATH + \"CalTrack_Complete_Temps.csv\")"
     ],
     "language": "python",
     "metadata": {},
     "outputs": [],
     "prompt_number": 14
    },
    {
     "cell_type": "markdown",
     "metadata": {},
     "source": [
      "####Plot imputed tempuratures for sanity check\n",
      "\n",
      "In the plot of daily tempurature data below, red indicates imputed values. Note that imputed values seem to track well with local trends. There are a number of other views of imputed data that are not included in this notebook, but are part of a robust set of validation excersizes I used to check imputations.\n"
     ]
    },
    {
     "cell_type": "code",
     "collapsed": false,
     "input": [
      "import matplotlib as plt\n",
      "plot(outputtemps['date'][:3000],outputtemps['completetemps'][:3000])\n",
      "plot(outputtemps['date'][:3000],outputtemps['predtemp'][:3000], color='red')"
     ],
     "language": "python",
     "metadata": {},
     "outputs": [
      {
       "metadata": {},
       "output_type": "pyout",
       "prompt_number": 10,
       "text": [
        "[<matplotlib.lines.Line2D at 0x10ef2e750>]"
       ]
      },
      {
       "metadata": {},
       "output_type": "display_data",
       "png": "[encoded data removed]",
       "text": [
        "<matplotlib.figure.Figure at 0x10ef1acd0>"
       ]
      }
     ],
     "prompt_number": 10
    },
    {
     "cell_type": "markdown",
     "metadata": {},
     "source": [
      "###Add Distance Weights to Tempurature Estimates\n",
      "\n",
      "We may think that having 1/r weights is superior to implied weighting in the regression since there is the change for systematic correlation between distant stations that is more sensitive to underestimation of local shocks (overweighted in estimating local outlying tempurature events).\n",
      "\n",
      "I define a function that calculates the distance between any two stations and use that to construct a distance weighting in the estimation."
     ]
    },
    {
     "cell_type": "markdown",
     "metadata": {},
     "source": [
      "####Create distance calculating function"
     ]
    },
    {
     "cell_type": "code",
     "collapsed": false,
     "input": [
      "import math\n",
      "\n",
      "def distance(origin, destination):\n",
      "    lat1, lon1 = origin\n",
      "    lat2, lon2 = destination\n",
      "    radius = 6371 # km\n",
      "\n",
      "    dlat = math.radians(lat2-lat1)\n",
      "    dlon = math.radians(lon2-lon1)\n",
      "    a = math.sin(dlat/2) * math.sin(dlat/2) + math.cos(math.radians(lat1)) \\\n",
      "        * math.cos(math.radians(lat2)) * math.sin(dlon/2) * math.sin(dlon/2)\n",
      "    c = 2 * math.atan2(math.sqrt(a), math.sqrt(1-a))\n",
      "    d = radius * c\n",
      "\n",
      "    return d"
     ],
     "language": "python",
     "metadata": {},
     "outputs": [],
     "prompt_number": 16
    },
    {
     "cell_type": "code",
     "collapsed": false,
     "input": [
      "#read in location data\n",
      "\n",
      "stationLocations = pd.read_csv(PATH + \"WeatherFileClimateZone.csv\", skiprows=[0,2])\n",
      "stationLocations\n"
     ],
     "language": "python",
     "metadata": {},
     "outputs": [
      {
       "html": [
        "<pre>\n",
        "&lt;class 'pandas.core.frame.DataFrame'&gt;\n",
        "Int64Index: 88 entries, 0 to 87\n",
        "Data columns (total 10 columns):\n",
        "WthrStationNum    88  non-null values\n",
        "WthrFile          87  non-null values\n",
        "CliZn             87  non-null values\n",
        "Lat               87  non-null values\n",
        "Long              87  non-null values\n",
        "Elevation         87  non-null values\n",
        "EPWHash           86  non-null values\n",
        "DDYHash           86  non-null values\n",
        "Unnamed: 8        87  non-null values\n",
        "Unnamed: 9        87  non-null values\n",
        "dtypes: float64(4), object(6)\n",
        "</pre>"
       ],
       "metadata": {},
       "output_type": "pyout",
       "prompt_number": 2,
       "text": [
        "<class 'pandas.core.frame.DataFrame'>\n",
        "Int64Index: 88 entries, 0 to 87\n",
        "Data columns (total 10 columns):\n",
        "WthrStationNum    88  non-null values\n",
        "WthrFile          87  non-null values\n",
        "CliZn             87  non-null values\n",
        "Lat               87  non-null values\n",
        "Long              87  non-null values\n",
        "Elevation         87  non-null values\n",
        "EPWHash           86  non-null values\n",
        "DDYHash           86  non-null values\n",
        "Unnamed: 8        87  non-null values\n",
        "Unnamed: 9        87  non-null values\n",
        "dtypes: float64(4), object(6)"
       ]
      }
     ],
     "prompt_number": 2
    },
    {
     "cell_type": "markdown",
     "metadata": {},
     "source": [
      "##Merge in weather file"
     ]
    },
    {
     "cell_type": "code",
     "collapsed": false,
     "input": [
      "stationLocations['usaf'] = stationLocations.WthrStationNum\n",
      "stationLocations.describe()\n",
      "stationLocations"
     ],
     "language": "python",
     "metadata": {},
     "outputs": [
      {
       "html": [
        "<pre>\n",
        "&lt;class 'pandas.core.frame.DataFrame'&gt;\n",
        "Int64Index: 88 entries, 0 to 87\n",
        "Data columns (total 11 columns):\n",
        "WthrStationNum    88  non-null values\n",
        "WthrFile          87  non-null values\n",
        "CliZn             87  non-null values\n",
        "Lat               87  non-null values\n",
        "Long              87  non-null values\n",
        "Elevation         87  non-null values\n",
        "EPWHash           86  non-null values\n",
        "DDYHash           86  non-null values\n",
        "Unnamed: 8        87  non-null values\n",
        "Unnamed: 9        87  non-null values\n",
        "usaf              88  non-null values\n",
        "dtypes: float64(4), object(7)\n",
        "</pre>"
       ],
       "metadata": {},
       "output_type": "pyout",
       "prompt_number": 13,
       "text": [
        "<class 'pandas.core.frame.DataFrame'>\n",
        "Int64Index: 88 entries, 0 to 87\n",
        "Data columns (total 11 columns):\n",
        "WthrStationNum    88  non-null values\n",
        "WthrFile          87  non-null values\n",
        "CliZn             87  non-null values\n",
        "Lat               87  non-null values\n",
        "Long              87  non-null values\n",
        "Elevation         87  non-null values\n",
        "EPWHash           86  non-null values\n",
        "DDYHash           86  non-null values\n",
        "Unnamed: 8        87  non-null values\n",
        "Unnamed: 9        87  non-null values\n",
        "usaf              88  non-null values\n",
        "dtypes: float64(4), object(7)"
       ]
      }
     ],
     "prompt_number": 13
    },
    {
     "cell_type": "code",
     "collapsed": false,
     "input": [
      "pd.merge(outputtemps, stationLocations)"
     ],
     "language": "python",
     "metadata": {},
     "outputs": []
    },
    {
     "cell_type": "markdown",
     "metadata": {},
     "source": [
      "*The Remainder of the location weighting code has been moved to a separate notebook. It will be merged in if it becomes a critical part of the final data creation*\n",
      "\n"
     ]
    }
   ],
   "metadata": {}
  }
 ]
}