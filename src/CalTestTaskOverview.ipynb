{
 "metadata": {
  "name": ""
 },
 "nbformat": 3,
 "nbformat_minor": 0,
 "worksheets": [
  {
   "cells": [
    {
     "cell_type": "markdown",
     "metadata": {},
     "source": [
      "###This is an outline of the task necessary to get the final list out by EOD today"
     ]
    },
    {
     "cell_type": "markdown",
     "metadata": {},
     "source": [
      "###PG&E\n",
      "Verify PG&E Data\n",
      "\n",
      "\n",
      "Change variable names to subset\n",
      "run selection script\n",
      "\n",
      "Output updated PF&E List\n",
      "\n",
      "\n",
      "###SCG\n",
      "\n",
      "\n",
      "####SDGE\n",
      "\n",
      "protocol: SFTP\n",
      "host: gis4.memphis.edu\n",
      "port: 5122\n",
      "username: dssg-ftp\n",
      "password: dssg@UoM!\n"
     ]
    },
    {
     "cell_type": "markdown",
     "metadata": {},
     "source": [
      "###Outline of MB Steps to get to latest dataset\n",
      "\n"
     ]
    },
    {
     "cell_type": "markdown",
     "metadata": {},
     "source": [
      "####PG&E Steps\n",
      "\n",
      "Original File"
     ]
    },
    {
     "cell_type": "markdown",
     "metadata": {},
     "source": []
    }
   ],
   "metadata": {}
  }
 ]
}