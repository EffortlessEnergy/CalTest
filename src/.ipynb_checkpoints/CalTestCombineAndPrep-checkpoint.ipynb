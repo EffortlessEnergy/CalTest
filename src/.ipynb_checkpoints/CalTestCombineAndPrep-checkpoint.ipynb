{
 "metadata": {
  "name": ""
 },
 "nbformat": 3,
 "nbformat_minor": 0,
 "worksheets": [
  {
   "cells": [
    {
     "cell_type": "markdown",
     "metadata": {},
     "source": [
      "##CalTest Combine Data & Prepare for Selection\n",
      "\n",
      "This notebook is used to combine the prepared data from all three utilities and prepare it for home selection.\n",
      "\n"
     ]
    },
    {
     "cell_type": "code",
     "collapsed": false,
     "input": [
      "import pandas as pd\n",
      "\n",
      "dataPath = \"/Users/matthewgee/Projects/CalTest/data/clean\"\n",
      "savePath = \"\"\n",
      "\n",
      "pgeData = \"/Users/matthewgee/Projects/CalTest/data/clean/pge_full_data_prep_for_merge.csv\"\n",
      "sgcData = \"\"\n",
      "sdgeData = \"\"\n",
      "\n",
      "calTestDict = \"\"\n",
      "\n",
      "pgeNameDict = \"PGEDict\"\n",
      "scgNameDict = \"SCGDict\"\n",
      "sdgeNameDict = \"SDGEDict\"\n",
      "\n"
     ],
     "language": "python",
     "metadata": {},
     "outputs": []
    },
    {
     "cell_type": "markdown",
     "metadata": {},
     "source": [
      "####Rename variable in each raw data file to conform to standard\n",
      "Using the name dictionary, rename shared variables across datasets\n",
      "\n"
     ]
    },
    {
     "cell_type": "code",
     "collapsed": false,
     "input": [
      "def renameStandard(nameFile,sheet,outputFile):\n",
      "    nameDict = \n",
      "    df.rename(columns=lambda x: x[1:], inplace=True)"
     ],
     "language": "python",
     "metadata": {},
     "outputs": []
    }
   ],
   "metadata": {}
  }
 ]
}