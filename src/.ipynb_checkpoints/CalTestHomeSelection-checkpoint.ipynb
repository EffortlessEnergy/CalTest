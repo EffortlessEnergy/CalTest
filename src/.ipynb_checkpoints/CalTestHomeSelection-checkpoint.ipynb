{
 "metadata": {
  "name": ""
 },
 "nbformat": 3,
 "nbformat_minor": 0,
 "worksheets": [
  {
   "cells": [
    {
     "cell_type": "markdown",
     "metadata": {},
     "source": [
      "##CalTest Home Selection\n",
      "\n",
      "*The purpose of home selection is to find a reprentative set of homes for CalTest. Representitiveness was determined by the following criteria:*\n",
      "\n",
      "1. Contractor (Completed by prefered contractors)\n",
      "2. Pre-retrofit air leakage (25th-90th percentile)\n",
      "3. Energy intesity (25th-90th percentile)\n",
      "4. Gas heat + gas hot water\n",
      "5. Stories (1)\n",
      "6. Total area (20th-80th percentile)\n",
      "7. Total gas savings (>40th percentile)\n",
      "8. Realization rate (25th-75th percentile)\n",
      "9. Fit on heating degree days regression ($R^2>.9$)\n",
      "10. Climate grouping (evenly distributed across 3 main groups)\n",
      "11. Utility (representative sample from each)\n",
      "\n",
      "The final dataset `CalTest_test_homes_final.csv` consists of \n",
      "\n",
      "\n",
      "\n",
      "\n",
      "\n",
      "\n"
     ]
    },
    {
     "cell_type": "markdown",
     "metadata": {},
     "source": [
      "Begin with combined dataset of cleaned home charateristics with weather normalized data.\n",
      "\n",
      "    CalTest_combined_project_data_cleaned.csv\n",
      "    CalTest_combined_usage_data_cleaned.csv"
     ]
    },
    {
     "cell_type": "code",
     "collapsed": false,
     "input": [
      "import pandas as pd\n",
      "import matplotlib as plt\n",
      "\n",
      "#specify dataset\n",
      "pgeData = \n",
      "scgData = \n",
      "sdgeData = \n",
      "combinedData = \n",
      "rawUseData =  "
     ],
     "language": "python",
     "metadata": {},
     "outputs": [],
     "prompt_number": 1
    },
    {
     "cell_type": "markdown",
     "metadata": {},
     "source": [
      "####Filter by quantile of pre-retrofit CFM50\n"
     ]
    },
    {
     "cell_type": "markdown",
     "metadata": {},
     "source": [
      "Histogram of CFM50\n"
     ]
    },
    {
     "cell_type": "code",
     "collapsed": false,
     "input": [
      "hist(df.shell_leakage_cfm50_existing)"
     ],
     "language": "python",
     "metadata": {},
     "outputs": []
    },
    {
     "cell_type": "markdown",
     "metadata": {},
     "source": [
      "Remove lower 25% percentile and top 10 percentile of CFM50"
     ]
    },
    {
     "cell_type": "code",
     "collapsed": false,
     "input": [
      "df[df.shell_leakage_cfm50_existing.quantile(.25) < df.shell_leakage_cfm50_existing < df.shell_leakage_cfm50_existing.quantile(.90)]"
     ],
     "language": "python",
     "metadata": {},
     "outputs": []
    },
    {
     "cell_type": "markdown",
     "metadata": {},
     "source": [
      "New distribution of CFM50"
     ]
    },
    {
     "cell_type": "code",
     "collapsed": false,
     "input": [
      "hist(df.shell_leakage_cfm50_existing)"
     ],
     "language": "python",
     "metadata": {},
     "outputs": []
    },
    {
     "cell_type": "markdown",
     "metadata": {},
     "source": [
      "###Select by energy intensity"
     ]
    },
    {
     "cell_type": "code",
     "collapsed": false,
     "input": [
      "hist(df.shell_leakage_cfm50_existing)"
     ],
     "language": "python",
     "metadata": {},
     "outputs": []
    },
    {
     "cell_type": "markdown",
     "metadata": {},
     "source": [
      "Remove lower 25 percentile and top 10 percentile of CFM50"
     ]
    },
    {
     "cell_type": "code",
     "collapsed": false,
     "input": [
      "df[df.energy_intensity(.25) < df.energy_intensity < df.energy_intensity.quantile(.90)]"
     ],
     "language": "python",
     "metadata": {},
     "outputs": []
    },
    {
     "cell_type": "markdown",
     "metadata": {},
     "source": [
      "###Gas heating and gas hot water\n"
     ]
    },
    {
     "cell_type": "code",
     "collapsed": false,
     "input": [],
     "language": "python",
     "metadata": {},
     "outputs": []
    }
   ],
   "metadata": {}
  }
 ]
}