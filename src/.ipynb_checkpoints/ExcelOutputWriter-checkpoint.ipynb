{
 "metadata": {
  "name": ""
 },
 "nbformat": 3,
 "nbformat_minor": 0,
 "worksheets": [
  {
   "cells": [
    {
     "cell_type": "markdown",
     "metadata": {},
     "source": [
      "##Write Selected Homes to Excel\n"
     ]
    },
    {
     "cell_type": "code",
     "collapsed": false,
     "input": [
      "import xlsxwriter\n",
      "import pandas as pd\n",
      "\n",
      "selectHomes = \"/Users/matthewgee/Projects/CalTest/data/final/CalTest_selected_homes_v1_4-1.csv\"\n",
      "selectHomesTest = \"/Users/matthewgee/Projects/CalTest/data/final/caltest_testcases_elec_group1_10Dec2013.csv\"\n",
      "savePath = \"/Users/matthewgee/Projects/CalTest/data/final\""
     ],
     "language": "python",
     "metadata": {},
     "outputs": [],
     "prompt_number": 2
    },
    {
     "cell_type": "code",
     "collapsed": false,
     "input": [
      "df = pd.read_csv(selectHomesTest)\n"
     ],
     "language": "python",
     "metadata": {},
     "outputs": []
    },
    {
     "cell_type": "markdown",
     "metadata": {},
     "source": [
      "Initialize Excel File"
     ]
    },
    {
     "cell_type": "code",
     "collapsed": false,
     "input": [
      "# Create an new Excel file and add a worksheet.\n",
      "workbook = xlsxwriter.Workbook('CalTest_beta_v3_April_1.xlsx')\n",
      "\n",
      "\n",
      "#Loop through DF for worksheets\n",
      "for i in range(len(df)):\n",
      "    \n",
      "    worksheet = workbook.add_worksheet(\"Site G\"+str(i+1))\n",
      "\n",
      "# Widen the first column to make the text clearer.\n",
      "worksheet.set_column('A:A', 20)\n",
      "\n",
      "# Add a bold format to use to highlight cells.\n",
      "bold = workbook.add_format({'bold': 1})\n",
      "grey = workbook.add_format()\n",
      "grey.set_pattern(1)\n",
      "grey.set_bg_color('grey')\n",
      "\n",
      "# Write common text for header\n",
      "worksheet.write('A1', 'CalTest',bold)\n",
      "worksheet.write('A2', 'Site', bold)\n",
      "worksheet.write('B2', 'G' + str(i+1), bold)\n",
      "\n",
      "# Write some numbers, with row/column notation.\n",
      "worksheet.write(2, 0, 123)\n",
      "worksheet.write(3, 0, 123.456)\n",
      "\n",
      "# Insert an image.\n",
      "worksheet.insert_image('B5', 'logo.png')\n",
      "\n",
      "workbook.close()"
     ],
     "language": "python",
     "metadata": {},
     "outputs": []
    }
   ],
   "metadata": {}
  }
 ]
}