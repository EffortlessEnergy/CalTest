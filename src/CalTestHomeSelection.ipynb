{
 "metadata": {
  "name": ""
 },
 "nbformat": 3,
 "nbformat_minor": 0,
 "worksheets": [
  {
   "cells": [
    {
     "cell_type": "markdown",
     "metadata": {},
     "source": [
      "##CalTest Home Selection\n",
      "\n",
      "*The purpose of home selection is to find a reprentative set of homes for CalTest. Representitiveness was determined by the following criteria:*\n",
      "\n",
      "1. Contractor (Completed by prefered contractors)\n",
      "2. Pre-retrofit air leakage (25th-90th percentile)\n",
      "3. Energy intesity (25th-90th percentile)\n",
      "4. Gas heat + gas hot water\n",
      "5. Stories (1)\n",
      "6. Total area (20th-80th percentile)\n",
      "7. Total gas savings (>40th percentile)\n",
      "8. Realization rate (25th-75th percentile)\n",
      "9. Fit on heating degree days regression ($R^2>.9$)\n",
      "10. Year built (>1950)\n",
      "10. Climate grouping (evenly distributed across 3 main groups)\n",
      "11. Utility (representative sample from each)\n",
      "\n",
      "The final dataset `CalTest_test_homes_v1_4-1.csv` consists of 28 homes that form a representative distribution of home types, climate areas, and measures, while also meeting the selection criteria above.\n",
      "\n",
      "Test homes are also displayed in the likely format for vendors in the excel spreadsheet `CalTest_beta_v3_April_2.xls`.\n"
     ]
    },
    {
     "cell_type": "markdown",
     "metadata": {},
     "source": [
      "####Steps in home selection"
     ]
    },
    {
     "cell_type": "markdown",
     "metadata": {},
     "source": [
      "Begin with combined dataset of cleaned home charateristics with weather normalized data.\n",
      "\n",
      "    CalTest_combined_project_data_cleaned.csv\n",
      "    CalTest_combined_usage_data_cleaned.csv"
     ]
    },
    {
     "cell_type": "code",
     "collapsed": false,
     "input": [
      "import pandas as pd\n",
      "import matplotlib as plt\n",
      "\n",
      "#specify dataset\n",
      "pgeData = \"/Users/matthewgee/Projects/CalTest/data/final/pge_CalTest_data_prepped.csv\"\n",
      "scgData = \"/Users/matthewgee/Projects/CalTest/data/final/scg_CalTest_data_prepped.csv\"\n",
      "sdgeData = \"/Users/matthewgee/Projects/CalTest/data/final/sdge_CalTest_data_prepped.csv\"\n",
      "\n",
      "#specify path\n",
      "savePath = \"/Users/matthewgee/Projects/CalTest/data/final/\"\n",
      "\n",
      "#Output filenames\n",
      "pgeSelect = \"/Users/matthewgee/Projects/CalTest/data/final/pge_CalTest_test_group_4-1.csv\"\n",
      "scgSelect = \"/Users/matthewgee/Projects/CalTest/data/final/scg_CalTest_test_group_4-1.csv\"\n",
      "sdgeSelect = \"/Users/matthewgee/Projects/CalTest/data/final/sdge_CalTest_test_group_4-1.csv\"\n",
      "combinedSelect = \"/Users/matthewgee/Projects/CalTest/data/final/combined_CalTest_test_group_4-1.csv\"\n",
      "combinedSelectX = \"/Users/matthewgee/Projects/CalTest/data/final/combined_CalTest_test_group_4-1.xls\""
     ],
     "language": "python",
     "metadata": {},
     "outputs": [],
     "prompt_number": 196
    },
    {
     "cell_type": "markdown",
     "metadata": {},
     "source": [
      "####Read in data as dataframes, and identify homes by utility\n"
     ]
    },
    {
     "cell_type": "code",
     "collapsed": false,
     "input": [
      "df = pd.read_csv(pgeData)\n",
      "#df = pd.read_csv(scgData)\n",
      "#df = pd.read_csv(sdgeData)"
     ],
     "language": "python",
     "metadata": {},
     "outputs": [],
     "prompt_number": 165
    },
    {
     "cell_type": "markdown",
     "metadata": {},
     "source": [
      "Subset by contractor"
     ]
    },
    {
     "cell_type": "code",
     "collapsed": false,
     "input": [
      "df.contractor.value_counts()"
     ],
     "language": "python",
     "metadata": {},
     "outputs": [
      {
       "metadata": {},
       "output_type": "pyout",
       "prompt_number": 166,
       "text": [
        "GREEN HOME SOLUTIONS BY GRUPE                   139\n",
        "ABC COOLING AND HEATING                         130\n",
        "CLARKE  RUSH MECHANICAL, INC.                   112\n",
        "ADVANCED HOME ENERGY INC                        110\n",
        "SOLARCITY CORPORATION                           107\n",
        "TERRA AQUA BUILDERS, INC.                       104\n",
        "SANDIUM HEATING  AIR                             84\n",
        "ADVANCED COMFORT AND ENERGY SYSTEMS              77\n",
        "BROWER MECHANICAL INC                            53\n",
        "GILMORE HEATING AND AIR                          53\n",
        "SMART BUILDERS                                   45\n",
        "A-1 GUARANTEED HEATING  AIR CONDITIONING INC     44\n",
        "STEWART HEATING  AIR INC.                        34\n",
        "BUILDING EFFICIENCY                              31\n",
        "ECO PERFORMANCE BUILDERS, INC.                   28\n",
        "...\n",
        "RICHARD YOUNG AIR CONDITIONING          1\n",
        "BLAIN CONSTRUCTION CO INC               1\n",
        "ALPINE GREEN PROPERTY SERVICES, INC.    1\n",
        "KEVEL HOME PERFORMANCE                  1\n",
        "GREENBUILT                              1\n",
        "KINETIC CONSTRUCTION INC.               1\n",
        "FAITH BASED BUILDING                    1\n",
        "FINESSE BUILDERS                        1\n",
        "ADV ENERGY SERVICES, INC.               1\n",
        "BUILD IT GREEN                          1\n",
        "GREEN CONSTRUCTION SERVICE              1\n",
        "BECKNER CONTRACTING                     1\n",
        "RE - AL CONSTRUCTION  REPAIR            1\n",
        "BRIGHT IDEAS CONSTRUCTION INC           1\n",
        "RIGHT NOW AIR INC                       1\n",
        "Length: 91, dtype: int64"
       ]
      }
     ],
     "prompt_number": 166
    },
    {
     "cell_type": "code",
     "collapsed": false,
     "input": [
      "g = df.groupby('contractor')\n",
      "df = g.filter(lambda x: len(x) > 5)\n",
      "df.contractor.value_counts()"
     ],
     "language": "python",
     "metadata": {},
     "outputs": [
      {
       "metadata": {},
       "output_type": "pyout",
       "prompt_number": 167,
       "text": [
        "GREEN HOME SOLUTIONS BY GRUPE                   139\n",
        "ABC COOLING AND HEATING                         130\n",
        "CLARKE  RUSH MECHANICAL, INC.                   112\n",
        "ADVANCED HOME ENERGY INC                        110\n",
        "SOLARCITY CORPORATION                           107\n",
        "TERRA AQUA BUILDERS, INC.                       104\n",
        "SANDIUM HEATING  AIR                             84\n",
        "ADVANCED COMFORT AND ENERGY SYSTEMS              77\n",
        "GILMORE HEATING AND AIR                          53\n",
        "BROWER MECHANICAL INC                            53\n",
        "SMART BUILDERS                                   45\n",
        "A-1 GUARANTEED HEATING  AIR CONDITIONING INC     44\n",
        "STEWART HEATING  AIR INC.                        34\n",
        "BUILDING EFFICIENCY                              31\n",
        "ECO PERFORMANCE BUILDERS, INC.                   28\n",
        "COVENANT AND ASSOCIATES                          25\n",
        "SIERRA PACIFIC HOME  COMFORT INC.                25\n",
        "GREEN FOOT ENERGY                                24\n",
        "SYNERGY COMPANIES                                24\n",
        "BELL BROTHERS HEATING  AIR                       21\n",
        "SDI INSULATION, INC.                             21\n",
        "MASON CONSTRUCTION CO.                           17\n",
        "HONEYS AIR                                       17\n",
        "J R PUTMAN HEATING  AIR CONDITIONING, INC        15\n",
        "MASCO HOME SERVICES INC.                         15\n",
        "RESIDENTIAL HEATING AND AIR                      13\n",
        "CHANDLER BUILDING AND DEVELOPMENT                13\n",
        "HARNEY CONSTRUCTION, INC.                        12\n",
        "APPERSON ENERGY MANAGEMENT                       12\n",
        "ABSOLUTE AIR                                     11\n",
        "SACRAMENTO BUILDING PERFORMANCE                  11\n",
        "APPLIED BUILDING SCIENCE                         11\n",
        "ALL YEAR HEATING  AIR                            10\n",
        "AVA CONSTRUCTION                                 10\n",
        "ENERGY CONSERVATION OPTIONS                       9\n",
        "WILLIAM CARTER COMPANY                            9\n",
        "WINDOW PROTECTINT                                 9\n",
        "ADV HOME PERFORMANCE                              9\n",
        "JOHN CRAIG CONSTRUCTION, INC                      8\n",
        "COMFORT CITY, INC.                                8\n",
        "COBALT FACILITIES, INC.                           7\n",
        "RISING DESIGN  CONSTRUCTION                       6\n",
        "CAL CUSTOM BUILDING SERVICES, INC                 6\n",
        "dtype: int64"
       ]
      }
     ],
     "prompt_number": 167
    },
    {
     "cell_type": "markdown",
     "metadata": {},
     "source": [
      "####Filter by quantile of pre-retrofit CFM50\n"
     ]
    },
    {
     "cell_type": "code",
     "collapsed": false,
     "input": [
      "df.shell_leakage_cfm50_existing.describe()"
     ],
     "language": "python",
     "metadata": {},
     "outputs": [
      {
       "metadata": {},
       "output_type": "pyout",
       "prompt_number": 168,
       "text": [
        "count     1502.000000\n",
        "mean      2942.057880\n",
        "std       1450.373637\n",
        "min        354.000000\n",
        "25%       1940.000000\n",
        "50%       2606.500000\n",
        "75%       3587.500000\n",
        "max      12600.000000\n",
        "Name: shell_leakage_cfm50_existing, dtype: float64"
       ]
      }
     ],
     "prompt_number": 168
    },
    {
     "cell_type": "markdown",
     "metadata": {},
     "source": [
      "Histogram of pre-retrofi CFM50\n"
     ]
    },
    {
     "cell_type": "code",
     "collapsed": false,
     "input": [
      "df.shell_leakage_cfm50_existing.hist(figsize=(10,5))"
     ],
     "language": "python",
     "metadata": {},
     "outputs": [
      {
       "metadata": {},
       "output_type": "pyout",
       "prompt_number": 169,
       "text": [
        "<matplotlib.axes.AxesSubplot at 0x1109ef9d0>"
       ]
      },
      {
       "metadata": {},
       "output_type": "display_data",
       "png": "[encoded data removed]",
       "text": [
        "<matplotlib.figure.Figure at 0x112495dd0>"
       ]
      }
     ],
     "prompt_number": 169
    },
    {
     "cell_type": "markdown",
     "metadata": {},
     "source": [
      "Remove lower 25% percentile and top 10 percentile of CFM50"
     ]
    },
    {
     "cell_type": "code",
     "collapsed": false,
     "input": [
      "df = df[df.shell_leakage_cfm50_existing < df.shell_leakage_cfm50_existing.quantile(.90)]\n",
      "df = df[df.shell_leakage_cfm50_existing.quantile(.25) < df.shell_leakage_cfm50_existing]\n",
      "df.shell_leakage_cfm50_existing.hist(figsize(10,5))"
     ],
     "language": "python",
     "metadata": {},
     "outputs": [
      {
       "metadata": {},
       "output_type": "pyout",
       "prompt_number": 170,
       "text": [
        "<matplotlib.axes.AxesSubplot at 0x1121f1f50>"
       ]
      },
      {
       "metadata": {},
       "output_type": "display_data",
       "png": "[encoded data removed]",
       "text": [
        "<matplotlib.figure.Figure at 0x1110e15d0>"
       ]
      }
     ],
     "prompt_number": 170
    },
    {
     "cell_type": "markdown",
     "metadata": {},
     "source": [
      "New distribution of CFM50"
     ]
    },
    {
     "cell_type": "code",
     "collapsed": false,
     "input": [
      "len(df)"
     ],
     "language": "python",
     "metadata": {},
     "outputs": [
      {
       "metadata": {},
       "output_type": "pyout",
       "prompt_number": 171,
       "text": [
        "1012"
       ]
      }
     ],
     "prompt_number": 171
    },
    {
     "cell_type": "markdown",
     "metadata": {},
     "source": [
      "###Select by energy intensity"
     ]
    },
    {
     "cell_type": "code",
     "collapsed": false,
     "input": [
      "df.energy_intensity.hist(figsize=(10,5))"
     ],
     "language": "python",
     "metadata": {},
     "outputs": [
      {
       "metadata": {},
       "output_type": "pyout",
       "prompt_number": 172,
       "text": [
        "<matplotlib.axes.AxesSubplot at 0x108595ed0>"
       ]
      },
      {
       "metadata": {},
       "output_type": "display_data",
       "png": "[encoded data removed]",
       "text": [
        "<matplotlib.figure.Figure at 0x1110def10>"
       ]
      }
     ],
     "prompt_number": 172
    },
    {
     "cell_type": "markdown",
     "metadata": {},
     "source": [
      "Remove lower 25 percentile and top 10 percentile of CFM50"
     ]
    },
    {
     "cell_type": "code",
     "collapsed": false,
     "input": [
      "df = df[df.energy_intensity < df.energy_intensity.quantile(.90)]\n",
      "df = df[df.energy_intensity.quantile(.25) < df.energy_intensity]\n",
      "df.energy_intensity.hist(figsize=(10,5))"
     ],
     "language": "python",
     "metadata": {},
     "outputs": [
      {
       "metadata": {},
       "output_type": "pyout",
       "prompt_number": 173,
       "text": [
        "<matplotlib.axes.AxesSubplot at 0x1127ce2d0>"
       ]
      },
      {
       "metadata": {},
       "output_type": "display_data",
       "png": "[encoded data removed]",
       "text": [
        "<matplotlib.figure.Figure at 0x1127d2410>"
       ]
      }
     ],
     "prompt_number": 173
    },
    {
     "cell_type": "markdown",
     "metadata": {},
     "source": [
      "###Gas heating and gas hot water\n"
     ]
    },
    {
     "cell_type": "code",
     "collapsed": false,
     "input": [
      "df[df.gas_heat==1]\n",
      "df[df.gas_hotwater==1]\n",
      "len(df)"
     ],
     "language": "python",
     "metadata": {},
     "outputs": [
      {
       "metadata": {},
       "output_type": "pyout",
       "prompt_number": 174,
       "text": [
        "567"
       ]
      }
     ],
     "prompt_number": 174
    },
    {
     "cell_type": "markdown",
     "metadata": {},
     "source": [
      "###Remove based on number of stories\n",
      "For now we are including only 1 story buildings\n"
     ]
    },
    {
     "cell_type": "code",
     "collapsed": false,
     "input": [
      "df.stories_above_grade.value_counts()"
     ],
     "language": "python",
     "metadata": {},
     "outputs": [
      {
       "metadata": {},
       "output_type": "pyout",
       "prompt_number": 175,
       "text": [
        "1    436\n",
        "2    127\n",
        "3      3\n",
        "4      1\n",
        "dtype: int64"
       ]
      }
     ],
     "prompt_number": 175
    },
    {
     "cell_type": "code",
     "collapsed": false,
     "input": [
      "df = df[df.stories_above_grade==1]\n",
      "len(df)"
     ],
     "language": "python",
     "metadata": {},
     "outputs": [
      {
       "metadata": {},
       "output_type": "pyout",
       "prompt_number": 176,
       "text": [
        "436"
       ]
      }
     ],
     "prompt_number": 176
    },
    {
     "cell_type": "markdown",
     "metadata": {},
     "source": [
      "###Subset by total area\n",
      "\n",
      "Look at the distribution of total conditioned area across the subset of homes."
     ]
    },
    {
     "cell_type": "code",
     "collapsed": false,
     "input": [
      "df.pre_conditioned_area.hist(figsize=(10,5))"
     ],
     "language": "python",
     "metadata": {},
     "outputs": [
      {
       "metadata": {},
       "output_type": "pyout",
       "prompt_number": 177,
       "text": [
        "<matplotlib.axes.AxesSubplot at 0x113e9c610>"
       ]
      },
      {
       "metadata": {},
       "output_type": "display_data",
       "png": "[encoded data removed]",
       "text": [
        "<matplotlib.figure.Figure at 0x1085be990>"
       ]
      }
     ],
     "prompt_number": 177
    },
    {
     "cell_type": "markdown",
     "metadata": {},
     "source": [
      "Dropping the lower and upper 20% of the distribution"
     ]
    },
    {
     "cell_type": "code",
     "collapsed": false,
     "input": [
      "df = df[df.pre_conditioned_area < df.pre_conditioned_area.quantile(.80)]\n",
      "df = df[df.pre_conditioned_area.quantile(.20) < df.pre_conditioned_area]\n",
      "df.pre_conditioned_area.hist(figsize=(10,5))"
     ],
     "language": "python",
     "metadata": {},
     "outputs": [
      {
       "metadata": {},
       "output_type": "pyout",
       "prompt_number": 178,
       "text": [
        "<matplotlib.axes.AxesSubplot at 0x1095f0510>"
       ]
      },
      {
       "metadata": {},
       "output_type": "display_data",
       "png": "[encoded data removed]",
       "text": [
        "<matplotlib.figure.Figure at 0x1095f3950>"
       ]
      }
     ],
     "prompt_number": 178
    },
    {
     "cell_type": "markdown",
     "metadata": {},
     "source": [
      "###Subset on total gas savings\n",
      "We select for the upper 60% and remove only the top 3% from the total realized savings distribution to ensure there is enough signal in the sample homes for testing."
     ]
    },
    {
     "cell_type": "code",
     "collapsed": false,
     "input": [
      "df.gas_savings.hist(figsize=(10,5))"
     ],
     "language": "python",
     "metadata": {},
     "outputs": [
      {
       "metadata": {},
       "output_type": "pyout",
       "prompt_number": 179,
       "text": [
        "<matplotlib.axes.AxesSubplot at 0x113e82790>"
       ]
      },
      {
       "metadata": {},
       "output_type": "display_data",
       "png": "[encoded data removed]",
       "text": [
        "<matplotlib.figure.Figure at 0x1095f9cd0>"
       ]
      }
     ],
     "prompt_number": 179
    },
    {
     "cell_type": "code",
     "collapsed": false,
     "input": [
      "df = df[df.pre_conditioned_area < df.pre_conditioned_area.quantile(.97)]\n",
      "df = df[df.pre_conditioned_area.quantile(.40) < df.pre_conditioned_area]\n",
      "df.pre_conditioned_area.hist(figsize=(10,5))"
     ],
     "language": "python",
     "metadata": {},
     "outputs": [
      {
       "metadata": {},
       "output_type": "pyout",
       "prompt_number": 180,
       "text": [
        "<matplotlib.axes.AxesSubplot at 0x113eed7d0>"
       ]
      },
      {
       "metadata": {},
       "output_type": "display_data",
       "png": "[encoded data removed]",
       "text": [
        "<matplotlib.figure.Figure at 0x113eeebd0>"
       ]
      }
     ],
     "prompt_number": 180
    },
    {
     "cell_type": "code",
     "collapsed": false,
     "input": [
      "len(df)"
     ],
     "language": "python",
     "metadata": {},
     "outputs": [
      {
       "metadata": {},
       "output_type": "pyout",
       "prompt_number": 181,
       "text": [
        "161"
       ]
      }
     ],
     "prompt_number": 181
    },
    {
     "cell_type": "markdown",
     "metadata": {},
     "source": [
      "###Subset on Realization Rate\n",
      "\n",
      "Examining the distribution of realization rates for gas and electricity"
     ]
    },
    {
     "cell_type": "code",
     "collapsed": false,
     "input": [
      "#Gas Realization rates\n",
      "df.gas_realization.hist()"
     ],
     "language": "python",
     "metadata": {},
     "outputs": [
      {
       "metadata": {},
       "output_type": "pyout",
       "prompt_number": 182,
       "text": [
        "<matplotlib.axes.AxesSubplot at 0x1095f3c50>"
       ]
      },
      {
       "metadata": {},
       "output_type": "display_data",
       "png": "[encoded data removed]",
       "text": [
        "<matplotlib.figure.Figure at 0x1095ccd50>"
       ]
      }
     ],
     "prompt_number": 182
    },
    {
     "cell_type": "code",
     "collapsed": false,
     "input": [
      "#Electricity Realization rates\n",
      "df.elec_realization.hist()"
     ],
     "language": "python",
     "metadata": {},
     "outputs": [
      {
       "metadata": {},
       "output_type": "pyout",
       "prompt_number": 183,
       "text": [
        "<matplotlib.axes.AxesSubplot at 0x1142ef710>"
       ]
      },
      {
       "metadata": {},
       "output_type": "display_data",
       "png": "[encoded data removed]",
       "text": [
        "<matplotlib.figure.Figure at 0x1140bbc10>"
       ]
      }
     ],
     "prompt_number": 183
    },
    {
     "cell_type": "markdown",
     "metadata": {},
     "source": [
      "Drop the upper and lower 25th percentiles for both gas and electrcity"
     ]
    },
    {
     "cell_type": "code",
     "collapsed": false,
     "input": [
      "df = df[df.gas_realization < df.gas_realization.quantile(.80)]\n",
      "df = df[df.gas_realization.quantile(.20) < df.gas_realization]\n",
      "df.gas_realization.hist(figsize=(10,5))"
     ],
     "language": "python",
     "metadata": {},
     "outputs": [
      {
       "metadata": {},
       "output_type": "pyout",
       "prompt_number": 184,
       "text": [
        "<matplotlib.axes.AxesSubplot at 0x1095c4dd0>"
       ]
      },
      {
       "metadata": {},
       "output_type": "display_data",
       "png": "[encoded data removed]",
       "text": [
        "<matplotlib.figure.Figure at 0x1142f0f10>"
       ]
      }
     ],
     "prompt_number": 184
    },
    {
     "cell_type": "code",
     "collapsed": false,
     "input": [
      "df = df[df.elec_realization < df.elec_realization.quantile(.80)]\n",
      "df = df[df.elec_realization.quantile(.20) < df.elec_realization]\n",
      "df.elec_realization.hist(figsize=(10,5))"
     ],
     "language": "python",
     "metadata": {},
     "outputs": [
      {
       "metadata": {},
       "output_type": "pyout",
       "prompt_number": 185,
       "text": [
        "<matplotlib.axes.AxesSubplot at 0x1145e2590>"
       ]
      },
      {
       "metadata": {},
       "output_type": "display_data",
       "png": "[encoded data removed]",
       "text": [
        "<matplotlib.figure.Figure at 0x11458c290>"
       ]
      }
     ],
     "prompt_number": 185
    },
    {
     "cell_type": "code",
     "collapsed": false,
     "input": [
      "len(df)"
     ],
     "language": "python",
     "metadata": {},
     "outputs": [
      {
       "metadata": {},
       "output_type": "pyout",
       "prompt_number": 186,
       "text": [
        "35"
       ]
      }
     ],
     "prompt_number": 186
    },
    {
     "cell_type": "markdown",
     "metadata": {},
     "source": [
      "###Check representativeness across climate zones"
     ]
    },
    {
     "cell_type": "code",
     "collapsed": false,
     "input": [
      "df.ca_climate_zone.value_counts()"
     ],
     "language": "python",
     "metadata": {},
     "outputs": [
      {
       "metadata": {},
       "output_type": "pyout",
       "prompt_number": 187,
       "text": [
        "12    15\n",
        "3      9\n",
        "4      4\n",
        "13     3\n",
        "2      3\n",
        "11     1\n",
        "dtype: int64"
       ]
      }
     ],
     "prompt_number": 187
    },
    {
     "cell_type": "markdown",
     "metadata": {},
     "source": [
      "###Checking representativeness across features\n"
     ]
    },
    {
     "cell_type": "code",
     "collapsed": false,
     "input": [
      "df.pre_yearbuilt.hist()"
     ],
     "language": "python",
     "metadata": {},
     "outputs": [
      {
       "metadata": {},
       "output_type": "pyout",
       "prompt_number": 188,
       "text": [
        "<matplotlib.axes.AxesSubplot at 0x114bc5310>"
       ]
      },
      {
       "metadata": {},
       "output_type": "display_data",
       "png": "[encoded data removed]",
       "text": [
        "<matplotlib.figure.Figure at 0x114574050>"
       ]
      }
     ],
     "prompt_number": 188
    },
    {
     "cell_type": "markdown",
     "metadata": {},
     "source": [
      "Remove old (yearbuild<1979) from the sample"
     ]
    },
    {
     "cell_type": "code",
     "collapsed": false,
     "input": [
      "df = df[df.pre_yearbuilt > 1950]\n",
      "df.pre_yearbuilt.hist()"
     ],
     "language": "python",
     "metadata": {},
     "outputs": [
      {
       "metadata": {},
       "output_type": "pyout",
       "prompt_number": 189,
       "text": [
        "<matplotlib.axes.AxesSubplot at 0x114e7eb50>"
       ]
      },
      {
       "metadata": {},
       "output_type": "display_data",
       "png": "[encoded data removed]",
       "text": [
        "<matplotlib.figure.Figure at 0x1148be9d0>"
       ]
      }
     ],
     "prompt_number": 189
    },
    {
     "cell_type": "code",
     "collapsed": false,
     "input": [
      "len(df)"
     ],
     "language": "python",
     "metadata": {},
     "outputs": [
      {
       "metadata": {},
       "output_type": "pyout",
       "prompt_number": 190,
       "text": [
        "29"
       ]
      }
     ],
     "prompt_number": 190
    },
    {
     "cell_type": "code",
     "collapsed": false,
     "input": [
      "df.describe()"
     ],
     "language": "python",
     "metadata": {},
     "outputs": [
      {
       "html": [
        "<div style=\"max-height:1000px;max-width:1500px;overflow:auto;\">\n",
        "<table border=\"1\" class=\"dataframe\">\n",
        "  <thead>\n",
        "    <tr style=\"text-align: right;\">\n",
        "      <th></th>\n",
        "      <th>zipcode</th>\n",
        "      <th>year_built</th>\n",
        "      <th>grosssqft</th>\n",
        "      <th>pre_conditioned_area</th>\n",
        "      <th>conditionedsqft</th>\n",
        "      <th>total_savings</th>\n",
        "      <th>electricity_savings</th>\n",
        "      <th>gas_savings</th>\n",
        "      <th>projected_elec_savings</th>\n",
        "      <th>projected_gas_savings</th>\n",
        "      <th>climate</th>\n",
        "      <th>pre_yearbuilt</th>\n",
        "      <th>stories_above_grade</th>\n",
        "      <th>volume</th>\n",
        "      <th>central_AC_existing</th>\n",
        "      <th>shell_leakage_cfm50_existing</th>\n",
        "      <th>duct_leakage_existing</th>\n",
        "      <th>duct_insulation_r_existing</th>\n",
        "      <th>attic_insulation_existing</th>\n",
        "      <th>wall_insulation_existing</th>\n",
        "      <th></th>\n",
        "    </tr>\n",
        "  </thead>\n",
        "  <tbody>\n",
        "    <tr>\n",
        "      <th>count</th>\n",
        "      <td>    29.000000</td>\n",
        "      <td>   29.00000</td>\n",
        "      <td>   29.000000</td>\n",
        "      <td>   29.000000</td>\n",
        "      <td>   29.000000</td>\n",
        "      <td>     29.000000</td>\n",
        "      <td>    29.000000</td>\n",
        "      <td>     29.000000</td>\n",
        "      <td>    29.000000</td>\n",
        "      <td>   29.000000</td>\n",
        "      <td> 29.000000</td>\n",
        "      <td>   29.000000</td>\n",
        "      <td> 29</td>\n",
        "      <td>    29.000000</td>\n",
        "      <td> 29.000000</td>\n",
        "      <td>   29.000000</td>\n",
        "      <td>   14.000000</td>\n",
        "      <td> 28.000000</td>\n",
        "      <td> 29.000000</td>\n",
        "      <td> 29.000000</td>\n",
        "      <td>...</td>\n",
        "    </tr>\n",
        "    <tr>\n",
        "      <th>mean</th>\n",
        "      <td> 94739.275862</td>\n",
        "      <td> 1967.62069</td>\n",
        "      <td> 1864.655172</td>\n",
        "      <td> 1825.689655</td>\n",
        "      <td> 1864.655172</td>\n",
        "      <td>  47977.689655</td>\n",
        "      <td> 10562.206897</td>\n",
        "      <td>  37414.931034</td>\n",
        "      <td>  3095.605766</td>\n",
        "      <td>  374.149310</td>\n",
        "      <td>  8.068966</td>\n",
        "      <td> 1968.137931</td>\n",
        "      <td>  1</td>\n",
        "      <td> 15182.244828</td>\n",
        "      <td>  0.655172</td>\n",
        "      <td> 2932.241379</td>\n",
        "      <td>  463.428571</td>\n",
        "      <td>  2.378571</td>\n",
        "      <td>  0.097628</td>\n",
        "      <td>  0.230468</td>\n",
        "      <td>...</td>\n",
        "    </tr>\n",
        "    <tr>\n",
        "      <th>std</th>\n",
        "      <td>   609.855129</td>\n",
        "      <td>   10.51670</td>\n",
        "      <td>  238.899153</td>\n",
        "      <td>  144.913793</td>\n",
        "      <td>  238.899153</td>\n",
        "      <td>  24193.362055</td>\n",
        "      <td>  9465.225069</td>\n",
        "      <td>  21336.275133</td>\n",
        "      <td>  2774.098614</td>\n",
        "      <td>  213.362751</td>\n",
        "      <td>  4.620846</td>\n",
        "      <td>   10.632578</td>\n",
        "      <td>  0</td>\n",
        "      <td>  1735.532455</td>\n",
        "      <td>  0.483725</td>\n",
        "      <td>  681.440316</td>\n",
        "      <td>  285.348293</td>\n",
        "      <td>  1.026088</td>\n",
        "      <td>  0.061691</td>\n",
        "      <td>  0.124494</td>\n",
        "      <td>...</td>\n",
        "    </tr>\n",
        "    <tr>\n",
        "      <th>min</th>\n",
        "      <td> 93710.000000</td>\n",
        "      <td> 1951.00000</td>\n",
        "      <td> 1590.000000</td>\n",
        "      <td> 1608.000000</td>\n",
        "      <td> 1590.000000</td>\n",
        "      <td>  17097.000000</td>\n",
        "      <td>   805.000000</td>\n",
        "      <td>  11333.000000</td>\n",
        "      <td>   235.932000</td>\n",
        "      <td>  113.330000</td>\n",
        "      <td>  2.000000</td>\n",
        "      <td> 1951.000000</td>\n",
        "      <td>  1</td>\n",
        "      <td> 12864.000000</td>\n",
        "      <td>  0.000000</td>\n",
        "      <td> 1930.000000</td>\n",
        "      <td>  171.000000</td>\n",
        "      <td>  1.000000</td>\n",
        "      <td>  0.039559</td>\n",
        "      <td>  0.084681</td>\n",
        "      <td>...</td>\n",
        "    </tr>\n",
        "    <tr>\n",
        "      <th>25%</th>\n",
        "      <td> 94520.000000</td>\n",
        "      <td> 1959.00000</td>\n",
        "      <td> 1720.000000</td>\n",
        "      <td> 1720.000000</td>\n",
        "      <td> 1720.000000</td>\n",
        "      <td>  31662.000000</td>\n",
        "      <td>  3123.000000</td>\n",
        "      <td>  24779.000000</td>\n",
        "      <td>   915.299000</td>\n",
        "      <td>  247.790000</td>\n",
        "      <td>  3.000000</td>\n",
        "      <td> 1960.000000</td>\n",
        "      <td>  1</td>\n",
        "      <td> 14000.000000</td>\n",
        "      <td>  0.000000</td>\n",
        "      <td> 2386.000000</td>\n",
        "      <td>  269.750000</td>\n",
        "      <td>  2.000000</td>\n",
        "      <td>  0.075309</td>\n",
        "      <td>  0.110000</td>\n",
        "      <td>...</td>\n",
        "    </tr>\n",
        "    <tr>\n",
        "      <th>50%</th>\n",
        "      <td> 94612.000000</td>\n",
        "      <td> 1967.00000</td>\n",
        "      <td> 1804.000000</td>\n",
        "      <td> 1790.000000</td>\n",
        "      <td> 1804.000000</td>\n",
        "      <td>  41951.000000</td>\n",
        "      <td>  8430.000000</td>\n",
        "      <td>  34017.000000</td>\n",
        "      <td>  2470.692000</td>\n",
        "      <td>  340.170000</td>\n",
        "      <td> 12.000000</td>\n",
        "      <td> 1968.000000</td>\n",
        "      <td>  1</td>\n",
        "      <td> 14492.500000</td>\n",
        "      <td>  1.000000</td>\n",
        "      <td> 2955.000000</td>\n",
        "      <td>  362.500000</td>\n",
        "      <td>  2.100000</td>\n",
        "      <td>  0.079000</td>\n",
        "      <td>  0.290958</td>\n",
        "      <td>...</td>\n",
        "    </tr>\n",
        "    <tr>\n",
        "      <th>75%</th>\n",
        "      <td> 95209.000000</td>\n",
        "      <td> 1977.00000</td>\n",
        "      <td> 1955.000000</td>\n",
        "      <td> 1925.000000</td>\n",
        "      <td> 1955.000000</td>\n",
        "      <td>  57347.000000</td>\n",
        "      <td> 15378.000000</td>\n",
        "      <td>  45422.000000</td>\n",
        "      <td>  4507.034000</td>\n",
        "      <td>  454.220000</td>\n",
        "      <td> 12.000000</td>\n",
        "      <td> 1977.000000</td>\n",
        "      <td>  1</td>\n",
        "      <td> 16252.000000</td>\n",
        "      <td>  1.000000</td>\n",
        "      <td> 3255.000000</td>\n",
        "      <td>  540.750000</td>\n",
        "      <td>  2.325000</td>\n",
        "      <td>  0.079000</td>\n",
        "      <td>  0.356000</td>\n",
        "      <td>...</td>\n",
        "    </tr>\n",
        "    <tr>\n",
        "      <th>max</th>\n",
        "      <td> 95762.000000</td>\n",
        "      <td> 1989.00000</td>\n",
        "      <td> 2840.000000</td>\n",
        "      <td> 2087.000000</td>\n",
        "      <td> 2840.000000</td>\n",
        "      <td> 140485.000000</td>\n",
        "      <td> 41460.000000</td>\n",
        "      <td> 116630.000000</td>\n",
        "      <td> 12151.230000</td>\n",
        "      <td> 1166.300000</td>\n",
        "      <td> 13.000000</td>\n",
        "      <td> 1989.000000</td>\n",
        "      <td>  1</td>\n",
        "      <td> 18860.000000</td>\n",
        "      <td>  1.000000</td>\n",
        "      <td> 4353.000000</td>\n",
        "      <td> 1140.000000</td>\n",
        "      <td>  4.200000</td>\n",
        "      <td>  0.305000</td>\n",
        "      <td>  0.356000</td>\n",
        "      <td>...</td>\n",
        "    </tr>\n",
        "  </tbody>\n",
        "</table>\n",
        "<p>8 rows \u00d7 242 columns</p>\n",
        "</div>"
       ],
       "metadata": {},
       "output_type": "pyout",
       "prompt_number": 191,
       "text": [
        "            zipcode  year_built    grosssqft  pre_conditioned_area  \\\n",
        "count     29.000000    29.00000    29.000000             29.000000   \n",
        "mean   94739.275862  1967.62069  1864.655172           1825.689655   \n",
        "std      609.855129    10.51670   238.899153            144.913793   \n",
        "min    93710.000000  1951.00000  1590.000000           1608.000000   \n",
        "25%    94520.000000  1959.00000  1720.000000           1720.000000   \n",
        "50%    94612.000000  1967.00000  1804.000000           1790.000000   \n",
        "75%    95209.000000  1977.00000  1955.000000           1925.000000   \n",
        "max    95762.000000  1989.00000  2840.000000           2087.000000   \n",
        "\n",
        "       conditionedsqft  total_savings  electricity_savings    gas_savings  \\\n",
        "count        29.000000      29.000000            29.000000      29.000000   \n",
        "mean       1864.655172   47977.689655         10562.206897   37414.931034   \n",
        "std         238.899153   24193.362055          9465.225069   21336.275133   \n",
        "min        1590.000000   17097.000000           805.000000   11333.000000   \n",
        "25%        1720.000000   31662.000000          3123.000000   24779.000000   \n",
        "50%        1804.000000   41951.000000          8430.000000   34017.000000   \n",
        "75%        1955.000000   57347.000000         15378.000000   45422.000000   \n",
        "max        2840.000000  140485.000000         41460.000000  116630.000000   \n",
        "\n",
        "       projected_elec_savings  projected_gas_savings    climate  \\\n",
        "count               29.000000              29.000000  29.000000   \n",
        "mean              3095.605766             374.149310   8.068966   \n",
        "std               2774.098614             213.362751   4.620846   \n",
        "min                235.932000             113.330000   2.000000   \n",
        "25%                915.299000             247.790000   3.000000   \n",
        "50%               2470.692000             340.170000  12.000000   \n",
        "75%               4507.034000             454.220000  12.000000   \n",
        "max              12151.230000            1166.300000  13.000000   \n",
        "\n",
        "       pre_yearbuilt  stories_above_grade        volume  central_AC_existing  \\\n",
        "count      29.000000                   29     29.000000            29.000000   \n",
        "mean     1968.137931                    1  15182.244828             0.655172   \n",
        "std        10.632578                    0   1735.532455             0.483725   \n",
        "min      1951.000000                    1  12864.000000             0.000000   \n",
        "25%      1960.000000                    1  14000.000000             0.000000   \n",
        "50%      1968.000000                    1  14492.500000             1.000000   \n",
        "75%      1977.000000                    1  16252.000000             1.000000   \n",
        "max      1989.000000                    1  18860.000000             1.000000   \n",
        "\n",
        "       shell_leakage_cfm50_existing  duct_leakage_existing  \\\n",
        "count                     29.000000              14.000000   \n",
        "mean                    2932.241379             463.428571   \n",
        "std                      681.440316             285.348293   \n",
        "min                     1930.000000             171.000000   \n",
        "25%                     2386.000000             269.750000   \n",
        "50%                     2955.000000             362.500000   \n",
        "75%                     3255.000000             540.750000   \n",
        "max                     4353.000000            1140.000000   \n",
        "\n",
        "       duct_insulation_r_existing  attic_insulation_existing  \\\n",
        "count                   28.000000                  29.000000   \n",
        "mean                     2.378571                   0.097628   \n",
        "std                      1.026088                   0.061691   \n",
        "min                      1.000000                   0.039559   \n",
        "25%                      2.000000                   0.075309   \n",
        "50%                      2.100000                   0.079000   \n",
        "75%                      2.325000                   0.079000   \n",
        "max                      4.200000                   0.305000   \n",
        "\n",
        "       wall_insulation_existing      \n",
        "count                 29.000000 ...  \n",
        "mean                   0.230468 ...  \n",
        "std                    0.124494 ...  \n",
        "min                    0.084681 ...  \n",
        "25%                    0.110000 ...  \n",
        "50%                    0.290958 ...  \n",
        "75%                    0.356000 ...  \n",
        "max                    0.356000 ...  \n",
        "\n",
        "[8 rows x 242 columns]"
       ]
      }
     ],
     "prompt_number": 191
    },
    {
     "cell_type": "markdown",
     "metadata": {},
     "source": [
      "###Output final files, create a combined file, & create Excel workbook"
     ]
    },
    {
     "cell_type": "code",
     "collapsed": false,
     "input": [
      "df.fillna(\"\")\n",
      "df.to_csv(pgeSelect)\n",
      "#df.to_csv(scgSelect)\n",
      "#df.to_csv(sdgeSelect)\n",
      "\n",
      "#Create combined file\n",
      "df.to_csv(combinedSelect)\n",
      "#df.to_excel(combinedSelectX)"
     ],
     "language": "python",
     "metadata": {},
     "outputs": [],
     "prompt_number": 200
    }
   ],
   "metadata": {}
  }
 ]
}