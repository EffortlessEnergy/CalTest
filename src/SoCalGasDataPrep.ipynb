{
 "metadata": {
  "name": ""
 },
 "nbformat": 3,
 "nbformat_minor": 0,
 "worksheets": [
  {
   "cells": [
    {
     "cell_type": "markdown",
     "metadata": {},
     "source": [
      "###Program for cleaning CalTest Data"
     ]
    },
    {
     "cell_type": "code",
     "collapsed": false,
     "input": [
      "import pandas as pd\n",
      "import numpy as np\n",
      "import matplotlib\n",
      "\n",
      "#Define paths\n",
      "scgdataPath = \"/Users/matthewgee/Projects/CalCalc/Data/scgdata/raw files/\"\n",
      "\n",
      "usageData = \"\""
     ],
     "language": "python",
     "metadata": {},
     "outputs": [],
     "prompt_number": 15
    },
    {
     "cell_type": "markdown",
     "metadata": {},
     "source": [
      "###Begin with SoCalGas\n"
     ]
    },
    {
     "cell_type": "code",
     "collapsed": false,
     "input": [
      "!ls $scgdataPath\n"
     ],
     "language": "python",
     "metadata": {},
     "outputs": [
      {
       "output_type": "stream",
       "stream": "stdout",
       "text": [
        "\u001b[31m2013 Monthly_Consumption Anon.zip\u001b[m\u001b[m\r\n",
        "\u001b[31mAdv Path Energy Usage and Meter Read Dates 121013 mb.xlsx\u001b[m\u001b[m\r\n",
        "\u001b[31mAdv Path Energy Usage and Meter Read Dates 121013.xlsx\u001b[m\u001b[m\r\n",
        "\u001b[31mEUC Adv Path Usage Anonymized 120313.xlsx\u001b[m\u001b[m\r\n",
        "\u001b[31mEUC Basic Path Usage Anonymized 120313.xlsx\u001b[m\u001b[m\r\n",
        "\u001b[31mSCE SCG Consumption data unencrypt.xlsx\u001b[m\u001b[m\r\n",
        "\u001b[31mSCE SCG Consumption data.xlsx\u001b[m\u001b[m\r\n",
        "\u001b[31mSCE-SoCalGas EUC Software Project Data_2013_12_11_1unencrypt.xlsx\u001b[m\u001b[m\r\n",
        "\u001b[31mSCGEUC2013_11_11_rev2_gas72withdates.dta\u001b[m\u001b[m\r\n",
        "\u001b[31mUsage121013mb_long.dta\u001b[m\u001b[m\r\n",
        "\u001b[31mdata_rev3.xlsx\u001b[m\u001b[m\r\n",
        "\u001b[31memail_sceinfo_2013_12_11.txt\u001b[m\u001b[m\r\n",
        "\u001b[31mfile_pw_info.txt\u001b[m\u001b[m\r\n",
        "\u001b[31mgas72_20102012.dta\u001b[m\u001b[m\r\n",
        "\u001b[31mgas72_2013.dta\u001b[m\u001b[m\r\n",
        "\u001b[31mgas72_alluse.dta\u001b[m\u001b[m\r\n",
        "\u001b[31mget_scg_11dec2013_1034clean.log\u001b[m\u001b[m\r\n",
        "\u001b[31mprojectinfo_gas72.dta\u001b[m\u001b[m\r\n",
        "\u001b[34mraw files\u001b[m\u001b[m\r\n"
       ]
      }
     ],
     "prompt_number": 16
    },
    {
     "cell_type": "markdown",
     "metadata": {},
     "source": [
      "###Read in Building File with Attributes"
     ]
    },
    {
     "cell_type": "code",
     "collapsed": false,
     "input": [
      "df = pd.ExcelFile(scgdataPath + \"data_rev3.xlsx\")\n",
      "df.sheet_names\n"
     ],
     "language": "python",
     "metadata": {},
     "outputs": [],
     "prompt_number": 26
    },
    {
     "cell_type": "code",
     "collapsed": false,
     "input": [
      "scgBuildingProjectTable= df.parse('Sheet1', header=1)"
     ],
     "language": "python",
     "metadata": {},
     "outputs": []
    },
    {
     "cell_type": "code",
     "collapsed": false,
     "input": [
      "buildingProjectTable.sum()\n",
      "buildingProjectTable\n"
     ],
     "language": "python",
     "metadata": {},
     "outputs": [
      {
       "html": [
        "<pre>\n",
        "&lt;class 'pandas.core.frame.DataFrame'&gt;\n",
        "Int64Index: 601 entries, 0 to 600\n",
        "Data columns (total 48 columns):\n",
        "Site ID                                                  601  non-null values\n",
        "Electric Utility                                         601  non-null values\n",
        "Gas Utility                                              601  non-null values\n",
        "Climate Zone                                             601  non-null values\n",
        "Weather Station                                          601  non-null values\n",
        "Year Built                                               601  non-null values\n",
        "Area                                                     601  non-null values\n",
        "Floors                                                   601  non-null values\n",
        "Foundation Type                                          601  non-null values\n",
        "Heating Fuel                                             601  non-null values\n",
        "Water Heating Fuel                                       601  non-null values\n",
        "Central A/C \n",
        "(Yes or No)                                 601  non-null values\n",
        "Projected Gas Savings (therms/yr)                        601  non-null values\n",
        "Projected Electric Savings \n",
        "(kWh/yr)                     601  non-null values\n",
        "Pre Shell CFM50 Leakage                                  601  non-null values\n",
        "Pre Duct CFM25                                           601  non-null values\n",
        "Retrofit: AC Replace                                     601  non-null values\n",
        "Retrofit: Gas Htr Replace                                601  non-null values\n",
        "Retrofit: Air Sealing                                    601  non-null values\n",
        "Retrofit: Duct Seal                                      601  non-null values\n",
        "Retrofit: Duct Insulation                                601  non-null values\n",
        "Retrofit: Ceiling Insulation                             601  non-null values\n",
        "Retrofit: Floor Insulation                               601  non-null values\n",
        "Retrofit: Wall Insulation                                601  non-null values\n",
        "Retrofit: Window Replace                                 601  non-null values\n",
        "Retrofit: Tankless Gas DHW                               601  non-null values\n",
        "Retrofit: Other                                          601  non-null values\n",
        "Pre Ceiling R Value #1                                   601  non-null values\n",
        "Pre Ceiling R Value #2                                   601  non-null values\n",
        "Pre Floor R Value                                        601  non-null values\n",
        "Pre Wall R Value                                         601  non-null values\n",
        "Pre Duct R Value                                         601  non-null values\n",
        "Pre Window U Value                                       601  non-null values\n",
        "Pre Window SHGC                                          601  non-null values\n",
        "Pre Gas Furnace AFUE                                     601  non-null values\n",
        "Pre A/C SEER                                             601  non-null values\n",
        "Post Shell CFM50 Leakage                                 601  non-null values\n",
        "Post Duct CFM25                                          601  non-null values\n",
        "Post Ceiling R Value #1                                  601  non-null values\n",
        "Post Ceiling R Value #2                                  601  non-null values\n",
        "Post Floor R Value                                       601  non-null values\n",
        "Post Wall  R Value                                       601  non-null values\n",
        "Post Window U Value                                      601  non-null values\n",
        "Post Window SHGC                                         601  non-null values\n",
        "Post Gas Furnace AFUE                                    601  non-null values\n",
        "Post A/C SEER                                            601  non-null values\n",
        "Audit Start Date                                         601  non-null values\n",
        "Retrofit Completion Date (Date Application Submitted)    601  non-null values\n",
        "dtypes: float64(4), object(44)\n",
        "</pre>"
       ],
       "metadata": {},
       "output_type": "pyout",
       "prompt_number": 29,
       "text": [
        "<class 'pandas.core.frame.DataFrame'>\n",
        "Int64Index: 601 entries, 0 to 600\n",
        "Data columns (total 48 columns):\n",
        "Site ID                                                  601  non-null values\n",
        "Electric Utility                                         601  non-null values\n",
        "Gas Utility                                              601  non-null values\n",
        "Climate Zone                                             601  non-null values\n",
        "Weather Station                                          601  non-null values\n",
        "Year Built                                               601  non-null values\n",
        "Area                                                     601  non-null values\n",
        "Floors                                                   601  non-null values\n",
        "Foundation Type                                          601  non-null values\n",
        "Heating Fuel                                             601  non-null values\n",
        "Water Heating Fuel                                       601  non-null values\n",
        "Central A/C \n",
        "(Yes or No)                                 601  non-null values\n",
        "Projected Gas Savings (therms/yr)                        601  non-null values\n",
        "Projected Electric Savings \n",
        "(kWh/yr)                     601  non-null values\n",
        "Pre Shell CFM50 Leakage                                  601  non-null values\n",
        "Pre Duct CFM25                                           601  non-null values\n",
        "Retrofit: AC Replace                                     601  non-null values\n",
        "Retrofit: Gas Htr Replace                                601  non-null values\n",
        "Retrofit: Air Sealing                                    601  non-null values\n",
        "Retrofit: Duct Seal                                      601  non-null values\n",
        "Retrofit: Duct Insulation                                601  non-null values\n",
        "Retrofit: Ceiling Insulation                             601  non-null values\n",
        "Retrofit: Floor Insulation                               601  non-null values\n",
        "Retrofit: Wall Insulation                                601  non-null values\n",
        "Retrofit: Window Replace                                 601  non-null values\n",
        "Retrofit: Tankless Gas DHW                               601  non-null values\n",
        "Retrofit: Other                                          601  non-null values\n",
        "Pre Ceiling R Value #1                                   601  non-null values\n",
        "Pre Ceiling R Value #2                                   601  non-null values\n",
        "Pre Floor R Value                                        601  non-null values\n",
        "Pre Wall R Value                                         601  non-null values\n",
        "Pre Duct R Value                                         601  non-null values\n",
        "Pre Window U Value                                       601  non-null values\n",
        "Pre Window SHGC                                          601  non-null values\n",
        "Pre Gas Furnace AFUE                                     601  non-null values\n",
        "Pre A/C SEER                                             601  non-null values\n",
        "Post Shell CFM50 Leakage                                 601  non-null values\n",
        "Post Duct CFM25                                          601  non-null values\n",
        "Post Ceiling R Value #1                                  601  non-null values\n",
        "Post Ceiling R Value #2                                  601  non-null values\n",
        "Post Floor R Value                                       601  non-null values\n",
        "Post Wall  R Value                                       601  non-null values\n",
        "Post Window U Value                                      601  non-null values\n",
        "Post Window SHGC                                         601  non-null values\n",
        "Post Gas Furnace AFUE                                    601  non-null values\n",
        "Post A/C SEER                                            601  non-null values\n",
        "Audit Start Date                                         601  non-null values\n",
        "Retrofit Completion Date (Date Application Submitted)    601  non-null values\n",
        "dtypes: float64(4), object(44)"
       ]
      }
     ],
     "prompt_number": 29
    },
    {
     "cell_type": "markdown",
     "metadata": {},
     "source": [
      "Convert variables to integers to prepare for merge"
     ]
    },
    {
     "cell_type": "markdown",
     "metadata": {},
     "source": [
      "###Clean and Prepare Energy Usage Data\n",
      "\n",
      "The main usage data comes from \"Adv Path Energy Usage and Meter Read Dates 121013 mb.xlsx\" and \"scg billing data gas72_2013.xlsx\", \"scg billing data gas72_20102012.xlsx\"\n"
     ]
    },
    {
     "cell_type": "code",
     "collapsed": false,
     "input": [
      "#read in Stata data"
     ],
     "language": "python",
     "metadata": {},
     "outputs": []
    },
    {
     "cell_type": "code",
     "collapsed": false,
     "input": [
      "df1 = pd.read_stata(scgdataPath + \"gas72_20102012.dta\")\n",
      "df2 = pd.read_stata(scgdataPath + \"gas72_2013.dta\")\n",
      "df3 = pd.read_stata(scgdataPath + \"gas72_alluse.dta\")\n",
      "df4 = pd.read_stata(scgdataPath + \"projectinfo_gas72.dta\")\n",
      "df5 = pd.read_stata(scgdataPath + \"SCGEUC2013_11_11_rev2_gas72withdates.dta\")\n",
      "\n",
      "#Usage Data\n",
      "\n",
      "\n"
     ],
     "language": "python",
     "metadata": {},
     "outputs": [
      {
       "ename": "ValueError",
       "evalue": "Version of given Stata file is not 104, 105, 108, 113 (Stata 8/9), 114 (Stata 10/11) or 115 (Stata 12)",
       "output_type": "pyerr",
       "traceback": [
        "\u001b[0;31m---------------------------------------------------------------------------\u001b[0m\n\u001b[0;31mValueError\u001b[0m                                Traceback (most recent call last)",
        "\u001b[0;32m<ipython-input-17-be17c3e65024>\u001b[0m in \u001b[0;36m<module>\u001b[0;34m()\u001b[0m\n\u001b[0;32m----> 1\u001b[0;31m \u001b[0mdf1\u001b[0m \u001b[0;34m=\u001b[0m \u001b[0mpd\u001b[0m\u001b[0;34m.\u001b[0m\u001b[0mread_stata\u001b[0m\u001b[0;34m(\u001b[0m\u001b[0mscgdataPath\u001b[0m \u001b[0;34m+\u001b[0m \u001b[0;34m\"gas72_20102012.dta\"\u001b[0m\u001b[0;34m)\u001b[0m\u001b[0;34m\u001b[0m\u001b[0m\n\u001b[0m\u001b[1;32m      2\u001b[0m \u001b[0mdf2\u001b[0m \u001b[0;34m=\u001b[0m \u001b[0mpd\u001b[0m\u001b[0;34m.\u001b[0m\u001b[0mread_stata\u001b[0m\u001b[0;34m(\u001b[0m\u001b[0mscgdataPath\u001b[0m \u001b[0;34m+\u001b[0m \u001b[0;34m\"gas72_2013.dta\"\u001b[0m\u001b[0;34m)\u001b[0m\u001b[0;34m\u001b[0m\u001b[0m\n\u001b[1;32m      3\u001b[0m \u001b[0mdf3\u001b[0m \u001b[0;34m=\u001b[0m \u001b[0mpd\u001b[0m\u001b[0;34m.\u001b[0m\u001b[0mread_stata\u001b[0m\u001b[0;34m(\u001b[0m\u001b[0mscgdataPath\u001b[0m \u001b[0;34m+\u001b[0m \u001b[0;34m\"gas72_alluse.dta\"\u001b[0m\u001b[0;34m)\u001b[0m\u001b[0;34m\u001b[0m\u001b[0m\n\u001b[1;32m      4\u001b[0m \u001b[0mdf4\u001b[0m \u001b[0;34m=\u001b[0m \u001b[0mpd\u001b[0m\u001b[0;34m.\u001b[0m\u001b[0mread_stata\u001b[0m\u001b[0;34m(\u001b[0m\u001b[0mscgdataPath\u001b[0m \u001b[0;34m+\u001b[0m \u001b[0;34m\"projectinfo_gas72.dta\"\u001b[0m\u001b[0;34m)\u001b[0m\u001b[0;34m\u001b[0m\u001b[0m\n\u001b[1;32m      5\u001b[0m \u001b[0mdf5\u001b[0m \u001b[0;34m=\u001b[0m \u001b[0mpd\u001b[0m\u001b[0;34m.\u001b[0m\u001b[0mread_stata\u001b[0m\u001b[0;34m(\u001b[0m\u001b[0mscgdataPath\u001b[0m \u001b[0;34m+\u001b[0m \u001b[0;34m\"SCGEUC2013_11_11_rev2_gas72withdates.dta\"\u001b[0m\u001b[0;34m)\u001b[0m\u001b[0;34m\u001b[0m\u001b[0m\n",
        "\u001b[0;32m/Users/matthewgee/Library/Enthought/Canopy_64bit/User/lib/python2.7/site-packages/pandas/io/stata.pyc\u001b[0m in \u001b[0;36mread_stata\u001b[0;34m(filepath_or_buffer, convert_dates, convert_categoricals, encoding, index)\u001b[0m\n\u001b[1;32m     36\u001b[0m \u001b[0;34m@\u001b[0m\u001b[0mAppender\u001b[0m\u001b[0;34m(\u001b[0m\u001b[0m_read_stata_doc\u001b[0m\u001b[0;34m)\u001b[0m\u001b[0;34m\u001b[0m\u001b[0m\n\u001b[1;32m     37\u001b[0m \u001b[0;32mdef\u001b[0m \u001b[0mread_stata\u001b[0m\u001b[0;34m(\u001b[0m\u001b[0mfilepath_or_buffer\u001b[0m\u001b[0;34m,\u001b[0m \u001b[0mconvert_dates\u001b[0m\u001b[0;34m=\u001b[0m\u001b[0mTrue\u001b[0m\u001b[0;34m,\u001b[0m \u001b[0mconvert_categoricals\u001b[0m\u001b[0;34m=\u001b[0m\u001b[0mTrue\u001b[0m\u001b[0;34m,\u001b[0m \u001b[0mencoding\u001b[0m\u001b[0;34m=\u001b[0m\u001b[0mNone\u001b[0m\u001b[0;34m,\u001b[0m \u001b[0mindex\u001b[0m\u001b[0;34m=\u001b[0m\u001b[0mNone\u001b[0m\u001b[0;34m)\u001b[0m\u001b[0;34m:\u001b[0m\u001b[0;34m\u001b[0m\u001b[0m\n\u001b[0;32m---> 38\u001b[0;31m     \u001b[0mreader\u001b[0m \u001b[0;34m=\u001b[0m \u001b[0mStataReader\u001b[0m\u001b[0;34m(\u001b[0m\u001b[0mfilepath_or_buffer\u001b[0m\u001b[0;34m,\u001b[0m \u001b[0mencoding\u001b[0m\u001b[0;34m)\u001b[0m\u001b[0;34m\u001b[0m\u001b[0m\n\u001b[0m\u001b[1;32m     39\u001b[0m \u001b[0;34m\u001b[0m\u001b[0m\n\u001b[1;32m     40\u001b[0m     \u001b[0;32mreturn\u001b[0m \u001b[0mreader\u001b[0m\u001b[0;34m.\u001b[0m\u001b[0mdata\u001b[0m\u001b[0;34m(\u001b[0m\u001b[0mconvert_dates\u001b[0m\u001b[0;34m,\u001b[0m \u001b[0mconvert_categoricals\u001b[0m\u001b[0;34m,\u001b[0m \u001b[0mindex\u001b[0m\u001b[0;34m)\u001b[0m\u001b[0;34m\u001b[0m\u001b[0m\n",
        "\u001b[0;32m/Users/matthewgee/Library/Enthought/Canopy_64bit/User/lib/python2.7/site-packages/pandas/io/stata.pyc\u001b[0m in \u001b[0;36m__init__\u001b[0;34m(self, path_or_buf, encoding)\u001b[0m\n\u001b[1;32m    303\u001b[0m             \u001b[0mself\u001b[0m\u001b[0;34m.\u001b[0m\u001b[0mpath_or_buf\u001b[0m \u001b[0;34m=\u001b[0m \u001b[0mpath_or_buf\u001b[0m\u001b[0;34m\u001b[0m\u001b[0m\n\u001b[1;32m    304\u001b[0m \u001b[0;34m\u001b[0m\u001b[0m\n\u001b[0;32m--> 305\u001b[0;31m         \u001b[0mself\u001b[0m\u001b[0;34m.\u001b[0m\u001b[0m_read_header\u001b[0m\u001b[0;34m(\u001b[0m\u001b[0;34m)\u001b[0m\u001b[0;34m\u001b[0m\u001b[0m\n\u001b[0m\u001b[1;32m    306\u001b[0m \u001b[0;34m\u001b[0m\u001b[0m\n\u001b[1;32m    307\u001b[0m     \u001b[0;32mdef\u001b[0m \u001b[0m_read_header\u001b[0m\u001b[0;34m(\u001b[0m\u001b[0mself\u001b[0m\u001b[0;34m)\u001b[0m\u001b[0;34m:\u001b[0m\u001b[0;34m\u001b[0m\u001b[0m\n",
        "\u001b[0;32m/Users/matthewgee/Library/Enthought/Canopy_64bit/User/lib/python2.7/site-packages/pandas/io/stata.pyc\u001b[0m in \u001b[0;36m_read_header\u001b[0;34m(self)\u001b[0m\n\u001b[1;32m    309\u001b[0m         \u001b[0mself\u001b[0m\u001b[0;34m.\u001b[0m\u001b[0mformat_version\u001b[0m \u001b[0;34m=\u001b[0m \u001b[0mstruct\u001b[0m\u001b[0;34m.\u001b[0m\u001b[0munpack\u001b[0m\u001b[0;34m(\u001b[0m\u001b[0;34m'b'\u001b[0m\u001b[0;34m,\u001b[0m \u001b[0mself\u001b[0m\u001b[0;34m.\u001b[0m\u001b[0mpath_or_buf\u001b[0m\u001b[0;34m.\u001b[0m\u001b[0mread\u001b[0m\u001b[0;34m(\u001b[0m\u001b[0;36m1\u001b[0m\u001b[0;34m)\u001b[0m\u001b[0;34m)\u001b[0m\u001b[0;34m[\u001b[0m\u001b[0;36m0\u001b[0m\u001b[0;34m]\u001b[0m\u001b[0;34m\u001b[0m\u001b[0m\n\u001b[1;32m    310\u001b[0m         \u001b[0;32mif\u001b[0m \u001b[0mself\u001b[0m\u001b[0;34m.\u001b[0m\u001b[0mformat_version\u001b[0m \u001b[0;32mnot\u001b[0m \u001b[0;32min\u001b[0m \u001b[0;34m[\u001b[0m\u001b[0;36m104\u001b[0m\u001b[0;34m,\u001b[0m \u001b[0;36m105\u001b[0m\u001b[0;34m,\u001b[0m \u001b[0;36m108\u001b[0m\u001b[0;34m,\u001b[0m \u001b[0;36m113\u001b[0m\u001b[0;34m,\u001b[0m \u001b[0;36m114\u001b[0m\u001b[0;34m,\u001b[0m \u001b[0;36m115\u001b[0m\u001b[0;34m]\u001b[0m\u001b[0;34m:\u001b[0m\u001b[0;34m\u001b[0m\u001b[0m\n\u001b[0;32m--> 311\u001b[0;31m             \u001b[0;32mraise\u001b[0m \u001b[0mValueError\u001b[0m\u001b[0;34m(\u001b[0m\u001b[0;34m\"Version of given Stata file is not 104, 105, 108, 113 (Stata 8/9), 114 (Stata 10/11) or 115 (Stata 12)\"\u001b[0m\u001b[0;34m)\u001b[0m\u001b[0;34m\u001b[0m\u001b[0m\n\u001b[0m\u001b[1;32m    312\u001b[0m         \u001b[0mself\u001b[0m\u001b[0;34m.\u001b[0m\u001b[0mbyteorder\u001b[0m \u001b[0;34m=\u001b[0m \u001b[0mself\u001b[0m\u001b[0;34m.\u001b[0m\u001b[0mpath_or_buf\u001b[0m\u001b[0;34m.\u001b[0m\u001b[0mread\u001b[0m\u001b[0;34m(\u001b[0m\u001b[0;36m1\u001b[0m\u001b[0;34m)\u001b[0m \u001b[0;34m==\u001b[0m \u001b[0;36m0x1\u001b[0m \u001b[0;32mand\u001b[0m \u001b[0;34m'>'\u001b[0m \u001b[0;32mor\u001b[0m \u001b[0;34m'<'\u001b[0m\u001b[0;34m\u001b[0m\u001b[0m\n\u001b[1;32m    313\u001b[0m         \u001b[0mself\u001b[0m\u001b[0;34m.\u001b[0m\u001b[0mfiletype\u001b[0m \u001b[0;34m=\u001b[0m \u001b[0mstruct\u001b[0m\u001b[0;34m.\u001b[0m\u001b[0munpack\u001b[0m\u001b[0;34m(\u001b[0m\u001b[0;34m'b'\u001b[0m\u001b[0;34m,\u001b[0m \u001b[0mself\u001b[0m\u001b[0;34m.\u001b[0m\u001b[0mpath_or_buf\u001b[0m\u001b[0;34m.\u001b[0m\u001b[0mread\u001b[0m\u001b[0;34m(\u001b[0m\u001b[0;36m1\u001b[0m\u001b[0;34m)\u001b[0m\u001b[0;34m)\u001b[0m\u001b[0;34m[\u001b[0m\u001b[0;36m0\u001b[0m\u001b[0;34m]\u001b[0m\u001b[0;34m\u001b[0m\u001b[0m\n",
        "\u001b[0;31mValueError\u001b[0m: Version of given Stata file is not 104, 105, 108, 113 (Stata 8/9), 114 (Stata 10/11) or 115 (Stata 12)"
       ]
      }
     ],
     "prompt_number": 17
    },
    {
     "cell_type": "markdown",
     "metadata": {},
     "source": [
      "###Merge SCG Data to construct balanced panel"
     ]
    },
    {
     "cell_type": "code",
     "collapsed": false,
     "input": [],
     "language": "python",
     "metadata": {},
     "outputs": []
    }
   ],
   "metadata": {}
  }
 ]
}