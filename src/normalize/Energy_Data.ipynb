{
 "metadata": {
  "name": "",
  "signature": "sha256:9810b5a14e090e3d90714ab656381d581fc6c9bbd709b728976fe0810291303a"
 },
 "nbformat": 3,
 "nbformat_minor": 0,
 "worksheets": [
  {
   "cells": [
    {
     "cell_type": "markdown",
     "metadata": {},
     "source": [
      "##Test code for use data preparation"
     ]
    },
    {
     "cell_type": "code",
     "collapsed": false,
     "input": [
      "__author__='Matt Gee'\n",
      "\n",
      "import pandas as pd\n",
      "import numpy as np\n",
      "\n",
      "project_data = \"/Users/matthewgee/Projects/CalTest/data/selected/CalTest_selected_homes_account_info.csv\"\n",
      "gas_data = \"/Users/matthewgee/Projects/CalTest/data/combined/CalTest_selected_gas_data.csv\"\n",
      "elec_data = \"/Users/matthewgee/Projects/CalTest/data/combined/CalTest_selected_elec_data.csv\""
     ],
     "language": "python",
     "metadata": {},
     "outputs": [],
     "prompt_number": 1
    },
    {
     "cell_type": "code",
     "collapsed": false,
     "input": [
      "class EnergySettings():\n",
      "    \"\"\"Class for the settings object that includes all necessary settings for greating standard energy datasets\n",
      "    \"\"\"\n",
      "    \n",
      "    def __init__(gas_data,elec_data,gas_namedict={'account_id':'account_number','date':'date','use':'therms'},elec_namedict={'account_id':'account_id','bill_date':'date','use':'therms'}):\n",
      "    \n",
      "        self.gas_data = gas_data\n",
      "        self.elec_data = elec_data\n",
      "        self.gas_namedict = gas_namedict\n",
      "        self.elec_namedict = elec_namedict\n",
      "        \n",
      "        pass\n",
      "    \n",
      "\n",
      "class Energyuse():\n",
      "    \"\"\"Logif for dealing with energy use data & converting it to standard format\n",
      "        \n",
      "        input files must contain\n",
      "    \"\"\"\n",
      "    \n",
      "    def __init__(self,gas_data, elec_data, energy_settings):\n",
      "        \"\"\"Instantiates an energy data class\n",
      "        \"\"\"\n",
      "        self.gas_data = gas_data\n",
      "        self.elec_data = elec_data\n",
      "        self.gas_data = self.prepare(self.gas_data,energy_settings)\n",
      "        \n",
      "        pass\n",
      "    \n",
      "    def create_gas(gas_data, gas_namedict):\n",
      "        \"\"\"\n",
      "        Energy Use datasets are required to have: \n",
      "            a bill date (assumed to be bill start)\n",
      "            monthly use (gas in therms, electricity in kwh)\n",
      "            date dictionary or dataframe indicating date of retrofit\n",
      "        \"\"\"\n",
      "        \n",
      "    def create_elec(elec_data, elec_namedict):\n",
      "        \n",
      "        return elecdata\n",
      "        \n",
      "    def prepare(data,energy_settings):\n",
      "        \"\"\"\n",
      "        \"\"\"\n",
      "        \n",
      "        #convert bill date to datetime\n",
      "        \n",
      "        #calculate bill length\n",
      "        \n",
      "        #create daily use by month\n",
      "        data['use_per_day'] = data['use']/data['bill_period_length']\n",
      "        \n",
      "        #create indicator for pre/post\n",
      "        data['pre'] = data['retrofit_date']>data['bill_date']\n",
      "        data['post'] = data['retrofit_date']<data['bill_date']\n",
      "        \n",
      "        return data\n",
      "        \n",
      "        "
     ],
     "language": "python",
     "metadata": {},
     "outputs": [
      {
       "ename": "SyntaxError",
       "evalue": "invalid syntax (<ipython-input-4-29b672267c93>, line 1)",
       "output_type": "pyerr",
       "traceback": [
        "\u001b[0;36m  File \u001b[0;32m\"<ipython-input-4-29b672267c93>\"\u001b[0;36m, line \u001b[0;32m1\u001b[0m\n\u001b[0;31m    class EnergySettings(gas_data,elec_data,gas_namedict=, elec_namedict):\u001b[0m\n\u001b[0m                                                        ^\u001b[0m\n\u001b[0;31mSyntaxError\u001b[0m\u001b[0;31m:\u001b[0m invalid syntax\n"
       ]
      }
     ],
     "prompt_number": 4
    },
    {
     "cell_type": "code",
     "collapsed": false,
     "input": [],
     "language": "python",
     "metadata": {},
     "outputs": []
    }
   ],
   "metadata": {}
  }
 ]
}