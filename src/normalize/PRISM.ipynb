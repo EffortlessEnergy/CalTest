{
 "metadata": {
  "name": "",
  "signature": "sha256:ec2e7e7572e213858417fa60ee951978edd2e509d42235bb2eb1d63353d5a655"
 },
 "nbformat": 3,
 "nbformat_minor": 0,
 "worksheets": [
  {
   "cells": [
    {
     "cell_type": "markdown",
     "metadata": {},
     "source": [
      "##Test code for PRISM implementation\n"
     ]
    },
    {
     "cell_type": "code",
     "collapsed": false,
     "input": [
      "__author__= 'Matt Gee'\n",
      "\n",
      "import pandas as pd\n",
      "import statsmodels.formula.api as smf\n",
      "import numpy as np\n",
      "\n"
     ],
     "language": "python",
     "metadata": {},
     "outputs": [],
     "prompt_number": 3
    },
    {
     "cell_type": "code",
     "collapsed": false,
     "input": [
      "class NormalizeSettings():\n",
      "    \"\"\"Class that includes normalization settings\n",
      "    \"\"\"\n",
      "    \n",
      "    def __init__():\n",
      "        \"\"\"Instatiate a class for normalizing energy use\n",
      "        \"\"\"\n",
      "\n",
      "class Normalize():\n",
      "    \"\"\"Takes standardized weather data and standardized energy use data\n",
      "    \"\"\"\n",
      "    def __init__(hdd_data,cdd_data,gas_data,elec_data,hdd_range,cdd_range,cluster=none):\n",
      "        \"\"\"Initialize normalize class\n",
      "        \"\"\"\n",
      "        \n",
      "    def prism(combine_data,hddonly==True, cddonly==False):\n",
      "        \"\"\"Runs static prism\n",
      "        \"\"\"\n",
      "        if hddonly==True:\n",
      "            model = smf.ols(formula = 'use_per_day ~ hdd', data=combined_data)\n",
      "        else if cddonly==True:\n",
      "            model = smf.ols(formula = 'use_per_day ~ cdd', data=combined_data)\n",
      "        else :\n",
      "            model = smf.ols(formula = 'use_per_day ~ hdd + cdd', data=combined_data)\n",
      "        \n",
      "        results = model.summary()\n",
      "        \n",
      "        #create per-account baseline, hdd\n",
      "        \n",
      "    def prism_search"
     ],
     "language": "python",
     "metadata": {},
     "outputs": []
    }
   ],
   "metadata": {}
  }
 ]
}