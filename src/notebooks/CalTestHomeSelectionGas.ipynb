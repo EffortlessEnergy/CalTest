{
 "metadata": {
  "name": ""
 },
 "nbformat": 3,
 "nbformat_minor": 0,
 "worksheets": [
  {
   "cells": [
    {
     "cell_type": "markdown",
     "metadata": {},
     "source": [
      "##CalTest Home Selection Gas\n",
      "\n",
      "*The purpose of home selection is to find a reprentative set of homes for CalTest. Representitiveness was determined by the following criteria:*\n",
      "\n",
      "1. Contractor (Completed by preferred contractors)\n",
      "2. Pre-retrofit air leakage (25th-90th percentile of CFM50)\n",
      "3. Energy intesity (25th-90th percentile)\n",
      "4. Gas heat + gas hot water (Required)\n",
      "5. Stories (1, optional)\n",
      "6. Total conditioned area (20th-80th percentile)\n",
      "7. Total gas use (40th-90th percentile)\n",
      "8. Total gas savings (>40th percentile)\n",
      "9. Gas realization rate (25th-75th percentile)\n",
      "10. Fit on heating degree days regression ($R^2>.9$)\n",
      "11. Year built (>1950)\n",
      "12. Climate grouping (evenly distributed across 3 main groups)\n",
      "13. Utility (representative sample from each IOU)\n",
      "\n",
      "The final dataset `CalTest_test_homes_v1_4-1.csv` consists of 28 homes that form a representative distribution of home types, climate areas, and measures, while also meeting the selection criteria above.\n",
      "\n",
      "Test homes are also displayed in the likely format for vendors in the excel spreadsheet `CalTest_beta_v3_April_2.xls`.\n"
     ]
    },
    {
     "cell_type": "markdown",
     "metadata": {},
     "source": [
      "####Steps in home selection"
     ]
    },
    {
     "cell_type": "markdown",
     "metadata": {},
     "source": [
      "Begin with combined dataset of cleaned home charateristics with weather normalized data.\n",
      "\n",
      "    CalTest_combined_project_data_cleaned.csv\n",
      "    CalTest_combined_usage_data_cleaned.csv"
     ]
    },
    {
     "cell_type": "code",
     "collapsed": false,
     "input": [
      "import pandas as pd\n",
      "import matplotlib as plt\n",
      "\n",
      "#specify dataset\n",
      "useData = \"/Users/matthewgee/Projects/CalTest/data/final/\" + str(util) +\"_CalTest_data_prepped.csv\"\n",
      "\n",
      "#specify path\n",
      "savePath = \"/Users/matthewgee/Projects/CalTest/data/final/\"\n",
      "\n",
      "\n",
      "#Define switch class\n",
      "class switch(object):\n",
      "    def __init__(self, value):\n",
      "        self.value = value\n",
      "        self.fall = False\n",
      "\n",
      "    def __iter__(self):\n",
      "        \"\"\"Return the match method once, then stop\"\"\"\n",
      "        yield self.match\n",
      "        raise StopIteration\n",
      "    \n",
      "    def match(self, *args):\n",
      "        \"\"\"Indicate whether or not to enter a case suite\"\"\"\n",
      "        if self.fall or not args:\n",
      "            return True\n",
      "        elif self.value in args: # changed for v1.5, see below\n",
      "            self.fall = True\n",
      "            return True\n",
      "        else:\n",
      "            return False"
     ],
     "language": "python",
     "metadata": {},
     "outputs": [],
     "prompt_number": 545
    },
    {
     "cell_type": "code",
     "collapsed": false,
     "input": [
      "#set utility and climate group for run\n",
      "#loop through scg, sdge pge\n",
      "#loop throug climate group 1,2,3 for PGE\n",
      "#loop through climategroup 4,5 for SCG\n",
      "#loop through climate group 6,7 for SDGE\n",
      "\n",
      "util = \"scg\"\n",
      "climategroup = 5\n",
      "\n",
      "#Output filenames\n",
      "dataSelect = \"/Users/matthewgee/Projects/CalTest/data/final/\" + str(util) + \"_CalTest_gas_group_\" + str(climategroup) +\".csv\"\n",
      "combinedSelect = \"/Users/matthewgee/Projects/CalTest/data/final/\" + str(util) + \"_combined_CalTest_gas.csv\"\n",
      "combinedSelectX = \"/Users/matthewgee/Projects/CalTest/data/final/\" + str(util) + \"_combined_CalTest_gas.xls\""
     ],
     "language": "python",
     "metadata": {},
     "outputs": [],
     "prompt_number": 546
    },
    {
     "cell_type": "markdown",
     "metadata": {},
     "source": [
      "####Read in data as dataframes, and identify homes by utility\n"
     ]
    },
    {
     "cell_type": "code",
     "collapsed": false,
     "input": [
      "df = pd.read_csv(useData)\n",
      "\n",
      "len(df)"
     ],
     "language": "python",
     "metadata": {},
     "outputs": [
      {
       "metadata": {},
       "output_type": "pyout",
       "prompt_number": 547,
       "text": [
        "72"
       ]
      }
     ],
     "prompt_number": 547
    },
    {
     "cell_type": "code",
     "collapsed": false,
     "input": [
      "df.climate.value_counts()"
     ],
     "language": "python",
     "metadata": {},
     "outputs": [
      {
       "metadata": {},
       "output_type": "pyout",
       "prompt_number": 548,
       "text": [
        "9               44\n",
        "8               12\n",
        "6                5\n",
        "5                3\n",
        "13               3\n",
        "4                2\n",
        "Not Provided     1\n",
        "12               1\n",
        "16               1\n",
        "dtype: int64"
       ]
      }
     ],
     "prompt_number": 548
    },
    {
     "cell_type": "code",
     "collapsed": false,
     "input": [
      "#Create climate zone-specific datasets\n",
      "# PG&E (12, 3), (4, 11, 2), (13,16,5,&7) \n",
      "for case in switch(climategroup):\n",
      "    if case(1):\n",
      "        df = df[(df['climate']==12) | (df['climate']==3)]\n",
      "        df = df[df.preffered_contractor==1]\n",
      "        break\n",
      "    if case(2):\n",
      "        df = df[(df['climate']==11) | (df['climate']==2) | (df['climate']==4)]\n",
      "        break\n",
      "    if case(3):\n",
      "        df = df[(df['climate']==13) | (df['climate']==16) | (df['climate']==5) | (df['climate']==7)]\n",
      "        break\n",
      "    if case(4):\n",
      "        df = df[(df['climate']==\"9\")]\n",
      "        break \n",
      "    if case(5):\n",
      "        df = df[(df['climate']!=\"9\")]\n",
      "        break     \n",
      "    if case():\n",
      "        print \"No climate group\"\n",
      "        break\n",
      "len(df)"
     ],
     "language": "python",
     "metadata": {},
     "outputs": [
      {
       "metadata": {},
       "output_type": "pyout",
       "prompt_number": 549,
       "text": [
        "28"
       ]
      }
     ],
     "prompt_number": 549
    },
    {
     "cell_type": "code",
     "collapsed": false,
     "input": [
      "df.gas_realization.describe()\n"
     ],
     "language": "python",
     "metadata": {},
     "outputs": [
      {
       "metadata": {},
       "output_type": "pyout",
       "prompt_number": 550,
       "text": [
        "count    28.000000\n",
        "mean      0.533844\n",
        "std       0.743747\n",
        "min      -0.792565\n",
        "25%       0.107542\n",
        "50%       0.462214\n",
        "75%       0.899532\n",
        "max       1.936691\n",
        "Name: gas_realization, dtype: float64"
       ]
      }
     ],
     "prompt_number": 550
    },
    {
     "cell_type": "markdown",
     "metadata": {},
     "source": [
      "Subset by contractor"
     ]
    },
    {
     "cell_type": "code",
     "collapsed": false,
     "input": [
      "df.contractor.value_counts()"
     ],
     "language": "python",
     "metadata": {},
     "outputs": [
      {
       "metadata": {},
       "output_type": "pyout",
       "prompt_number": 551,
       "text": [
        "Series([], dtype: int64)"
       ]
      }
     ],
     "prompt_number": 551
    },
    {
     "cell_type": "code",
     "collapsed": false,
     "input": [
      "#I no longer screen by contractor size\n",
      "#g = df.groupby('contractor')\n",
      "#df = g.filter(lambda x: len(x) > 5)\n",
      "#df.contractor.value_counts()"
     ],
     "language": "python",
     "metadata": {},
     "outputs": [],
     "prompt_number": 552
    },
    {
     "cell_type": "code",
     "collapsed": false,
     "input": [
      "#df = df[df.preffered_contractor==1]\n",
      "#len(df)"
     ],
     "language": "python",
     "metadata": {},
     "outputs": [],
     "prompt_number": 553
    },
    {
     "cell_type": "markdown",
     "metadata": {},
     "source": [
      "####Filter by quantile of pre-retrofit CFM50\n"
     ]
    },
    {
     "cell_type": "code",
     "collapsed": false,
     "input": [
      "df.shell_leakage_cfm50_existing.describe()"
     ],
     "language": "python",
     "metadata": {},
     "outputs": [
      {
       "metadata": {},
       "output_type": "pyout",
       "prompt_number": 554,
       "text": [
        "count      28.000000\n",
        "mean     4096.889286\n",
        "std      2342.287178\n",
        "min         4.900000\n",
        "25%      2263.500000\n",
        "50%      3661.500000\n",
        "75%      5385.500000\n",
        "max      9200.000000\n",
        "Name: shell_leakage_cfm50_existing, dtype: float64"
       ]
      }
     ],
     "prompt_number": 554
    },
    {
     "cell_type": "markdown",
     "metadata": {},
     "source": [
      "Histogram of pre-retrofi CFM50\n"
     ]
    },
    {
     "cell_type": "code",
     "collapsed": false,
     "input": [
      "df.shell_leakage_cfm50_existing.hist(figsize=(10,5))"
     ],
     "language": "python",
     "metadata": {},
     "outputs": [
      {
       "metadata": {},
       "output_type": "pyout",
       "prompt_number": 555,
       "text": [
        "<matplotlib.axes.AxesSubplot at 0x11f7c6a50>"
       ]
      },
      {
       "metadata": {},
       "output_type": "display_data",
       "png": "[encoded data removed]",
       "text": [
        "<matplotlib.figure.Figure at 0x11f7bee50>"
       ]
      }
     ],
     "prompt_number": 555
    },
    {
     "cell_type": "markdown",
     "metadata": {},
     "source": [
      "Remove lower 25% percentile and top 10 percentile of CFM50"
     ]
    },
    {
     "cell_type": "code",
     "collapsed": false,
     "input": [
      "df = df[df.shell_leakage_cfm50_existing < df.shell_leakage_cfm50_existing.quantile(.90)]\n",
      "df = df[df.shell_leakage_cfm50_existing.quantile(.25) < df.shell_leakage_cfm50_existing]\n",
      "df.shell_leakage_cfm50_existing.hist(figsize(10,5))"
     ],
     "language": "python",
     "metadata": {},
     "outputs": [
      {
       "metadata": {},
       "output_type": "pyout",
       "prompt_number": 556,
       "text": [
        "<matplotlib.axes.AxesSubplot at 0x11fad9d90>"
       ]
      },
      {
       "metadata": {},
       "output_type": "display_data",
       "png": "[encoded data removed]",
       "text": [
        "<matplotlib.figure.Figure at 0x11facfe90>"
       ]
      }
     ],
     "prompt_number": 556
    },
    {
     "cell_type": "markdown",
     "metadata": {},
     "source": [
      "New distribution of CFM50"
     ]
    },
    {
     "cell_type": "code",
     "collapsed": false,
     "input": [
      "len(df)"
     ],
     "language": "python",
     "metadata": {},
     "outputs": [
      {
       "metadata": {},
       "output_type": "pyout",
       "prompt_number": 557,
       "text": [
        "18"
       ]
      }
     ],
     "prompt_number": 557
    },
    {
     "cell_type": "markdown",
     "metadata": {},
     "source": [
      "###Select by energy intensity"
     ]
    },
    {
     "cell_type": "code",
     "collapsed": false,
     "input": [
      "df.energy_intensity.hist(figsize=(10,5))"
     ],
     "language": "python",
     "metadata": {},
     "outputs": [
      {
       "metadata": {},
       "output_type": "pyout",
       "prompt_number": 558,
       "text": [
        "<matplotlib.axes.AxesSubplot at 0x11facf4d0>"
       ]
      },
      {
       "metadata": {},
       "output_type": "display_data",
       "png": "[encoded data removed]",
       "text": [
        "<matplotlib.figure.Figure at 0x11fad73d0>"
       ]
      }
     ],
     "prompt_number": 558
    },
    {
     "cell_type": "markdown",
     "metadata": {},
     "source": [
      "\n",
      "Remove lower 25 percentile and top 10 percentile of CFM50"
     ]
    },
    {
     "cell_type": "code",
     "collapsed": false,
     "input": [
      "#df = df[df.energy_intensity < df.energy_intensity.quantile(.90)]\n",
      "#df = df[df.energy_intensity.quantile(.25) < df.energy_intensity]\n",
      "#df.energy_intensity.hist(figsize=(10,5))"
     ],
     "language": "python",
     "metadata": {},
     "outputs": [],
     "prompt_number": 559
    },
    {
     "cell_type": "markdown",
     "metadata": {},
     "source": [
      "###Gas heating and gas hot water\n"
     ]
    },
    {
     "cell_type": "code",
     "collapsed": false,
     "input": [
      "df = df[df.gas_heat==1]\n",
      "#df = df[df.gas_hotwater==1]\n",
      "len(df)"
     ],
     "language": "python",
     "metadata": {},
     "outputs": [
      {
       "metadata": {},
       "output_type": "pyout",
       "prompt_number": 560,
       "text": [
        "18"
       ]
      }
     ],
     "prompt_number": 560
    },
    {
     "cell_type": "markdown",
     "metadata": {},
     "source": [
      "###Remove based on number of stories\n",
      "For now we are including only 1 story buildings\n"
     ]
    },
    {
     "cell_type": "code",
     "collapsed": false,
     "input": [
      "#df.stories_above_grade.value_counts()"
     ],
     "language": "python",
     "metadata": {},
     "outputs": [],
     "prompt_number": 561
    },
    {
     "cell_type": "code",
     "collapsed": false,
     "input": [
      "#keep 1 & 2 stories\n",
      "#df = df[df.stories_above_grade==1]\n",
      "#len(df)"
     ],
     "language": "python",
     "metadata": {},
     "outputs": [],
     "prompt_number": 562
    },
    {
     "cell_type": "markdown",
     "metadata": {},
     "source": [
      "###Subset by total area\n",
      "\n",
      "Look at the distribution of total conditioned area across the subset of homes."
     ]
    },
    {
     "cell_type": "code",
     "collapsed": false,
     "input": [
      "df.pre_conditioned_area.hist(figsize=(10,5))"
     ],
     "language": "python",
     "metadata": {},
     "outputs": [
      {
       "metadata": {},
       "output_type": "pyout",
       "prompt_number": 563,
       "text": [
        "<matplotlib.axes.AxesSubplot at 0x1200c6550>"
       ]
      },
      {
       "metadata": {},
       "output_type": "display_data",
       "png": "[encoded data removed]",
       "text": [
        "<matplotlib.figure.Figure at 0x11fad8990>"
       ]
      }
     ],
     "prompt_number": 563
    },
    {
     "cell_type": "markdown",
     "metadata": {},
     "source": [
      "Dropping the lower and upper 20% of the distribution"
     ]
    },
    {
     "cell_type": "code",
     "collapsed": false,
     "input": [
      "df = df[df.pre_conditioned_area < df.pre_conditioned_area.quantile(.80)]\n",
      "df = df[df.pre_conditioned_area.quantile(.20) < df.pre_conditioned_area]\n",
      "df.pre_conditioned_area.hist(figsize=(10,5))"
     ],
     "language": "python",
     "metadata": {},
     "outputs": [
      {
       "metadata": {},
       "output_type": "pyout",
       "prompt_number": 564,
       "text": [
        "<matplotlib.axes.AxesSubplot at 0x1202d03d0>"
       ]
      },
      {
       "metadata": {},
       "output_type": "display_data",
       "png": "[encoded data removed]",
       "text": [
        "<matplotlib.figure.Figure at 0x1202d8c50>"
       ]
      }
     ],
     "prompt_number": 564
    },
    {
     "cell_type": "markdown",
     "metadata": {},
     "source": [
      "###Subset on total gas savings\n",
      "We select for the upper 60% and remove only the top 3% from the total realized savings distribution to ensure there is enough signal in the sample homes for testing."
     ]
    },
    {
     "cell_type": "code",
     "collapsed": false,
     "input": [
      "df.gas_savings.hist(figsize=(10,5))"
     ],
     "language": "python",
     "metadata": {},
     "outputs": [
      {
       "metadata": {},
       "output_type": "pyout",
       "prompt_number": 565,
       "text": [
        "<matplotlib.axes.AxesSubplot at 0x1200cab10>"
       ]
      },
      {
       "metadata": {},
       "output_type": "display_data",
       "png": "[encoded data removed]",
       "text": [
        "<matplotlib.figure.Figure at 0x1202d32d0>"
       ]
      }
     ],
     "prompt_number": 565
    },
    {
     "cell_type": "code",
     "collapsed": false,
     "input": [
      "df = df[df.gas_savings < df.gas_savings.quantile(.97)]\n",
      "df = df[df.gas_savings.quantile(.40) < df.gas_savings]\n",
      "df.gas_savings.hist(figsize=(10,5))"
     ],
     "language": "python",
     "metadata": {},
     "outputs": [
      {
       "metadata": {},
       "output_type": "pyout",
       "prompt_number": 566,
       "text": [
        "<matplotlib.axes.AxesSubplot at 0x1205e3d90>"
       ]
      },
      {
       "metadata": {},
       "output_type": "display_data",
       "png": "[encoded data removed]",
       "text": [
        "<matplotlib.figure.Figure at 0x1205e5990>"
       ]
      }
     ],
     "prompt_number": 566
    },
    {
     "cell_type": "code",
     "collapsed": false,
     "input": [
      "len(df)"
     ],
     "language": "python",
     "metadata": {},
     "outputs": [
      {
       "metadata": {},
       "output_type": "pyout",
       "prompt_number": 567,
       "text": [
        "6"
       ]
      }
     ],
     "prompt_number": 567
    },
    {
     "cell_type": "markdown",
     "metadata": {},
     "source": [
      "###Subset on Realization Rate\n",
      "\n",
      "Examining the distribution of realization rates for gas and electricity"
     ]
    },
    {
     "cell_type": "code",
     "collapsed": false,
     "input": [
      "#Gas Realization rates\n",
      "df.gas_realization.hist()"
     ],
     "language": "python",
     "metadata": {},
     "outputs": [
      {
       "metadata": {},
       "output_type": "pyout",
       "prompt_number": 568,
       "text": [
        "<matplotlib.axes.AxesSubplot at 0x120a8acd0>"
       ]
      },
      {
       "metadata": {},
       "output_type": "display_data",
       "png": "[encoded data removed]",
       "text": [
        "<matplotlib.figure.Figure at 0x1202fa850>"
       ]
      }
     ],
     "prompt_number": 568
    },
    {
     "cell_type": "code",
     "collapsed": false,
     "input": [
      "#Electricity Realization rates\n",
      "df.elec_realization.hist()"
     ],
     "language": "python",
     "metadata": {},
     "outputs": [
      {
       "metadata": {},
       "output_type": "pyout",
       "prompt_number": 569,
       "text": [
        "<matplotlib.axes.AxesSubplot at 0x120a9e650>"
       ]
      },
      {
       "metadata": {},
       "output_type": "display_data",
       "png": "[encoded data removed]",
       "text": [
        "<matplotlib.figure.Figure at 0x1202d5550>"
       ]
      }
     ],
     "prompt_number": 569
    },
    {
     "cell_type": "markdown",
     "metadata": {},
     "source": [
      "Drop the upper and lower 25th percentiles for both gas and electrcity"
     ]
    },
    {
     "cell_type": "code",
     "collapsed": false,
     "input": [
      "df = df[df.gas_realization < df.gas_realization.quantile(.80)]\n",
      "df = df[df.gas_realization.quantile(.20) < df.gas_realization]\n",
      "df.gas_realization.hist(figsize=(10,5))"
     ],
     "language": "python",
     "metadata": {},
     "outputs": [
      {
       "metadata": {},
       "output_type": "pyout",
       "prompt_number": 570,
       "text": [
        "<matplotlib.axes.AxesSubplot at 0x120adb250>"
       ]
      },
      {
       "metadata": {},
       "output_type": "display_data",
       "png": "[encoded data removed]",
       "text": [
        "<matplotlib.figure.Figure at 0x120aad450>"
       ]
      }
     ],
     "prompt_number": 570
    },
    {
     "cell_type": "code",
     "collapsed": false,
     "input": [
      "#df = df[df.elec_realization < df.elec_realization.quantile(.80)]\n",
      "#df = df[df.elec_realization.quantile(.20) < df.elec_realization]\n",
      "#df.elec_realization.hist(figsize=(10,5))"
     ],
     "language": "python",
     "metadata": {},
     "outputs": [],
     "prompt_number": 571
    },
    {
     "cell_type": "code",
     "collapsed": false,
     "input": [
      "len(df)"
     ],
     "language": "python",
     "metadata": {},
     "outputs": [
      {
       "metadata": {},
       "output_type": "pyout",
       "prompt_number": 572,
       "text": [
        "3"
       ]
      }
     ],
     "prompt_number": 572
    },
    {
     "cell_type": "markdown",
     "metadata": {},
     "source": [
      "###Check representativeness across climate zones"
     ]
    },
    {
     "cell_type": "code",
     "collapsed": false,
     "input": [
      "df.climate.value_counts()"
     ],
     "language": "python",
     "metadata": {},
     "outputs": [
      {
       "metadata": {},
       "output_type": "pyout",
       "prompt_number": 573,
       "text": [
        "6     1\n",
        "13    1\n",
        "4     1\n",
        "dtype: int64"
       ]
      }
     ],
     "prompt_number": 573
    },
    {
     "cell_type": "markdown",
     "metadata": {},
     "source": [
      "###Checking representativeness across features\n"
     ]
    },
    {
     "cell_type": "code",
     "collapsed": false,
     "input": [
      "df.year_built.hist()"
     ],
     "language": "python",
     "metadata": {},
     "outputs": [
      {
       "metadata": {},
       "output_type": "pyout",
       "prompt_number": 574,
       "text": [
        "<matplotlib.axes.AxesSubplot at 0x120acc610>"
       ]
      },
      {
       "metadata": {},
       "output_type": "display_data",
       "png": "[encoded data removed]",
       "text": [
        "<matplotlib.figure.Figure at 0x120cd9610>"
       ]
      }
     ],
     "prompt_number": 574
    },
    {
     "cell_type": "markdown",
     "metadata": {},
     "source": [
      "Remove old (yearbuild<1979) from the sample"
     ]
    },
    {
     "cell_type": "code",
     "collapsed": false,
     "input": [
      "df = df[df.year_built > 1930]\n",
      "df.year_built.hist()"
     ],
     "language": "python",
     "metadata": {},
     "outputs": [
      {
       "metadata": {},
       "output_type": "pyout",
       "prompt_number": 575,
       "text": [
        "<matplotlib.axes.AxesSubplot at 0x120ee2c50>"
       ]
      },
      {
       "metadata": {},
       "output_type": "display_data",
       "png": "[encoded data removed]",
       "text": [
        "<matplotlib.figure.Figure at 0x1218dadd0>"
       ]
      }
     ],
     "prompt_number": 575
    },
    {
     "cell_type": "code",
     "collapsed": false,
     "input": [
      "len(df)"
     ],
     "language": "python",
     "metadata": {},
     "outputs": [
      {
       "metadata": {},
       "output_type": "pyout",
       "prompt_number": 576,
       "text": [
        "1"
       ]
      }
     ],
     "prompt_number": 576
    },
    {
     "cell_type": "code",
     "collapsed": false,
     "input": [
      "df.describe()"
     ],
     "language": "python",
     "metadata": {},
     "outputs": [
      {
       "html": [
        "<div style=\"max-height:1000px;max-width:1500px;overflow:auto;\">\n",
        "<table border=\"1\" class=\"dataframe\">\n",
        "  <thead>\n",
        "    <tr style=\"text-align: right;\">\n",
        "      <th></th>\n",
        "      <th>zipcode</th>\n",
        "      <th>year_built</th>\n",
        "      <th>pre_conditioned_area</th>\n",
        "      <th>projected_gas_savings</th>\n",
        "      <th>projected_elec_savings</th>\n",
        "      <th>shell_leakage_cfm50_existing</th>\n",
        "      <th>cfm25_pre</th>\n",
        "      <th>foundation_floor_ins_existing</th>\n",
        "      <th>prewall_r</th>\n",
        "      <th>prewin_u</th>\n",
        "      <th>prewin_shgc</th>\n",
        "      <th>gas_furnace_efficiency_existing</th>\n",
        "      <th>cooling_capacity_existing</th>\n",
        "      <th>shell_leakage_cfm50_new</th>\n",
        "      <th>cfm25_post</th>\n",
        "      <th>window_type_new</th>\n",
        "      <th>postwin_shgc</th>\n",
        "      <th>post_afue</th>\n",
        "      <th>cooling_capacity_new</th>\n",
        "      <th>gas_heat</th>\n",
        "      <th></th>\n",
        "    </tr>\n",
        "  </thead>\n",
        "  <tbody>\n",
        "    <tr>\n",
        "      <th>count</th>\n",
        "      <td>     1</td>\n",
        "      <td>    1</td>\n",
        "      <td>    1</td>\n",
        "      <td>   1</td>\n",
        "      <td>    1</td>\n",
        "      <td>    1</td>\n",
        "      <td>   1</td>\n",
        "      <td>  0</td>\n",
        "      <td>  0</td>\n",
        "      <td>  0</td>\n",
        "      <td>  0</td>\n",
        "      <td>  1</td>\n",
        "      <td>  0</td>\n",
        "      <td>    1</td>\n",
        "      <td>   1</td>\n",
        "      <td>  0</td>\n",
        "      <td>  0</td>\n",
        "      <td>  1</td>\n",
        "      <td>  0</td>\n",
        "      <td>  1</td>\n",
        "      <td>...</td>\n",
        "    </tr>\n",
        "    <tr>\n",
        "      <th>mean</th>\n",
        "      <td> 93455</td>\n",
        "      <td> 1992</td>\n",
        "      <td> 2100</td>\n",
        "      <td> 385</td>\n",
        "      <td> 1218</td>\n",
        "      <td> 7350</td>\n",
        "      <td> 738</td>\n",
        "      <td>NaN</td>\n",
        "      <td>NaN</td>\n",
        "      <td>NaN</td>\n",
        "      <td>NaN</td>\n",
        "      <td> 70</td>\n",
        "      <td>NaN</td>\n",
        "      <td> 3836</td>\n",
        "      <td> 140</td>\n",
        "      <td>NaN</td>\n",
        "      <td>NaN</td>\n",
        "      <td> 95</td>\n",
        "      <td>NaN</td>\n",
        "      <td>  1</td>\n",
        "      <td>...</td>\n",
        "    </tr>\n",
        "    <tr>\n",
        "      <th>std</th>\n",
        "      <td>   NaN</td>\n",
        "      <td>  NaN</td>\n",
        "      <td>  NaN</td>\n",
        "      <td> NaN</td>\n",
        "      <td>  NaN</td>\n",
        "      <td>  NaN</td>\n",
        "      <td> NaN</td>\n",
        "      <td>NaN</td>\n",
        "      <td>NaN</td>\n",
        "      <td>NaN</td>\n",
        "      <td>NaN</td>\n",
        "      <td>NaN</td>\n",
        "      <td>NaN</td>\n",
        "      <td>  NaN</td>\n",
        "      <td> NaN</td>\n",
        "      <td>NaN</td>\n",
        "      <td>NaN</td>\n",
        "      <td>NaN</td>\n",
        "      <td>NaN</td>\n",
        "      <td>NaN</td>\n",
        "      <td>...</td>\n",
        "    </tr>\n",
        "    <tr>\n",
        "      <th>min</th>\n",
        "      <td> 93455</td>\n",
        "      <td> 1992</td>\n",
        "      <td> 2100</td>\n",
        "      <td> 385</td>\n",
        "      <td> 1218</td>\n",
        "      <td> 7350</td>\n",
        "      <td> 738</td>\n",
        "      <td>NaN</td>\n",
        "      <td>NaN</td>\n",
        "      <td>NaN</td>\n",
        "      <td>NaN</td>\n",
        "      <td> 70</td>\n",
        "      <td>NaN</td>\n",
        "      <td> 3836</td>\n",
        "      <td> 140</td>\n",
        "      <td>NaN</td>\n",
        "      <td>NaN</td>\n",
        "      <td> 95</td>\n",
        "      <td>NaN</td>\n",
        "      <td>  1</td>\n",
        "      <td>...</td>\n",
        "    </tr>\n",
        "    <tr>\n",
        "      <th>25%</th>\n",
        "      <td> 93455</td>\n",
        "      <td> 1992</td>\n",
        "      <td> 2100</td>\n",
        "      <td> 385</td>\n",
        "      <td> 1218</td>\n",
        "      <td> 7350</td>\n",
        "      <td> 738</td>\n",
        "      <td>NaN</td>\n",
        "      <td>NaN</td>\n",
        "      <td>NaN</td>\n",
        "      <td>NaN</td>\n",
        "      <td> 70</td>\n",
        "      <td>NaN</td>\n",
        "      <td> 3836</td>\n",
        "      <td> 140</td>\n",
        "      <td>NaN</td>\n",
        "      <td>NaN</td>\n",
        "      <td> 95</td>\n",
        "      <td>NaN</td>\n",
        "      <td>  1</td>\n",
        "      <td>...</td>\n",
        "    </tr>\n",
        "    <tr>\n",
        "      <th>50%</th>\n",
        "      <td> 93455</td>\n",
        "      <td> 1992</td>\n",
        "      <td> 2100</td>\n",
        "      <td> 385</td>\n",
        "      <td> 1218</td>\n",
        "      <td> 7350</td>\n",
        "      <td> 738</td>\n",
        "      <td>NaN</td>\n",
        "      <td>NaN</td>\n",
        "      <td>NaN</td>\n",
        "      <td>NaN</td>\n",
        "      <td> 70</td>\n",
        "      <td>NaN</td>\n",
        "      <td> 3836</td>\n",
        "      <td> 140</td>\n",
        "      <td>NaN</td>\n",
        "      <td>NaN</td>\n",
        "      <td> 95</td>\n",
        "      <td>NaN</td>\n",
        "      <td>  1</td>\n",
        "      <td>...</td>\n",
        "    </tr>\n",
        "    <tr>\n",
        "      <th>75%</th>\n",
        "      <td> 93455</td>\n",
        "      <td> 1992</td>\n",
        "      <td> 2100</td>\n",
        "      <td> 385</td>\n",
        "      <td> 1218</td>\n",
        "      <td> 7350</td>\n",
        "      <td> 738</td>\n",
        "      <td>NaN</td>\n",
        "      <td>NaN</td>\n",
        "      <td>NaN</td>\n",
        "      <td>NaN</td>\n",
        "      <td> 70</td>\n",
        "      <td>NaN</td>\n",
        "      <td> 3836</td>\n",
        "      <td> 140</td>\n",
        "      <td>NaN</td>\n",
        "      <td>NaN</td>\n",
        "      <td> 95</td>\n",
        "      <td>NaN</td>\n",
        "      <td>  1</td>\n",
        "      <td>...</td>\n",
        "    </tr>\n",
        "    <tr>\n",
        "      <th>max</th>\n",
        "      <td> 93455</td>\n",
        "      <td> 1992</td>\n",
        "      <td> 2100</td>\n",
        "      <td> 385</td>\n",
        "      <td> 1218</td>\n",
        "      <td> 7350</td>\n",
        "      <td> 738</td>\n",
        "      <td>NaN</td>\n",
        "      <td>NaN</td>\n",
        "      <td>NaN</td>\n",
        "      <td>NaN</td>\n",
        "      <td> 70</td>\n",
        "      <td>NaN</td>\n",
        "      <td> 3836</td>\n",
        "      <td> 140</td>\n",
        "      <td>NaN</td>\n",
        "      <td>NaN</td>\n",
        "      <td> 95</td>\n",
        "      <td>NaN</td>\n",
        "      <td>  1</td>\n",
        "      <td>...</td>\n",
        "    </tr>\n",
        "  </tbody>\n",
        "</table>\n",
        "<p>8 rows \u00d7 66 columns</p>\n",
        "</div>"
       ],
       "metadata": {},
       "output_type": "pyout",
       "prompt_number": 577,
       "text": [
        "       zipcode  year_built  pre_conditioned_area  projected_gas_savings  \\\n",
        "count        1           1                     1                      1   \n",
        "mean     93455        1992                  2100                    385   \n",
        "std        NaN         NaN                   NaN                    NaN   \n",
        "min      93455        1992                  2100                    385   \n",
        "25%      93455        1992                  2100                    385   \n",
        "50%      93455        1992                  2100                    385   \n",
        "75%      93455        1992                  2100                    385   \n",
        "max      93455        1992                  2100                    385   \n",
        "\n",
        "       projected_elec_savings  shell_leakage_cfm50_existing  cfm25_pre  \\\n",
        "count                       1                             1          1   \n",
        "mean                     1218                          7350        738   \n",
        "std                       NaN                           NaN        NaN   \n",
        "min                      1218                          7350        738   \n",
        "25%                      1218                          7350        738   \n",
        "50%                      1218                          7350        738   \n",
        "75%                      1218                          7350        738   \n",
        "max                      1218                          7350        738   \n",
        "\n",
        "       foundation_floor_ins_existing  prewall_r  prewin_u  prewin_shgc  \\\n",
        "count                              0          0         0            0   \n",
        "mean                             NaN        NaN       NaN          NaN   \n",
        "std                              NaN        NaN       NaN          NaN   \n",
        "min                              NaN        NaN       NaN          NaN   \n",
        "25%                              NaN        NaN       NaN          NaN   \n",
        "50%                              NaN        NaN       NaN          NaN   \n",
        "75%                              NaN        NaN       NaN          NaN   \n",
        "max                              NaN        NaN       NaN          NaN   \n",
        "\n",
        "       gas_furnace_efficiency_existing  cooling_capacity_existing  \\\n",
        "count                                1                          0   \n",
        "mean                                70                        NaN   \n",
        "std                                NaN                        NaN   \n",
        "min                                 70                        NaN   \n",
        "25%                                 70                        NaN   \n",
        "50%                                 70                        NaN   \n",
        "75%                                 70                        NaN   \n",
        "max                                 70                        NaN   \n",
        "\n",
        "       shell_leakage_cfm50_new  cfm25_post  window_type_new  postwin_shgc  \\\n",
        "count                        1           1                0             0   \n",
        "mean                      3836         140              NaN           NaN   \n",
        "std                        NaN         NaN              NaN           NaN   \n",
        "min                       3836         140              NaN           NaN   \n",
        "25%                       3836         140              NaN           NaN   \n",
        "50%                       3836         140              NaN           NaN   \n",
        "75%                       3836         140              NaN           NaN   \n",
        "max                       3836         140              NaN           NaN   \n",
        "\n",
        "       post_afue  cooling_capacity_new  gas_heat      \n",
        "count          1                     0         1 ...  \n",
        "mean          95                   NaN         1 ...  \n",
        "std          NaN                   NaN       NaN ...  \n",
        "min           95                   NaN         1 ...  \n",
        "25%           95                   NaN         1 ...  \n",
        "50%           95                   NaN         1 ...  \n",
        "75%           95                   NaN         1 ...  \n",
        "max           95                   NaN         1 ...  \n",
        "\n",
        "[8 rows x 66 columns]"
       ]
      }
     ],
     "prompt_number": 577
    },
    {
     "cell_type": "markdown",
     "metadata": {},
     "source": [
      "###Output final files, create a combined file, & create Excel workbook"
     ]
    },
    {
     "cell_type": "code",
     "collapsed": false,
     "input": [
      "df.fillna(\"\")\n",
      "df.to_csv(dataSelect)"
     ],
     "language": "python",
     "metadata": {},
     "outputs": [],
     "prompt_number": 578
    },
    {
     "cell_type": "code",
     "collapsed": false,
     "input": [
      "#Create combined file across climate zones\n",
      "#df1 = pd.read_csv(\"/Users/matthewgee/Projects/CalTest/data/final/\" + str(util) + \"_CalTest_gas_group_1.csv\")\n",
      "#df2 = pd.read_csv(\"/Users/matthewgee/Projects/CalTest/data/final/\" + str(util) + \"_CalTest_gas_group_2.csv\")\n",
      "#df3 = pd.read_csv(\"/Users/matthewgee/Projects/CalTest/data/final/\" + str(util) + \"_CalTest_gas_group_3.csv\")\n",
      "#df = pd.concat([df1,df2,df3])\n",
      "#df[''] = \n",
      "#df.to_csv(combinedSelect)\n",
      "#df.to_excel(combinedSelectX)"
     ],
     "language": "python",
     "metadata": {},
     "outputs": [],
     "prompt_number": 579
    },
    {
     "cell_type": "code",
     "collapsed": false,
     "input": [],
     "language": "python",
     "metadata": {},
     "outputs": [],
     "prompt_number": 579
    },
    {
     "cell_type": "code",
     "collapsed": false,
     "input": [],
     "language": "python",
     "metadata": {},
     "outputs": [],
     "prompt_number": 579
    }
   ],
   "metadata": {}
  }
 ]
}