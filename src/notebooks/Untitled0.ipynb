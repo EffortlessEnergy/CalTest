{
 "metadata": {
  "name": "",
  "signature": "sha256:5be92dcbec29d14ae5b2565164adc2c011de3b131928a8051f924e5fda856b04"
 },
 "nbformat": 3,
 "nbformat_minor": 0,
 "worksheets": [
  {
   "cells": [
    {
     "cell_type": "code",
     "collapsed": false,
     "input": [
      "import pandas as pd\n",
      "\n",
      "file = \"/Users/matthewgee/Downloads/sign-up-today-for-a-free-visit-from-a-home-energy-genius-2014-06-12.csv\""
     ],
     "language": "python",
     "metadata": {},
     "outputs": [],
     "prompt_number": 2
    },
    {
     "cell_type": "code",
     "collapsed": false,
     "input": [
      "df = pd.read_csv(file)\n",
      "df['Address (City)'].value_counts()"
     ],
     "language": "python",
     "metadata": {},
     "outputs": [
      {
       "metadata": {},
       "output_type": "pyout",
       "prompt_number": 7,
       "text": [
        "Chicago                   30\n",
        "chicago                    5\n",
        "Wilmette                   2\n",
        "CHICAGO                    2\n",
        "Arlington                  2\n",
        "Washington                 2\n",
        "Brighton                   1\n",
        "DURHAM                     1\n",
        "Honolulu                   1\n",
        "Austin                     1\n",
        "Riverside                  1\n",
        "San Francisco              1\n",
        "Corte Madera               1\n",
        "Houston                    1\n",
        "Providence                 1\n",
        "Williamstown               1\n",
        "Northbrook                 1\n",
        "Richmond                   1\n",
        "minneapolis                1\n",
        "Oak Park                   1\n",
        "Pensacola                  1\n",
        "North Bend                 1\n",
        "P.O Box 311, kwa-thema     1\n",
        "Pearland                   1\n",
        "Winnetka                   1\n",
        "Charlotte                  1\n",
        "Minnetonka                 1\n",
        "Ithaca                     1\n",
        "sladkfjdsl                 1\n",
        "Bolingbrook                1\n",
        "rtez                       1\n",
        "Berkeley                   1\n",
        "Clinton Twp                1\n",
        "Newcastle                  1\n",
        "Grand Rapids               1\n",
        "Littleton                  1\n",
        "Visalia                    1\n",
        "Glen Ellyn                 1\n",
        "Addison                    1\n",
        "Irving                     1\n",
        "Nashville                  1\n",
        "West Hartford              1\n",
        "Chicago                    1\n",
        "Panama City Beach          1\n",
        "glencoe                    1\n",
        "Saline                     1\n",
        "dtype: int64"
       ]
      }
     ],
     "prompt_number": 7
    }
   ],
   "metadata": {}
  }
 ]
}