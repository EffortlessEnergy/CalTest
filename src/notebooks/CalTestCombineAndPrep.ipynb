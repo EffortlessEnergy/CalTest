{
 "metadata": {
  "name": ""
 },
 "nbformat": 3,
 "nbformat_minor": 0,
 "worksheets": [
  {
   "cells": [
    {
     "cell_type": "markdown",
     "metadata": {},
     "source": [
      "##CalTest Combine Data & Prepare for Selection\n",
      "\n",
      "This notebook is used to combine the prepared data from all three utilities and prepare it for home selection.\n",
      "\n"
     ]
    },
    {
     "cell_type": "code",
     "collapsed": false,
     "input": [
      "import pandas as pd\n",
      "\n",
      "dataPath = \"/Users/matthewgee/Projects/CalTest/data/clean\"\n",
      "savePath = \"\"\n",
      "\n",
      "pgeData = \"/Users/matthewgee/Projects/CalTest/data/clean/pge_full_data_prep_for_merge.csv\"\n",
      "sgcData = \"\"\n",
      "sdgeData = \"\"\n",
      "\n",
      "calTestDict = \"/Users/matthewgee/Projects/CalTest/data/CalTestDataDictionary.xlsx\"\n",
      "\n",
      "pgeNameDict = \"PGEDict\"\n",
      "scgNameDict = \"SCGDict\"\n",
      "sdgeNameDict = \"SDGEDict\"\n",
      "\n"
     ],
     "language": "python",
     "metadata": {},
     "outputs": [],
     "prompt_number": 1
    },
    {
     "cell_type": "markdown",
     "metadata": {},
     "source": [
      "####Rename variable in each raw data file to conform to standard\n",
      "Using the name dictionary, rename shared variables across datasets\n",
      "\n"
     ]
    },
    {
     "cell_type": "code",
     "collapsed": false,
     "input": [
      "def renameStandard(nameFile,sheet,outputFile):\n",
      "    nameDict = \n",
      "    df.rename(columns=lambda x: x[1:], inplace=True)"
     ],
     "language": "python",
     "metadata": {},
     "outputs": []
    },
    {
     "cell_type": "code",
     "collapsed": false,
     "input": [
      "#Rename data stuff\n",
      "\n"
     ],
     "language": "python",
     "metadata": {},
     "outputs": []
    },
    {
     "cell_type": "code",
     "collapsed": false,
     "input": [
      "#test if you can turn xls into dictionary\n",
      "nameDF = pd.read_excel(calTestDict,pgeNameDict)\n",
      "nameDFP = nameDF.pivot(index='Dict',columns='OldVar',values='NewVar')"
     ],
     "language": "python",
     "metadata": {},
     "outputs": [],
     "prompt_number": 17
    },
    {
     "cell_type": "code",
     "collapsed": false,
     "input": [
      "nameDFP"
     ],
     "language": "python",
     "metadata": {},
     "outputs": [
      {
       "html": [
        "<div style=\"max-height:1000px;max-width:1500px;overflow:auto;\">\n",
        "<table border=\"1\" class=\"dataframe\">\n",
        "  <thead>\n",
        "    <tr style=\"text-align: right;\">\n",
        "      <th>OldVar</th>\n",
        "      <th>orig1</th>\n",
        "      <th>orig2</th>\n",
        "      <th>orig3</th>\n",
        "    </tr>\n",
        "    <tr>\n",
        "      <th>Dict</th>\n",
        "      <th></th>\n",
        "      <th></th>\n",
        "      <th></th>\n",
        "    </tr>\n",
        "  </thead>\n",
        "  <tbody>\n",
        "    <tr>\n",
        "      <th>changevar</th>\n",
        "      <td> new1</td>\n",
        "      <td> new2</td>\n",
        "      <td> new3</td>\n",
        "    </tr>\n",
        "  </tbody>\n",
        "</table>\n",
        "<p>1 rows \u00d7 3 columns</p>\n",
        "</div>"
       ],
       "metadata": {},
       "output_type": "pyout",
       "prompt_number": 18,
       "text": [
        "OldVar    orig1 orig2 orig3\n",
        "Dict                       \n",
        "changevar  new1  new2  new3\n",
        "\n",
        "[1 rows x 3 columns]"
       ]
      }
     ],
     "prompt_number": 18
    },
    {
     "cell_type": "code",
     "collapsed": false,
     "input": [
      "nameDict = nameDFP.to_dict(outtype='dict')\n",
      "nameDict"
     ],
     "language": "python",
     "metadata": {},
     "outputs": [
      {
       "metadata": {},
       "output_type": "pyout",
       "prompt_number": 19,
       "text": [
        "{u'orig1': {u'changevar': u'new1'},\n",
        " u'orig2': {u'changevar': u'new2'},\n",
        " u'orig3': {u'changevar': u'new3'}}"
       ]
      }
     ],
     "prompt_number": 19
    }
   ],
   "metadata": {}
  }
 ]
}