{
 "metadata": {
  "name": "",
  "signature": "sha256:5416f48bb2a163a8bb6ad3b1967617ecb5dbb31972434ab59314ecfe60ec273c"
 },
 "nbformat": 3,
 "nbformat_minor": 0,
 "worksheets": [
  {
   "cells": [
    {
     "cell_type": "markdown",
     "metadata": {},
     "source": [
      "#Extract selected homes from combined project data and use data and prepare datasets for writing to excel\n"
     ]
    },
    {
     "cell_type": "code",
     "collapsed": false,
     "input": [
      "import pandas as pd\n",
      "\n",
      "homeData =\n",
      "elecData =\n",
      "gasData =\n",
      "weatherData = \"/Users/matthewgee/Projects/CalTest/data/weather/weather_data_prepped.csv\"\n",
      "\n"
     ],
     "language": "python",
     "metadata": {},
     "outputs": [],
     "prompt_number": 1
    },
    {
     "cell_type": "code",
     "collapsed": false,
     "input": [
      "#Speficy homes, account numbers, and zones/stations to keep\n",
      "homes = [\n",
      "        \n",
      "        ]\n",
      "\n",
      "weatherStations = [\n",
      "    \n",
      "                ]\n"
     ],
     "language": "python",
     "metadata": {},
     "outputs": []
    },
    {
     "cell_type": "code",
     "collapsed": false,
     "input": [
      "pd.DataFrame.query?"
     ],
     "language": "python",
     "metadata": {},
     "outputs": [],
     "prompt_number": 2
    }
   ],
   "metadata": {}
  }
 ]
}