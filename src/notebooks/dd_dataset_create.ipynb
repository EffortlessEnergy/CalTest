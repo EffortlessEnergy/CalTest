{
 "metadata": {
  "name": "",
  "signature": "sha256:d3f8e2c514c605e92c1b42e7f318f7adf5915baf030c92fcb1df04730ab08c90"
 },
 "nbformat": 3,
 "nbformat_minor": 0,
 "worksheets": [
  {
   "cells": [
    {
     "cell_type": "raw",
     "metadata": {},
     "source": [
      "##Create Dataset \n",
      "\n",
      "Date cumulative hdd\n",
      "\n",
      "CalTest_utility_data_combine"
     ]
    },
    {
     "cell_type": "code",
     "collapsed": false,
     "input": [
      "import pandas as pd\n",
      "\n",
      "%cd /Users/matthewgee/Projects/CalTest/data/combined"
     ],
     "language": "python",
     "metadata": {},
     "outputs": [
      {
       "output_type": "stream",
       "stream": "stdout",
       "text": [
        "/Users/matthewgee/Projects/CalTest/data/combined\n"
       ]
      }
     ],
     "prompt_number": 11
    },
    {
     "cell_type": "code",
     "collapsed": false,
     "input": [
      "df = pd.read_csv(\"CalTest_combined_elec_data.csv\")\n",
      "df.dtypes"
     ],
     "language": "python",
     "metadata": {},
     "outputs": [
      {
       "metadata": {},
       "output_type": "pyout",
       "prompt_number": 19,
       "text": [
        "account_number    object\n",
        "date              object\n",
        "kwh               object\n",
        "iou               object\n",
        "dtype: object"
       ]
      }
     ],
     "prompt_number": 19
    },
    {
     "cell_type": "code",
     "collapsed": false,
     "input": [
      "#define a list of accounts in the final group\n",
      "accounts = [\n",
      "            \n",
      "            ]\n",
      "for account in accounts:\n",
      "    "
     ],
     "language": "python",
     "metadata": {},
     "outputs": []
    }
   ],
   "metadata": {}
  }
 ]
}