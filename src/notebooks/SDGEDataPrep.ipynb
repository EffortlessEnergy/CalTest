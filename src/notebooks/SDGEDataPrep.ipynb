{
 "metadata": {
  "name": ""
 },
 "nbformat": 3,
 "nbformat_minor": 0,
 "worksheets": [
  {
   "cells": [
    {
     "cell_type": "markdown",
     "metadata": {},
     "source": [
      "##Prepare Data from San Diego Gas and Electric"
     ]
    },
    {
     "cell_type": "code",
     "collapsed": false,
     "input": [
      "import pandas as pd\n",
      "import numpy as np\n",
      "import matplotlib\n",
      "import lxml\n",
      "\n",
      "#Define paths\n",
      "dataPath = \"/Users/matthewgee/Projects/CalTest/Data/sdge/\"\n",
      "xmlPath = \"/Users/matthewgee/Projects/CalTest/Data/sdge/SDGE EPro files/XML/\"\n",
      "\n",
      "#Decide datasets\n",
      "projectData = \"All_job_data_9-23-13.xlsx\"\n",
      "useData = \n",
      "\n"
     ],
     "language": "python",
     "metadata": {},
     "outputs": [],
     "prompt_number": 26
    },
    {
     "cell_type": "markdown",
     "metadata": {},
     "source": [
      "####Job Data"
     ]
    },
    {
     "cell_type": "code",
     "collapsed": false,
     "input": [
      "df = pd.ExcelFile(dataPath + projectData)\n",
      "df.sheet_names\n",
      "\n"
     ],
     "language": "python",
     "metadata": {},
     "outputs": [
      {
       "metadata": {},
       "output_type": "pyout",
       "prompt_number": 6,
       "text": [
        "[u'Job Data', u'doc names', u'List']"
       ]
      }
     ],
     "prompt_number": 6
    },
    {
     "cell_type": "code",
     "collapsed": false,
     "input": [
      "sdgeJobData = df.parse('Job Data', header=1)\n",
      "sdgeJobData"
     ],
     "language": "python",
     "metadata": {},
     "outputs": [
      {
       "html": [
        "<pre>\n",
        "&lt;class 'pandas.core.frame.DataFrame'&gt;\n",
        "Int64Index: 38000 entries, 0 to 37999\n",
        "Data columns (total 22 columns):\n",
        "job_id                              38000  non-null values\n",
        "application_id                      38000  non-null values\n",
        "name                                38000  non-null values\n",
        "measure_attribute_id                12099  non-null values\n",
        "application_measure_attribute_id    12099  non-null values\n",
        "house_info_id                       33723  non-null values\n",
        "application_house_info_id           33723  non-null values\n",
        "electric_account_number             38000  non-null values\n",
        "Service Address                     38000  non-null values\n",
        "customer_full_name                  38000  non-null values\n",
        "Mail Address                        38000  non-null values\n",
        "owner_primaryPhone                  38000  non-null values\n",
        "measure_name                        12099  non-null values\n",
        "house_info_group_name               33723  non-null values\n",
        "measure_attribute_name              12099  non-null values\n",
        "house_info_attribute_name           33723  non-null values\n",
        "existing_value                      31994  non-null values\n",
        "proposed_value                      11093  non-null values\n",
        "installed_value                     9405  non-null values\n",
        "qryType                             38000  non-null values\n",
        "BLD File Name                       38000  non-null values\n",
        "XML File Name will Contain          36067  non-null values\n",
        "dtypes: float64(6), object(16)\n",
        "</pre>"
       ],
       "metadata": {},
       "output_type": "pyout",
       "prompt_number": 8,
       "text": [
        "<class 'pandas.core.frame.DataFrame'>\n",
        "Int64Index: 38000 entries, 0 to 37999\n",
        "Data columns (total 22 columns):\n",
        "job_id                              38000  non-null values\n",
        "application_id                      38000  non-null values\n",
        "name                                38000  non-null values\n",
        "measure_attribute_id                12099  non-null values\n",
        "application_measure_attribute_id    12099  non-null values\n",
        "house_info_id                       33723  non-null values\n",
        "application_house_info_id           33723  non-null values\n",
        "electric_account_number             38000  non-null values\n",
        "Service Address                     38000  non-null values\n",
        "customer_full_name                  38000  non-null values\n",
        "Mail Address                        38000  non-null values\n",
        "owner_primaryPhone                  38000  non-null values\n",
        "measure_name                        12099  non-null values\n",
        "house_info_group_name               33723  non-null values\n",
        "measure_attribute_name              12099  non-null values\n",
        "house_info_attribute_name           33723  non-null values\n",
        "existing_value                      31994  non-null values\n",
        "proposed_value                      11093  non-null values\n",
        "installed_value                     9405  non-null values\n",
        "qryType                             38000  non-null values\n",
        "BLD File Name                       38000  non-null values\n",
        "XML File Name will Contain          36067  non-null values\n",
        "dtypes: float64(6), object(16)"
       ]
      }
     ],
     "prompt_number": 8
    },
    {
     "cell_type": "code",
     "collapsed": false,
     "input": [
      "sdgeJobData['XML File Name will Contain'][400:460]"
     ],
     "language": "python",
     "metadata": {},
     "outputs": [
      {
       "metadata": {},
       "output_type": "pyout",
       "prompt_number": 12,
       "text": [
        "400    Bryant forsgren and Rosalie Flores XML\n",
        "401    Bryant forsgren and Rosalie Flores XML\n",
        "402    Bryant forsgren and Rosalie Flores XML\n",
        "403    Bryant forsgren and Rosalie Flores XML\n",
        "404    Bryant forsgren and Rosalie Flores XML\n",
        "405    Bryant forsgren and Rosalie Flores XML\n",
        "406    Bryant forsgren and Rosalie Flores XML\n",
        "407    Bryant forsgren and Rosalie Flores XML\n",
        "408    Bryant forsgren and Rosalie Flores XML\n",
        "409    Bryant forsgren and Rosalie Flores XML\n",
        "410    Bryant forsgren and Rosalie Flores XML\n",
        "411    Bryant forsgren and Rosalie Flores XML\n",
        "412    Bryant forsgren and Rosalie Flores XML\n",
        "413    Bryant forsgren and Rosalie Flores XML\n",
        "414    Bryant forsgren and Rosalie Flores XML\n",
        "415    Bryant forsgren and Rosalie Flores XML\n",
        "416    Bryant forsgren and Rosalie Flores XML\n",
        "417    Bryant forsgren and Rosalie Flores XML\n",
        "418    Bryant forsgren and Rosalie Flores XML\n",
        "419    Bryant forsgren and Rosalie Flores XML\n",
        "420    Bryant forsgren and Rosalie Flores XML\n",
        "421    Bryant forsgren and Rosalie Flores XML\n",
        "422    Bryant forsgren and Rosalie Flores XML\n",
        "423    Bryant forsgren and Rosalie Flores XML\n",
        "424    Bryant forsgren and Rosalie Flores XML\n",
        "425    Bryant forsgren and Rosalie Flores XML\n",
        "426    Bryant forsgren and Rosalie Flores XML\n",
        "427    Bryant forsgren and Rosalie Flores XML\n",
        "428    Bryant forsgren and Rosalie Flores XML\n",
        "429    Bryant forsgren and Rosalie Flores XML\n",
        "430    Bryant forsgren and Rosalie Flores XML\n",
        "431    Bryant forsgren and Rosalie Flores XML\n",
        "432    Bryant forsgren and Rosalie Flores XML\n",
        "433    Bryant forsgren and Rosalie Flores XML\n",
        "434    Bryant forsgren and Rosalie Flores XML\n",
        "435    Bryant forsgren and Rosalie Flores XML\n",
        "436    Bryant forsgren and Rosalie Flores XML\n",
        "437    Bryant forsgren and Rosalie Flores XML\n",
        "438    Bryant forsgren and Rosalie Flores XML\n",
        "439    Bryant forsgren and Rosalie Flores XML\n",
        "440    Bryant forsgren and Rosalie Flores XML\n",
        "441    Bryant forsgren and Rosalie Flores XML\n",
        "442    Bryant forsgren and Rosalie Flores XML\n",
        "443    Bryant forsgren and Rosalie Flores XML\n",
        "444    Bryant forsgren and Rosalie Flores XML\n",
        "445    Bryant forsgren and Rosalie Flores XML\n",
        "446    Bryant forsgren and Rosalie Flores XML\n",
        "447    Bryant forsgren and Rosalie Flores XML\n",
        "448    Bryant forsgren and Rosalie Flores XML\n",
        "449    Bryant forsgren and Rosalie Flores XML\n",
        "450    Bryant forsgren and Rosalie Flores XML\n",
        "451    Bryant forsgren and Rosalie Flores XML\n",
        "452    Bryant forsgren and Rosalie Flores XML\n",
        "453    Bryant forsgren and Rosalie Flores XML\n",
        "454    Bryant forsgren and Rosalie Flores XML\n",
        "455    Bryant forsgren and Rosalie Flores XML\n",
        "456    Bryant forsgren and Rosalie Flores XML\n",
        "457    Bryant forsgren and Rosalie Flores XML\n",
        "458    Bryant forsgren and Rosalie Flores XML\n",
        "459    Bryant forsgren and Rosalie Flores XML\n",
        "Name: XML File Name will Contain, Length: 60, dtype: object"
       ]
      }
     ],
     "prompt_number": 12
    },
    {
     "cell_type": "code",
     "collapsed": false,
     "input": [
      "import xmllib\n",
      "test = '/Users/matthewgee/Projects/CalTest/data/sdge/SDGE EPro files/XML/smith.xml'\n"
     ],
     "language": "python",
     "metadata": {},
     "outputs": [],
     "prompt_number": 4
    },
    {
     "cell_type": "code",
     "collapsed": false,
     "input": [
      "import xml.etree.ElementTree as etree\n",
      "testXML = etree.parse(test)"
     ],
     "language": "python",
     "metadata": {},
     "outputs": [],
     "prompt_number": 44
    },
    {
     "cell_type": "code",
     "collapsed": false,
     "input": [
      "testXML"
     ],
     "language": "python",
     "metadata": {},
     "outputs": [
      {
       "metadata": {},
       "output_type": "pyout",
       "prompt_number": 45,
       "text": [
        "<xml.etree.ElementTree.ElementTree at 0x10fc7a790>"
       ]
      }
     ],
     "prompt_number": 45
    },
    {
     "cell_type": "markdown",
     "metadata": {},
     "source": [
      "###Define function for importing XML\n"
     ]
    },
    {
     "cell_type": "code",
     "collapsed": false,
     "input": [
      "from bs4 import BeautifulSoup\n",
      "import pandas as pd\n",
      " \n",
      "def xml2df(xml_doc):\n",
      "    f = open(xml_doc, 'r')\n",
      "    soup = BeautifulSoup(f)\n",
      " \n",
      "    name_list=[]\n",
      "    text_list=[]\n",
      "    attr_list=[]\n",
      " \n",
      "    def recurs(soup):\n",
      "        try:\n",
      "            for j in soup.contents:\n",
      "                try:\n",
      "                    #print j.name\n",
      "                    if j.name!=None:\n",
      "                        name_list.append(j.name)\n",
      "                except:\n",
      "                    pass\n",
      "                try:\n",
      "                    #print j.text\n",
      "                    if j.name!=None:\n",
      "                        #print j.string\n",
      "                        text_list.append(j.string)\n",
      "                except:\n",
      "                    pass\n",
      "                try:\n",
      "                    #print j.attrs\n",
      "                    if j.name!=None:\n",
      "                        attr_list.append(j.attrs)\n",
      "                except:\n",
      "                    pass\n",
      "                recurs(j)\n",
      "        except:\n",
      "            pass\n",
      " \n",
      "    recurs(soup)\n",
      " \n",
      "    attr_names_list = [q.keys() for q in attr_list]\n",
      "    attr_values_list = [q.values() for q in attr_list]\n",
      " \n",
      "    columns = hstack((hstack(name_list),\n",
      "                      hstack(attr_names_list)) )\n",
      "    data = hstack((hstack(text_list),\n",
      "                   hstack(attr_values_list)) )\n",
      " \n",
      "    df = pd.DataFrame(data=matrix(data.T), columns=columns )\n",
      " \n",
      "    return df"
     ],
     "language": "python",
     "metadata": {},
     "outputs": [],
     "prompt_number": 2
    },
    {
     "cell_type": "code",
     "collapsed": false,
     "input": [
      "#Try converting test xml file\n",
      "xdf = xml2df(test)\n"
     ],
     "language": "python",
     "metadata": {},
     "outputs": [],
     "prompt_number": 5
    },
    {
     "cell_type": "code",
     "collapsed": false,
     "input": [
      "xdf"
     ],
     "language": "python",
     "metadata": {},
     "outputs": [
      {
       "ename": "TypeError",
       "evalue": "head() takes at most 2 arguments (3 given)",
       "output_type": "pyerr",
       "traceback": [
        "\u001b[0;31m---------------------------------------------------------------------------\u001b[0m\n\u001b[0;31mTypeError\u001b[0m                                 Traceback (most recent call last)",
        "\u001b[0;32m<ipython-input-10-ed3bcc8326b3>\u001b[0m in \u001b[0;36m<module>\u001b[0;34m()\u001b[0m\n\u001b[0;32m----> 1\u001b[0;31m \u001b[0mxdf\u001b[0m\u001b[0;34m.\u001b[0m\u001b[0mhead\u001b[0m\u001b[0;34m(\u001b[0m\u001b[0;36m1\u001b[0m\u001b[0;34m,\u001b[0m\u001b[0;36m1\u001b[0m\u001b[0;34m)\u001b[0m\u001b[0;34m\u001b[0m\u001b[0m\n\u001b[0m",
        "\u001b[0;31mTypeError\u001b[0m: head() takes at most 2 arguments (3 given)"
       ]
      }
     ],
     "prompt_number": 10
    }
   ],
   "metadata": {}
  }
 ]
}