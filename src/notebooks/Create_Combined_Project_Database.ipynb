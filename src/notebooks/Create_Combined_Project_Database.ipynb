{
 "metadata": {
  "name": "",
  "signature": "sha256:375e9cb863424863d8c38f4d38f74342e282b0cfe124408a4c0b8b304e131490"
 },
 "nbformat": 3,
 "nbformat_minor": 0,
 "worksheets": [
  {
   "cells": [
    {
     "cell_type": "markdown",
     "metadata": {},
     "source": [
      "#Create\n",
      "\n",
      "Include\n",
      "\n",
      "Input files\n",
      "\n",
      "Main changes\n",
      "\n",
      "- transform join variables\n",
      "- join on indexes\n",
      "- standadize names\n",
      "\n"
     ]
    },
    {
     "cell_type": "code",
     "collapsed": false,
     "input": [
      "import pandas as pd\n",
      "\n",
      "xmlData = \"/Users/matthewgee/Projects/CalTest/data/CalTestCombined_XML_Data.csv\"\n",
      "\n",
      "sdgeData = \"\"\n",
      "sceData = \"\"\n",
      "scgData = \"\"\n",
      "pgeData = \"\"\n",
      "\n",
      "joinDict = {\n",
      "            'sdge':'',\n",
      "            'sce':'',\n",
      "            'scg':'',\n",
      "            'pge':''\n",
      "            }\n",
      "\n"
     ],
     "language": "python",
     "metadata": {},
     "outputs": [],
     "prompt_number": 2
    },
    {
     "cell_type": "code",
     "collapsed": false,
     "input": [
      "df = pd.read_csv(xmlData)\n",
      "len(df)"
     ],
     "language": "python",
     "metadata": {},
     "outputs": [
      {
       "metadata": {},
       "output_type": "pyout",
       "prompt_number": 41,
       "text": [
        "4970"
       ]
      }
     ],
     "prompt_number": 41
    },
    {
     "cell_type": "code",
     "collapsed": false,
     "input": [
      "#df.WinterIDB.groupby(df.CAZone).count().plot(kind='bar')\n",
      "df.WinterIDB.notnull().value_counts()\n",
      "df.WinterIDB.groupby(df.CAZone).hist(bins=50, figsize= (19,5))\n",
      "df.SummerIDB.groupby(df.CAZone).hist(bins=50, figsize= (19,5))"
     ],
     "language": "python",
     "metadata": {},
     "outputs": [
      {
       "metadata": {},
       "output_type": "pyout",
       "prompt_number": 52,
       "text": [
        "CAZone\n",
        "0         Axes(0.125,0.125;0.775x0.775)\n",
        "1         Axes(0.125,0.125;0.775x0.775)\n",
        "2         Axes(0.125,0.125;0.775x0.775)\n",
        "3         Axes(0.125,0.125;0.775x0.775)\n",
        "4         Axes(0.125,0.125;0.775x0.775)\n",
        "5         Axes(0.125,0.125;0.775x0.775)\n",
        "6         Axes(0.125,0.125;0.775x0.775)\n",
        "7         Axes(0.125,0.125;0.775x0.775)\n",
        "8         Axes(0.125,0.125;0.775x0.775)\n",
        "9         Axes(0.125,0.125;0.775x0.775)\n",
        "10        Axes(0.125,0.125;0.775x0.775)\n",
        "11        Axes(0.125,0.125;0.775x0.775)\n",
        "12        Axes(0.125,0.125;0.775x0.775)\n",
        "13        Axes(0.125,0.125;0.775x0.775)\n",
        "15        Axes(0.125,0.125;0.775x0.775)\n",
        "16        Axes(0.125,0.125;0.775x0.775)\n",
        "dtype: object"
       ]
      },
      {
       "metadata": {},
       "output_type": "display_data",
       "png": "[encoded data removed]",
       "text": [
        "<matplotlib.figure.Figure at 0x116062050>"
       ]
      }
     ],
     "prompt_number": 52
    },
    {
     "cell_type": "code",
     "collapsed": false,
     "input": [
      "#deduplicate \n",
      "#df.drop_duplicates"
     ],
     "language": "python",
     "metadata": {},
     "outputs": [],
     "prompt_number": 30
    }
   ],
   "metadata": {}
  }
 ]
}