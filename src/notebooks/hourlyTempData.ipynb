{
 "metadata": {
  "name": ""
 },
 "nbformat": 3,
 "nbformat_minor": 0,
 "worksheets": [
  {
   "cells": [
    {
     "cell_type": "markdown",
     "metadata": {},
     "source": [
      "####Accessing hourly tempurature data from NOAA\n",
      "\n",
      "The "
     ]
    }
   ],
   "metadata": {}
  }
 ]
}