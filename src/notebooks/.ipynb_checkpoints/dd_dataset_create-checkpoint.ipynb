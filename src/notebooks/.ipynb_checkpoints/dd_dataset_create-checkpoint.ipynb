{
 "metadata": {
  "name": "",
  "signature": "sha256:82808817087bba9cdfa8e62a5cb916651046b5435ac4482b65e299cdcca2ae01"
 },
 "nbformat": 3,
 "nbformat_minor": 0,
 "worksheets": [
  {
   "cells": [
    {
     "cell_type": "raw",
     "metadata": {},
     "source": [
      "##Create Dataset \n",
      "\n",
      "Date cumulative hdd\n",
      "\n",
      "CalTest_utility_data_combine"
     ]
    },
    {
     "cell_type": "code",
     "collapsed": false,
     "input": [
      "import pandas as pd\n",
      "\n",
      "cd "
     ],
     "language": "python",
     "metadata": {},
     "outputs": []
    },
    {
     "cell_type": "code",
     "collapsed": false,
     "input": [],
     "language": "python",
     "metadata": {},
     "outputs": []
    }
   ],
   "metadata": {}
  }
 ]
}