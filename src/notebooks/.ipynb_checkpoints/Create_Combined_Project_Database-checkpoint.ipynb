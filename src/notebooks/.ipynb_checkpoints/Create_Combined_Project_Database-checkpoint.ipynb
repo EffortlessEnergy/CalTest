{
 "metadata": {
  "name": "",
  "signature": "sha256:33a00bb52389250b785cfce64d8f6824598add4d314b6280afe6fe8c8bdb0310"
 },
 "nbformat": 3,
 "nbformat_minor": 0,
 "worksheets": []
}