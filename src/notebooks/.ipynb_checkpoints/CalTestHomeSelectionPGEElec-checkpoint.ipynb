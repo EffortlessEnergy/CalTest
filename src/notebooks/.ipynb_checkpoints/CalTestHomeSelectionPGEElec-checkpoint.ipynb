{
 "metadata": {
  "name": ""
 },
 "nbformat": 3,
 "nbformat_minor": 0,
 "worksheets": [
  {
   "cells": [
    {
     "cell_type": "markdown",
     "metadata": {},
     "source": [
      "##CalTest Home Selection Electricity\n",
      "\n",
      "*The purpose of home selection is to find a reprentative set of homes for CalTest. Representitiveness was determined by the following criteria:*\n",
      "\n",
      "1. Contractor (Completed by preferred contractors)\n",
      "2. Pre-retrofit air leakage (25th-90th percentile of CFM50)\n",
      "3. Energy intesity (25th-90th percentile)\n",
      "4. Elec HVAC Unit\n",
      "5. Stories (1)\n",
      "6. Total conditioned area (20th-80th percentile)\n",
      "7. Total electrictiy use (>40th percentile)\n",
      "8. Total elec savings (>40th percentile)\n",
      "9. Electic realization rate (25th-75th percentile)\n",
      "10. Fit on heating degree days regression ($R^2>.9$)\n",
      "11. Year built (>1950)\n",
      "12. Climate grouping (evenly distributed across 3 main groups)\n",
      "13. Utility (representative sample from each IOU)\n",
      "\n",
      "The final dataset `CalTest_test_homes_v1_4-1.csv` consists of 28 homes that form a representative distribution of home types, climate areas, and measures, while also meeting the selection criteria above.\n",
      "\n",
      "Test homes are also displayed in the likely format for vendors in the excel spreadsheet `CalTest_beta_v3_April_2.xls`.\n"
     ]
    },
    {
     "cell_type": "markdown",
     "metadata": {},
     "source": [
      "####Steps in home selection"
     ]
    },
    {
     "cell_type": "markdown",
     "metadata": {},
     "source": [
      "Begin with combined dataset of cleaned home charateristics with weather normalized data.\n",
      "\n",
      "    CalTest_combined_project_data_cleaned.csv\n",
      "    CalTest_combined_usage_data_cleaned.csv"
     ]
    },
    {
     "cell_type": "code",
     "collapsed": false,
     "input": [
      "import pandas as pd\n",
      "import matplotlib as plt\n",
      "\n",
      "\n",
      "util = \"pge\"\n",
      "climategroup = 2\n",
      "\n",
      "#specify dataset\n",
      "useData = \"/Users/matthewgee/Projects/CalTest/data/final/\" + str(util) +\"_CalTest_data_prepped.csv\"\n",
      "\n",
      "#specify path\n",
      "savePath = \"/Users/matthewgee/Projects/CalTest/data/final/\"\n",
      "\n",
      "\n",
      "#Define switch class\n",
      "class switch(object):\n",
      "    def __init__(self, value):\n",
      "        self.value = value\n",
      "        self.fall = False\n",
      "\n",
      "    def __iter__(self):\n",
      "        \"\"\"Return the match method once, then stop\"\"\"\n",
      "        yield self.match\n",
      "        raise StopIteration\n",
      "    \n",
      "    def match(self, *args):\n",
      "        \"\"\"Indicate whether or not to enter a case suite\"\"\"\n",
      "        if self.fall or not args:\n",
      "            return True\n",
      "        elif self.value in args: # changed for v1.5, see below\n",
      "            self.fall = True\n",
      "            return True\n",
      "        else:\n",
      "            return False"
     ],
     "language": "python",
     "metadata": {},
     "outputs": [],
     "prompt_number": 106
    },
    {
     "cell_type": "code",
     "collapsed": false,
     "input": [
      "#set utility and climate group for run\n",
      "#loop through scg, sdge pge\n",
      "#loop throug climate group 1,2,3 for PGE\n",
      "#loop through climategroup 4,5 for SCG\n",
      "#loop through climate group 6,7 for SDGE\n",
      "\n",
      "#Output filenames\n",
      "dataSelect = \"/Users/matthewgee/Projects/CalTest/data/final/\" + str(util) + \"_CalTest_elec_group_\" + str(climategroup) +\".csv\"\n",
      "combinedSelect = \"/Users/matthewgee/Projects/CalTest/data/final/\" + str(util) + \"_combined_CalTest_elec.csv\"\n",
      "combinedSelectX = \"/Users/matthewgee/Projects/CalTest/data/final/\" + str(util) + \"_combined_CalTest_elec.xls\""
     ],
     "language": "python",
     "metadata": {},
     "outputs": [],
     "prompt_number": 104
    },
    {
     "cell_type": "markdown",
     "metadata": {},
     "source": [
      "####Read in data as dataframes, and identify homes by utility\n"
     ]
    },
    {
     "cell_type": "code",
     "collapsed": false,
     "input": [
      "df = pd.read_csv(useData)\n",
      "len(df)\n",
      "df"
     ],
     "language": "python",
     "metadata": {},
     "outputs": [
      {
       "ename": "CParserError",
       "evalue": "Error tokenizing data. C error: Expected 330 fields in line 84, saw 336\n",
       "output_type": "pyerr",
       "traceback": [
        "\u001b[0;31m---------------------------------------------------------------------------\u001b[0m\n\u001b[0;31mCParserError\u001b[0m                              Traceback (most recent call last)",
        "\u001b[0;32m<ipython-input-105-66fd5c947f5e>\u001b[0m in \u001b[0;36m<module>\u001b[0;34m()\u001b[0m\n\u001b[0;32m----> 1\u001b[0;31m \u001b[0mdf\u001b[0m \u001b[0;34m=\u001b[0m \u001b[0mpd\u001b[0m\u001b[0;34m.\u001b[0m\u001b[0mread_csv\u001b[0m\u001b[0;34m(\u001b[0m\u001b[0museData\u001b[0m\u001b[0;34m)\u001b[0m\u001b[0;34m\u001b[0m\u001b[0m\n\u001b[0m\u001b[1;32m      2\u001b[0m \u001b[0mlen\u001b[0m\u001b[0;34m(\u001b[0m\u001b[0mdf\u001b[0m\u001b[0;34m)\u001b[0m\u001b[0;34m\u001b[0m\u001b[0m\n\u001b[1;32m      3\u001b[0m \u001b[0mdf\u001b[0m\u001b[0;34m\u001b[0m\u001b[0m\n",
        "\u001b[0;32m/Users/matthewgee/Library/Enthought/Canopy_64bit/User/lib/python2.7/site-packages/pandas/io/parsers.pyc\u001b[0m in \u001b[0;36mparser_f\u001b[0;34m(filepath_or_buffer, sep, dialect, compression, doublequote, escapechar, quotechar, quoting, skipinitialspace, lineterminator, header, index_col, names, prefix, skiprows, skipfooter, skip_footer, na_values, na_fvalues, true_values, false_values, delimiter, converters, dtype, usecols, engine, delim_whitespace, as_recarray, na_filter, compact_ints, use_unsigned, low_memory, buffer_lines, warn_bad_lines, error_bad_lines, keep_default_na, thousands, comment, decimal, parse_dates, keep_date_col, dayfirst, date_parser, memory_map, nrows, iterator, chunksize, verbose, encoding, squeeze, mangle_dupe_cols, tupleize_cols, infer_datetime_format)\u001b[0m\n\u001b[1;32m    418\u001b[0m                     infer_datetime_format=infer_datetime_format)\n\u001b[1;32m    419\u001b[0m \u001b[0;34m\u001b[0m\u001b[0m\n\u001b[0;32m--> 420\u001b[0;31m         \u001b[0;32mreturn\u001b[0m \u001b[0m_read\u001b[0m\u001b[0;34m(\u001b[0m\u001b[0mfilepath_or_buffer\u001b[0m\u001b[0;34m,\u001b[0m \u001b[0mkwds\u001b[0m\u001b[0;34m)\u001b[0m\u001b[0;34m\u001b[0m\u001b[0m\n\u001b[0m\u001b[1;32m    421\u001b[0m \u001b[0;34m\u001b[0m\u001b[0m\n\u001b[1;32m    422\u001b[0m     \u001b[0mparser_f\u001b[0m\u001b[0;34m.\u001b[0m\u001b[0m__name__\u001b[0m \u001b[0;34m=\u001b[0m \u001b[0mname\u001b[0m\u001b[0;34m\u001b[0m\u001b[0m\n",
        "\u001b[0;32m/Users/matthewgee/Library/Enthought/Canopy_64bit/User/lib/python2.7/site-packages/pandas/io/parsers.pyc\u001b[0m in \u001b[0;36m_read\u001b[0;34m(filepath_or_buffer, kwds)\u001b[0m\n\u001b[1;32m    223\u001b[0m         \u001b[0;32mreturn\u001b[0m \u001b[0mparser\u001b[0m\u001b[0;34m\u001b[0m\u001b[0m\n\u001b[1;32m    224\u001b[0m \u001b[0;34m\u001b[0m\u001b[0m\n\u001b[0;32m--> 225\u001b[0;31m     \u001b[0;32mreturn\u001b[0m \u001b[0mparser\u001b[0m\u001b[0;34m.\u001b[0m\u001b[0mread\u001b[0m\u001b[0;34m(\u001b[0m\u001b[0;34m)\u001b[0m\u001b[0;34m\u001b[0m\u001b[0m\n\u001b[0m\u001b[1;32m    226\u001b[0m \u001b[0;34m\u001b[0m\u001b[0m\n\u001b[1;32m    227\u001b[0m _parser_defaults = {\n",
        "\u001b[0;32m/Users/matthewgee/Library/Enthought/Canopy_64bit/User/lib/python2.7/site-packages/pandas/io/parsers.pyc\u001b[0m in \u001b[0;36mread\u001b[0;34m(self, nrows)\u001b[0m\n\u001b[1;32m    624\u001b[0m                 \u001b[0;32mraise\u001b[0m \u001b[0mValueError\u001b[0m\u001b[0;34m(\u001b[0m\u001b[0;34m'skip_footer not supported for iteration'\u001b[0m\u001b[0;34m)\u001b[0m\u001b[0;34m\u001b[0m\u001b[0m\n\u001b[1;32m    625\u001b[0m \u001b[0;34m\u001b[0m\u001b[0m\n\u001b[0;32m--> 626\u001b[0;31m         \u001b[0mret\u001b[0m \u001b[0;34m=\u001b[0m \u001b[0mself\u001b[0m\u001b[0;34m.\u001b[0m\u001b[0m_engine\u001b[0m\u001b[0;34m.\u001b[0m\u001b[0mread\u001b[0m\u001b[0;34m(\u001b[0m\u001b[0mnrows\u001b[0m\u001b[0;34m)\u001b[0m\u001b[0;34m\u001b[0m\u001b[0m\n\u001b[0m\u001b[1;32m    627\u001b[0m \u001b[0;34m\u001b[0m\u001b[0m\n\u001b[1;32m    628\u001b[0m         \u001b[0;32mif\u001b[0m \u001b[0mself\u001b[0m\u001b[0;34m.\u001b[0m\u001b[0moptions\u001b[0m\u001b[0;34m.\u001b[0m\u001b[0mget\u001b[0m\u001b[0;34m(\u001b[0m\u001b[0;34m'as_recarray'\u001b[0m\u001b[0;34m)\u001b[0m\u001b[0;34m:\u001b[0m\u001b[0;34m\u001b[0m\u001b[0m\n",
        "\u001b[0;32m/Users/matthewgee/Library/Enthought/Canopy_64bit/User/lib/python2.7/site-packages/pandas/io/parsers.pyc\u001b[0m in \u001b[0;36mread\u001b[0;34m(self, nrows)\u001b[0m\n\u001b[1;32m   1068\u001b[0m \u001b[0;34m\u001b[0m\u001b[0m\n\u001b[1;32m   1069\u001b[0m         \u001b[0;32mtry\u001b[0m\u001b[0;34m:\u001b[0m\u001b[0;34m\u001b[0m\u001b[0m\n\u001b[0;32m-> 1070\u001b[0;31m             \u001b[0mdata\u001b[0m \u001b[0;34m=\u001b[0m \u001b[0mself\u001b[0m\u001b[0;34m.\u001b[0m\u001b[0m_reader\u001b[0m\u001b[0;34m.\u001b[0m\u001b[0mread\u001b[0m\u001b[0;34m(\u001b[0m\u001b[0mnrows\u001b[0m\u001b[0;34m)\u001b[0m\u001b[0;34m\u001b[0m\u001b[0m\n\u001b[0m\u001b[1;32m   1071\u001b[0m         \u001b[0;32mexcept\u001b[0m \u001b[0mStopIteration\u001b[0m\u001b[0;34m:\u001b[0m\u001b[0;34m\u001b[0m\u001b[0m\n\u001b[1;32m   1072\u001b[0m             \u001b[0;32mif\u001b[0m \u001b[0mnrows\u001b[0m \u001b[0;32mis\u001b[0m \u001b[0mNone\u001b[0m\u001b[0;34m:\u001b[0m\u001b[0;34m\u001b[0m\u001b[0m\n",
        "\u001b[0;32m/Users/matthewgee/Library/Enthought/Canopy_64bit/User/lib/python2.7/site-packages/pandas/parser.so\u001b[0m in \u001b[0;36mpandas.parser.TextReader.read (pandas/parser.c:6866)\u001b[0;34m()\u001b[0m\n",
        "\u001b[0;32m/Users/matthewgee/Library/Enthought/Canopy_64bit/User/lib/python2.7/site-packages/pandas/parser.so\u001b[0m in \u001b[0;36mpandas.parser.TextReader._read_low_memory (pandas/parser.c:7086)\u001b[0;34m()\u001b[0m\n",
        "\u001b[0;32m/Users/matthewgee/Library/Enthought/Canopy_64bit/User/lib/python2.7/site-packages/pandas/parser.so\u001b[0m in \u001b[0;36mpandas.parser.TextReader._read_rows (pandas/parser.c:7691)\u001b[0;34m()\u001b[0m\n",
        "\u001b[0;32m/Users/matthewgee/Library/Enthought/Canopy_64bit/User/lib/python2.7/site-packages/pandas/parser.so\u001b[0m in \u001b[0;36mpandas.parser.TextReader._tokenize_rows (pandas/parser.c:7575)\u001b[0;34m()\u001b[0m\n",
        "\u001b[0;32m/Users/matthewgee/Library/Enthought/Canopy_64bit/User/lib/python2.7/site-packages/pandas/parser.so\u001b[0m in \u001b[0;36mpandas.parser.raise_parser_error (pandas/parser.c:19038)\u001b[0;34m()\u001b[0m\n",
        "\u001b[0;31mCParserError\u001b[0m: Error tokenizing data. C error: Expected 330 fields in line 84, saw 336\n"
       ]
      }
     ],
     "prompt_number": 105
    },
    {
     "cell_type": "code",
     "collapsed": false,
     "input": [
      "df.elec_realization.describe()\n",
      "df.climate.value_counts()"
     ],
     "language": "python",
     "metadata": {},
     "outputs": [
      {
       "metadata": {},
       "output_type": "pyout",
       "prompt_number": 75,
       "text": [
        "12    816\n",
        "3     440\n",
        "4     146\n",
        "11     93\n",
        "2      89\n",
        "13     47\n",
        "16      5\n",
        "5       2\n",
        "7       1\n",
        "dtype: int64"
       ]
      }
     ],
     "prompt_number": 75
    },
    {
     "cell_type": "markdown",
     "metadata": {},
     "source": [
      "###Create climate zone specific datasets"
     ]
    },
    {
     "cell_type": "code",
     "collapsed": false,
     "input": [
      "#Create climate zone-specific datasets\n",
      "# PG&E (12, 3), (4, 11, 2), (13,16,5,&7) \n",
      "for case in switch(climategroup):\n",
      "    if case(1):\n",
      "        df = df[(df['climate']==12) | (df['climate']==3)]\n",
      "        df = df[df.preffered_contractor==1]\n",
      "        break\n",
      "    if case(2):\n",
      "        df = df[(df['climate']==11)]\n",
      "        break\n",
      "    if case(3):\n",
      "        df = df[(df['climate']==2)]\n",
      "        break  \n",
      "    if case(4):\n",
      "        df = df[(df['climate']==13)]\n",
      "        break\n",
      "    if case():\n",
      "        print \"No climate group\"\n",
      "        break\n",
      "len(df)"
     ],
     "language": "python",
     "metadata": {},
     "outputs": [
      {
       "metadata": {},
       "output_type": "pyout",
       "prompt_number": 76,
       "text": [
        "47"
       ]
      }
     ],
     "prompt_number": 76
    },
    {
     "cell_type": "markdown",
     "metadata": {},
     "source": [
      "Subset by climate zone to ensure representativeness"
     ]
    },
    {
     "cell_type": "markdown",
     "metadata": {},
     "source": [
      "Subset by contractor (moved to the end of file)"
     ]
    },
    {
     "cell_type": "code",
     "collapsed": false,
     "input": [
      "df.contractor.value_counts()"
     ],
     "language": "python",
     "metadata": {},
     "outputs": [
      {
       "metadata": {},
       "output_type": "pyout",
       "prompt_number": 77,
       "text": [
        "ABC COOLING AND HEATING                 41\n",
        "BRIGHT IDEAS CONSTRUCTION INC            1\n",
        "SOLARCITY CORPORATION                    1\n",
        "BLAIN CONSTRUCTION CO INC                1\n",
        "SYNERGY COMPANIES                        1\n",
        "ADV ENERGY SERVICES, INC.                1\n",
        "ALPINE GREEN PROPERTY SERVICES, INC.     1\n",
        "dtype: int64"
       ]
      }
     ],
     "prompt_number": 77
    },
    {
     "cell_type": "code",
     "collapsed": false,
     "input": [
      "#I no longer screen by contractor size\n",
      "#g = df.groupby('contractor')\n",
      "#df = g.filter(lambda x: len(x) > 5)\n",
      "#df.contractor.value_counts()"
     ],
     "language": "python",
     "metadata": {},
     "outputs": [],
     "prompt_number": 78
    },
    {
     "cell_type": "code",
     "collapsed": false,
     "input": [
      "#df = df[df.preffered_contractor==1]\n",
      "len(df)"
     ],
     "language": "python",
     "metadata": {},
     "outputs": [
      {
       "metadata": {},
       "output_type": "pyout",
       "prompt_number": 79,
       "text": [
        "47"
       ]
      }
     ],
     "prompt_number": 79
    },
    {
     "cell_type": "markdown",
     "metadata": {},
     "source": [
      "####Filter by quantile of pre-retrofit CFM50\n"
     ]
    },
    {
     "cell_type": "code",
     "collapsed": false,
     "input": [
      "df.shell_leakage_cfm50_existing.describe()"
     ],
     "language": "python",
     "metadata": {},
     "outputs": [
      {
       "metadata": {},
       "output_type": "pyout",
       "prompt_number": 80,
       "text": [
        "count      46.000000\n",
        "mean     2382.281691\n",
        "std      1209.048625\n",
        "min       866.000000\n",
        "25%      1663.750000\n",
        "50%      2040.000000\n",
        "75%      2711.250000\n",
        "max      6760.000000\n",
        "Name: shell_leakage_cfm50_existing, dtype: float64"
       ]
      }
     ],
     "prompt_number": 80
    },
    {
     "cell_type": "markdown",
     "metadata": {},
     "source": [
      "Histogram of pre-retrofi CFM50\n"
     ]
    },
    {
     "cell_type": "code",
     "collapsed": false,
     "input": [
      "df.shell_leakage_cfm50_existing.hist(figsize=(10,5))"
     ],
     "language": "python",
     "metadata": {},
     "outputs": [
      {
       "metadata": {},
       "output_type": "pyout",
       "prompt_number": 81,
       "text": [
        "<matplotlib.axes.AxesSubplot at 0x10b116690>"
       ]
      },
      {
       "metadata": {},
       "output_type": "display_data",
       "png": "[encoded data removed]",
       "text": [
        "<matplotlib.figure.Figure at 0x10b221e10>"
       ]
      }
     ],
     "prompt_number": 81
    },
    {
     "cell_type": "markdown",
     "metadata": {},
     "source": [
      "Remove lower 25% percentile and top 10 percentile of CFM50"
     ]
    },
    {
     "cell_type": "code",
     "collapsed": false,
     "input": [
      "df = df[df.shell_leakage_cfm50_existing < df.shell_leakage_cfm50_existing.quantile(.90)]\n",
      "df = df[df.shell_leakage_cfm50_existing.quantile(.25) < df.shell_leakage_cfm50_existing]\n",
      "df.shell_leakage_cfm50_existing.hist(figsize(10,5))"
     ],
     "language": "python",
     "metadata": {},
     "outputs": [
      {
       "metadata": {},
       "output_type": "pyout",
       "prompt_number": 82,
       "text": [
        "<matplotlib.axes.AxesSubplot at 0x10ba18510>"
       ]
      },
      {
       "metadata": {},
       "output_type": "display_data",
       "png": "[encoded data removed]",
       "text": [
        "<matplotlib.figure.Figure at 0x10b943e50>"
       ]
      }
     ],
     "prompt_number": 82
    },
    {
     "cell_type": "markdown",
     "metadata": {},
     "source": [
      "New distribution of CFM50"
     ]
    },
    {
     "cell_type": "code",
     "collapsed": false,
     "input": [
      "len(df)"
     ],
     "language": "python",
     "metadata": {},
     "outputs": [
      {
       "metadata": {},
       "output_type": "pyout",
       "prompt_number": 83,
       "text": [
        "30"
       ]
      }
     ],
     "prompt_number": 83
    },
    {
     "cell_type": "markdown",
     "metadata": {},
     "source": [
      "###Select by energy intensity"
     ]
    },
    {
     "cell_type": "code",
     "collapsed": false,
     "input": [
      "df.energy_intensity.hist(figsize=(10,5))"
     ],
     "language": "python",
     "metadata": {},
     "outputs": [
      {
       "metadata": {},
       "output_type": "pyout",
       "prompt_number": 84,
       "text": [
        "<matplotlib.axes.AxesSubplot at 0x109dda410>"
       ]
      },
      {
       "metadata": {},
       "output_type": "display_data",
       "png": "[encoded data removed]",
       "text": [
        "<matplotlib.figure.Figure at 0x10a731790>"
       ]
      }
     ],
     "prompt_number": 84
    },
    {
     "cell_type": "markdown",
     "metadata": {},
     "source": [
      "Remove lower 25 percentile and top 10 percentile of CFM50"
     ]
    },
    {
     "cell_type": "code",
     "collapsed": false,
     "input": [
      "df = df[df.energy_intensity < df.energy_intensity.quantile(.90)]\n",
      "df = df[df.energy_intensity.quantile(.25) < df.energy_intensity]\n",
      "df.energy_intensity.hist(figsize=(10,5))"
     ],
     "language": "python",
     "metadata": {},
     "outputs": [
      {
       "metadata": {},
       "output_type": "pyout",
       "prompt_number": 85,
       "text": [
        "<matplotlib.axes.AxesSubplot at 0x10b9b94d0>"
       ]
      },
      {
       "metadata": {},
       "output_type": "display_data",
       "png": "[encoded data removed]",
       "text": [
        "<matplotlib.figure.Figure at 0x10b9ba650>"
       ]
      }
     ],
     "prompt_number": 85
    },
    {
     "cell_type": "markdown",
     "metadata": {},
     "source": [
      "###Must have central AC\n"
     ]
    },
    {
     "cell_type": "code",
     "collapsed": false,
     "input": [
      "#df= df[df.cooltype1!=\"None\"]\n",
      "len(df)"
     ],
     "language": "python",
     "metadata": {},
     "outputs": [
      {
       "metadata": {},
       "output_type": "pyout",
       "prompt_number": 86,
       "text": [
        "18"
       ]
      }
     ],
     "prompt_number": 86
    },
    {
     "cell_type": "markdown",
     "metadata": {},
     "source": [
      "###Remove based on number of stories\n",
      "For now we are including only 1 story buildings\n"
     ]
    },
    {
     "cell_type": "code",
     "collapsed": false,
     "input": [
      "df.stories_above_grade.value_counts()"
     ],
     "language": "python",
     "metadata": {},
     "outputs": [
      {
       "metadata": {},
       "output_type": "pyout",
       "prompt_number": 87,
       "text": [
        "1    18\n",
        "dtype: int64"
       ]
      }
     ],
     "prompt_number": 87
    },
    {
     "cell_type": "code",
     "collapsed": false,
     "input": [
      "df = df[df.stories_above_grade==1]\n",
      "len(df)"
     ],
     "language": "python",
     "metadata": {},
     "outputs": [
      {
       "metadata": {},
       "output_type": "pyout",
       "prompt_number": 88,
       "text": [
        "18"
       ]
      }
     ],
     "prompt_number": 88
    },
    {
     "cell_type": "markdown",
     "metadata": {},
     "source": [
      "###Subset by total area\n",
      "\n",
      "Look at the distribution of total conditioned area across the subset of homes."
     ]
    },
    {
     "cell_type": "code",
     "collapsed": false,
     "input": [
      "df.pre_conditioned_area.hist(figsize=(10,5))"
     ],
     "language": "python",
     "metadata": {},
     "outputs": [
      {
       "metadata": {},
       "output_type": "pyout",
       "prompt_number": 89,
       "text": [
        "<matplotlib.axes.AxesSubplot at 0x10b93a150>"
       ]
      },
      {
       "metadata": {},
       "output_type": "display_data",
       "png": "[encoded data removed]",
       "text": [
        "<matplotlib.figure.Figure at 0x10b9ba5d0>"
       ]
      }
     ],
     "prompt_number": 89
    },
    {
     "cell_type": "markdown",
     "metadata": {},
     "source": [
      "Dropping the lower and upper 20% of the distribution"
     ]
    },
    {
     "cell_type": "code",
     "collapsed": false,
     "input": [
      "df = df[df.pre_conditioned_area < df.pre_conditioned_area.quantile(.80)]\n",
      "df = df[df.pre_conditioned_area.quantile(.20) < df.pre_conditioned_area]\n",
      "df.pre_conditioned_area.hist(figsize=(10,5))"
     ],
     "language": "python",
     "metadata": {},
     "outputs": [
      {
       "metadata": {},
       "output_type": "pyout",
       "prompt_number": 90,
       "text": [
        "<matplotlib.axes.AxesSubplot at 0x10c3c7a10>"
       ]
      },
      {
       "metadata": {},
       "output_type": "display_data",
       "png": "[encoded data removed]",
       "text": [
        "<matplotlib.figure.Figure at 0x10c5c6850>"
       ]
      }
     ],
     "prompt_number": 90
    },
    {
     "cell_type": "markdown",
     "metadata": {},
     "source": [
      "###Subset on total electricity savings\n",
      "We select for the upper 60% and remove only the top 3% from the total realized savings distribution to ensure there is enough signal in the sample homes for testing."
     ]
    },
    {
     "cell_type": "code",
     "collapsed": false,
     "input": [
      "df.electricity_savings.hist(figsize=(10,5))"
     ],
     "language": "python",
     "metadata": {},
     "outputs": [
      {
       "metadata": {},
       "output_type": "pyout",
       "prompt_number": 91,
       "text": [
        "<matplotlib.axes.AxesSubplot at 0x10b94c990>"
       ]
      },
      {
       "metadata": {},
       "output_type": "display_data",
       "png": "[encoded data removed]",
       "text": [
        "<matplotlib.figure.Figure at 0x10c5ce310>"
       ]
      }
     ],
     "prompt_number": 91
    },
    {
     "cell_type": "code",
     "collapsed": false,
     "input": [
      "df = df[df.electricity_savings < df.electricity_savings.quantile(.97)]\n",
      "df = df[df.electricity_savings.quantile(.40) < df.electricity_savings]\n",
      "df.electricity_savings.hist(figsize=(10,5))"
     ],
     "language": "python",
     "metadata": {},
     "outputs": [
      {
       "metadata": {},
       "output_type": "pyout",
       "prompt_number": 92,
       "text": [
        "<matplotlib.axes.AxesSubplot at 0x10d0cd350>"
       ]
      },
      {
       "metadata": {},
       "output_type": "display_data",
       "png": "[encoded data removed]",
       "text": [
        "<matplotlib.figure.Figure at 0x10d0ce890>"
       ]
      }
     ],
     "prompt_number": 92
    },
    {
     "cell_type": "code",
     "collapsed": false,
     "input": [
      "len(df)"
     ],
     "language": "python",
     "metadata": {},
     "outputs": [
      {
       "metadata": {},
       "output_type": "pyout",
       "prompt_number": 93,
       "text": [
        "5"
       ]
      }
     ],
     "prompt_number": 93
    },
    {
     "cell_type": "markdown",
     "metadata": {},
     "source": [
      "###Subset on Realization Rate\n",
      "\n",
      "Examining the distribution of realization rates for gas and electricity"
     ]
    },
    {
     "cell_type": "code",
     "collapsed": false,
     "input": [
      "#Gas Realization rates\n",
      "df.gas_realization.hist()"
     ],
     "language": "python",
     "metadata": {},
     "outputs": [
      {
       "metadata": {},
       "output_type": "pyout",
       "prompt_number": 94,
       "text": [
        "<matplotlib.axes.AxesSubplot at 0x10c5cb850>"
       ]
      },
      {
       "metadata": {},
       "output_type": "display_data",
       "png": "[encoded data removed]",
       "text": [
        "<matplotlib.figure.Figure at 0x10d0d6f10>"
       ]
      }
     ],
     "prompt_number": 94
    },
    {
     "cell_type": "code",
     "collapsed": false,
     "input": [
      "#Electricity Realization rates\n",
      "df.elec_realization.hist()"
     ],
     "language": "python",
     "metadata": {},
     "outputs": [
      {
       "metadata": {},
       "output_type": "pyout",
       "prompt_number": 95,
       "text": [
        "<matplotlib.axes.AxesSubplot at 0x10c7cae50>"
       ]
      },
      {
       "metadata": {},
       "output_type": "display_data",
       "png": "[encoded data removed]",
       "text": [
        "<matplotlib.figure.Figure at 0x10c7e2f90>"
       ]
      }
     ],
     "prompt_number": 95
    },
    {
     "cell_type": "markdown",
     "metadata": {},
     "source": [
      "Drop the upper and lower 25th percentiles for both gas and electrcity"
     ]
    },
    {
     "cell_type": "code",
     "collapsed": false,
     "input": [
      "df = df[df.elec_realization < df.elec_realization.quantile(.90)]\n",
      "df = df[df.elec_realization.quantile(.20) < df.elec_realization]\n",
      "df.elec_realization.hist(figsize=(10,5))"
     ],
     "language": "python",
     "metadata": {},
     "outputs": [
      {
       "metadata": {},
       "output_type": "pyout",
       "prompt_number": 96,
       "text": [
        "<matplotlib.axes.AxesSubplot at 0x10d5d9610>"
       ]
      },
      {
       "metadata": {},
       "output_type": "display_data",
       "png": "[encoded data removed]",
       "text": [
        "<matplotlib.figure.Figure at 0x10d5df050>"
       ]
      }
     ],
     "prompt_number": 96
    },
    {
     "cell_type": "code",
     "collapsed": false,
     "input": [
      "#df = df[df.elec_realization < df.elec_realization.quantile(.80)]\n",
      "#df = df[df.elec_realization.quantile(.20) < df.elec_realization]\n",
      "#df.elec_realization.hist(figsize=(10,5))"
     ],
     "language": "python",
     "metadata": {},
     "outputs": [],
     "prompt_number": 97
    },
    {
     "cell_type": "code",
     "collapsed": false,
     "input": [
      "len(df)"
     ],
     "language": "python",
     "metadata": {},
     "outputs": [
      {
       "metadata": {},
       "output_type": "pyout",
       "prompt_number": 98,
       "text": [
        "3"
       ]
      }
     ],
     "prompt_number": 98
    },
    {
     "cell_type": "markdown",
     "metadata": {},
     "source": [
      "###Only include preffered contractors\n"
     ]
    },
    {
     "cell_type": "code",
     "collapsed": false,
     "input": [
      "#df = df[df.preffered_contractor==1]\n",
      "#len(df)"
     ],
     "language": "python",
     "metadata": {},
     "outputs": [],
     "prompt_number": 901
    },
    {
     "cell_type": "markdown",
     "metadata": {},
     "source": [
      "###Check representativeness across climate zones"
     ]
    },
    {
     "cell_type": "code",
     "collapsed": false,
     "input": [
      "df.climate.value_counts()"
     ],
     "language": "python",
     "metadata": {},
     "outputs": [
      {
       "metadata": {},
       "output_type": "pyout",
       "prompt_number": 99,
       "text": [
        "13    3\n",
        "dtype: int64"
       ]
      }
     ],
     "prompt_number": 99
    },
    {
     "cell_type": "markdown",
     "metadata": {},
     "source": [
      "###Checking representativeness across features\n"
     ]
    },
    {
     "cell_type": "code",
     "collapsed": false,
     "input": [
      "df.year_built.hist()"
     ],
     "language": "python",
     "metadata": {},
     "outputs": [
      {
       "metadata": {},
       "output_type": "pyout",
       "prompt_number": 903,
       "text": [
        "<matplotlib.axes.AxesSubplot at 0x13a5df590>"
       ]
      },
      {
       "metadata": {},
       "output_type": "display_data",
       "png": "[encoded data removed]",
       "text": [
        "<matplotlib.figure.Figure at 0x13a5f0610>"
       ]
      }
     ],
     "prompt_number": 903
    },
    {
     "cell_type": "markdown",
     "metadata": {},
     "source": [
      "Remove old (yearbuild<1979) from the sample"
     ]
    },
    {
     "cell_type": "code",
     "collapsed": false,
     "input": [
      "#df = df[df.year_built > 1930]\n",
      "#df.year_built.hist()"
     ],
     "language": "python",
     "metadata": {},
     "outputs": [],
     "prompt_number": 904
    },
    {
     "cell_type": "code",
     "collapsed": false,
     "input": [
      "len(df)"
     ],
     "language": "python",
     "metadata": {},
     "outputs": [
      {
       "metadata": {},
       "output_type": "pyout",
       "prompt_number": 905,
       "text": [
        "3"
       ]
      }
     ],
     "prompt_number": 905
    },
    {
     "cell_type": "code",
     "collapsed": false,
     "input": [
      "df.describe()"
     ],
     "language": "python",
     "metadata": {},
     "outputs": [
      {
       "html": [
        "<div style=\"max-height:1000px;max-width:1500px;overflow:auto;\">\n",
        "<table border=\"1\" class=\"dataframe\">\n",
        "  <thead>\n",
        "    <tr style=\"text-align: right;\">\n",
        "      <th></th>\n",
        "      <th>zipcode</th>\n",
        "      <th>year_built</th>\n",
        "      <th>grosssqft</th>\n",
        "      <th>pre_conditioned_area</th>\n",
        "      <th>conditionedsqft</th>\n",
        "      <th>total_savings</th>\n",
        "      <th>electricity_savings</th>\n",
        "      <th>gas_savings</th>\n",
        "      <th>projected_elec_savings</th>\n",
        "      <th>projected_gas_savings</th>\n",
        "      <th>climate</th>\n",
        "      <th>pre_yearbuilt</th>\n",
        "      <th>stories_above_grade</th>\n",
        "      <th>volume</th>\n",
        "      <th>central_AC_existing</th>\n",
        "      <th>shell_leakage_cfm50_existing</th>\n",
        "      <th>duct_leakage_existing</th>\n",
        "      <th>duct_insulation_r_existing</th>\n",
        "      <th>attic_insulation_existing</th>\n",
        "      <th>wall_insulation_existing</th>\n",
        "      <th></th>\n",
        "    </tr>\n",
        "  </thead>\n",
        "  <tbody>\n",
        "    <tr>\n",
        "      <th>count</th>\n",
        "      <td>     4.000000</td>\n",
        "      <td>    4.000000</td>\n",
        "      <td>    4.00000</td>\n",
        "      <td>    4.00000</td>\n",
        "      <td>    4.00000</td>\n",
        "      <td>     4.00000</td>\n",
        "      <td>     4.000000</td>\n",
        "      <td>     4.000000</td>\n",
        "      <td>    4.000000</td>\n",
        "      <td>   4.000000</td>\n",
        "      <td>  4</td>\n",
        "      <td>    4.000000</td>\n",
        "      <td> 4</td>\n",
        "      <td>     4.000000</td>\n",
        "      <td> 4</td>\n",
        "      <td>    4.000000</td>\n",
        "      <td>   1</td>\n",
        "      <td> 4.000</td>\n",
        "      <td> 4.000000</td>\n",
        "      <td> 4.000000</td>\n",
        "      <td>...</td>\n",
        "    </tr>\n",
        "    <tr>\n",
        "      <th>mean</th>\n",
        "      <td> 95733.500000</td>\n",
        "      <td> 1976.500000</td>\n",
        "      <td> 1836.25000</td>\n",
        "      <td> 1836.25000</td>\n",
        "      <td> 1836.25000</td>\n",
        "      <td> 35569.00000</td>\n",
        "      <td> 15032.250000</td>\n",
        "      <td> 20536.500000</td>\n",
        "      <td> 4405.700500</td>\n",
        "      <td> 205.365000</td>\n",
        "      <td> 11</td>\n",
        "      <td> 1976.500000</td>\n",
        "      <td> 1</td>\n",
        "      <td> 15190.000000</td>\n",
        "      <td> 1</td>\n",
        "      <td> 2166.750000</td>\n",
        "      <td> 159</td>\n",
        "      <td> 3.875</td>\n",
        "      <td> 0.045133</td>\n",
        "      <td> 0.231313</td>\n",
        "      <td>...</td>\n",
        "    </tr>\n",
        "    <tr>\n",
        "      <th>std</th>\n",
        "      <td>    38.716921</td>\n",
        "      <td>   13.868429</td>\n",
        "      <td>  250.45076</td>\n",
        "      <td>  250.45076</td>\n",
        "      <td>  250.45076</td>\n",
        "      <td>  8261.32326</td>\n",
        "      <td>  4429.548237</td>\n",
        "      <td>  4077.087727</td>\n",
        "      <td> 1298.226209</td>\n",
        "      <td>  40.770877</td>\n",
        "      <td>  0</td>\n",
        "      <td>   13.868429</td>\n",
        "      <td> 0</td>\n",
        "      <td>  2600.212299</td>\n",
        "      <td> 0</td>\n",
        "      <td>  315.001984</td>\n",
        "      <td> NaN</td>\n",
        "      <td> 0.650</td>\n",
        "      <td> 0.004246</td>\n",
        "      <td> 0.144003</td>\n",
        "      <td>...</td>\n",
        "    </tr>\n",
        "    <tr>\n",
        "      <th>min</th>\n",
        "      <td> 95677.000000</td>\n",
        "      <td> 1964.000000</td>\n",
        "      <td> 1608.00000</td>\n",
        "      <td> 1608.00000</td>\n",
        "      <td> 1608.00000</td>\n",
        "      <td> 26124.00000</td>\n",
        "      <td>  9527.000000</td>\n",
        "      <td> 16597.000000</td>\n",
        "      <td> 2792.204000</td>\n",
        "      <td> 165.970000</td>\n",
        "      <td> 11</td>\n",
        "      <td> 1964.000000</td>\n",
        "      <td> 1</td>\n",
        "      <td> 12864.000000</td>\n",
        "      <td> 1</td>\n",
        "      <td> 1804.000000</td>\n",
        "      <td> 159</td>\n",
        "      <td> 2.900</td>\n",
        "      <td> 0.039736</td>\n",
        "      <td> 0.103250</td>\n",
        "      <td>...</td>\n",
        "    </tr>\n",
        "    <tr>\n",
        "      <th>25%</th>\n",
        "      <td> 95728.750000</td>\n",
        "      <td> 1964.750000</td>\n",
        "      <td> 1629.75000</td>\n",
        "      <td> 1629.75000</td>\n",
        "      <td> 1629.75000</td>\n",
        "      <td> 32404.50000</td>\n",
        "      <td> 13157.750000</td>\n",
        "      <td> 18033.250000</td>\n",
        "      <td> 3856.316000</td>\n",
        "      <td> 180.332500</td>\n",
        "      <td> 11</td>\n",
        "      <td> 1964.750000</td>\n",
        "      <td> 1</td>\n",
        "      <td> 13038.000000</td>\n",
        "      <td> 1</td>\n",
        "      <td> 1990.000000</td>\n",
        "      <td> 159</td>\n",
        "      <td> 3.875</td>\n",
        "      <td> 0.042781</td>\n",
        "      <td> 0.108313</td>\n",
        "      <td>...</td>\n",
        "    </tr>\n",
        "    <tr>\n",
        "      <th>50%</th>\n",
        "      <td> 95746.000000</td>\n",
        "      <td> 1976.500000</td>\n",
        "      <td> 1818.50000</td>\n",
        "      <td> 1818.50000</td>\n",
        "      <td> 1818.50000</td>\n",
        "      <td> 34944.50000</td>\n",
        "      <td> 15177.000000</td>\n",
        "      <td> 19767.000000</td>\n",
        "      <td> 4448.124500</td>\n",
        "      <td> 197.670000</td>\n",
        "      <td> 11</td>\n",
        "      <td> 1976.500000</td>\n",
        "      <td> 1</td>\n",
        "      <td> 14948.000000</td>\n",
        "      <td> 1</td>\n",
        "      <td> 2159.000000</td>\n",
        "      <td> 159</td>\n",
        "      <td> 4.200</td>\n",
        "      <td> 0.045898</td>\n",
        "      <td> 0.233000</td>\n",
        "      <td>...</td>\n",
        "    </tr>\n",
        "    <tr>\n",
        "      <th>75%</th>\n",
        "      <td> 95750.750000</td>\n",
        "      <td> 1988.250000</td>\n",
        "      <td> 2025.00000</td>\n",
        "      <td> 2025.00000</td>\n",
        "      <td> 2025.00000</td>\n",
        "      <td> 38109.00000</td>\n",
        "      <td> 17051.500000</td>\n",
        "      <td> 22270.250000</td>\n",
        "      <td> 4997.509000</td>\n",
        "      <td> 222.702500</td>\n",
        "      <td> 11</td>\n",
        "      <td> 1988.250000</td>\n",
        "      <td> 1</td>\n",
        "      <td> 17100.000000</td>\n",
        "      <td> 1</td>\n",
        "      <td> 2335.750000</td>\n",
        "      <td> 159</td>\n",
        "      <td> 4.200</td>\n",
        "      <td> 0.048250</td>\n",
        "      <td> 0.356000</td>\n",
        "      <td>...</td>\n",
        "    </tr>\n",
        "    <tr>\n",
        "      <th>max</th>\n",
        "      <td> 95765.000000</td>\n",
        "      <td> 1989.000000</td>\n",
        "      <td> 2100.00000</td>\n",
        "      <td> 2100.00000</td>\n",
        "      <td> 2100.00000</td>\n",
        "      <td> 46263.00000</td>\n",
        "      <td> 20248.000000</td>\n",
        "      <td> 26015.000000</td>\n",
        "      <td> 5934.349000</td>\n",
        "      <td> 260.150000</td>\n",
        "      <td> 11</td>\n",
        "      <td> 1989.000000</td>\n",
        "      <td> 1</td>\n",
        "      <td> 18000.000000</td>\n",
        "      <td> 1</td>\n",
        "      <td> 2545.000000</td>\n",
        "      <td> 159</td>\n",
        "      <td> 4.200</td>\n",
        "      <td> 0.049000</td>\n",
        "      <td> 0.356000</td>\n",
        "      <td>...</td>\n",
        "    </tr>\n",
        "  </tbody>\n",
        "</table>\n",
        "<p>8 rows \u00d7 243 columns</p>\n",
        "</div>"
       ],
       "metadata": {},
       "output_type": "pyout",
       "prompt_number": 69,
       "text": [
        "            zipcode   year_built   grosssqft  pre_conditioned_area  \\\n",
        "count      4.000000     4.000000     4.00000               4.00000   \n",
        "mean   95733.500000  1976.500000  1836.25000            1836.25000   \n",
        "std       38.716921    13.868429   250.45076             250.45076   \n",
        "min    95677.000000  1964.000000  1608.00000            1608.00000   \n",
        "25%    95728.750000  1964.750000  1629.75000            1629.75000   \n",
        "50%    95746.000000  1976.500000  1818.50000            1818.50000   \n",
        "75%    95750.750000  1988.250000  2025.00000            2025.00000   \n",
        "max    95765.000000  1989.000000  2100.00000            2100.00000   \n",
        "\n",
        "       conditionedsqft  total_savings  electricity_savings   gas_savings  \\\n",
        "count          4.00000        4.00000             4.000000      4.000000   \n",
        "mean        1836.25000    35569.00000         15032.250000  20536.500000   \n",
        "std          250.45076     8261.32326          4429.548237   4077.087727   \n",
        "min         1608.00000    26124.00000          9527.000000  16597.000000   \n",
        "25%         1629.75000    32404.50000         13157.750000  18033.250000   \n",
        "50%         1818.50000    34944.50000         15177.000000  19767.000000   \n",
        "75%         2025.00000    38109.00000         17051.500000  22270.250000   \n",
        "max         2100.00000    46263.00000         20248.000000  26015.000000   \n",
        "\n",
        "       projected_elec_savings  projected_gas_savings  climate  pre_yearbuilt  \\\n",
        "count                4.000000               4.000000        4       4.000000   \n",
        "mean              4405.700500             205.365000       11    1976.500000   \n",
        "std               1298.226209              40.770877        0      13.868429   \n",
        "min               2792.204000             165.970000       11    1964.000000   \n",
        "25%               3856.316000             180.332500       11    1964.750000   \n",
        "50%               4448.124500             197.670000       11    1976.500000   \n",
        "75%               4997.509000             222.702500       11    1988.250000   \n",
        "max               5934.349000             260.150000       11    1989.000000   \n",
        "\n",
        "       stories_above_grade        volume  central_AC_existing  \\\n",
        "count                    4      4.000000                    4   \n",
        "mean                     1  15190.000000                    1   \n",
        "std                      0   2600.212299                    0   \n",
        "min                      1  12864.000000                    1   \n",
        "25%                      1  13038.000000                    1   \n",
        "50%                      1  14948.000000                    1   \n",
        "75%                      1  17100.000000                    1   \n",
        "max                      1  18000.000000                    1   \n",
        "\n",
        "       shell_leakage_cfm50_existing  duct_leakage_existing  \\\n",
        "count                      4.000000                      1   \n",
        "mean                    2166.750000                    159   \n",
        "std                      315.001984                    NaN   \n",
        "min                     1804.000000                    159   \n",
        "25%                     1990.000000                    159   \n",
        "50%                     2159.000000                    159   \n",
        "75%                     2335.750000                    159   \n",
        "max                     2545.000000                    159   \n",
        "\n",
        "       duct_insulation_r_existing  attic_insulation_existing  \\\n",
        "count                       4.000                   4.000000   \n",
        "mean                        3.875                   0.045133   \n",
        "std                         0.650                   0.004246   \n",
        "min                         2.900                   0.039736   \n",
        "25%                         3.875                   0.042781   \n",
        "50%                         4.200                   0.045898   \n",
        "75%                         4.200                   0.048250   \n",
        "max                         4.200                   0.049000   \n",
        "\n",
        "       wall_insulation_existing      \n",
        "count                  4.000000 ...  \n",
        "mean                   0.231313 ...  \n",
        "std                    0.144003 ...  \n",
        "min                    0.103250 ...  \n",
        "25%                    0.108313 ...  \n",
        "50%                    0.233000 ...  \n",
        "75%                    0.356000 ...  \n",
        "max                    0.356000 ...  \n",
        "\n",
        "[8 rows x 243 columns]"
       ]
      }
     ],
     "prompt_number": 69
    },
    {
     "cell_type": "markdown",
     "metadata": {},
     "source": [
      "###Output final files, create a combined file, & create Excel workbook"
     ]
    },
    {
     "cell_type": "code",
     "collapsed": false,
     "input": [
      "df.fillna(\"\")\n",
      "df.to_csv(dataSelect)"
     ],
     "language": "python",
     "metadata": {},
     "outputs": [],
     "prompt_number": 100
    },
    {
     "cell_type": "code",
     "collapsed": false,
     "input": [
      "#Create combined file across climate zones\n",
      "df1 = pd.read_csv(\"/Users/matthewgee/Projects/CalTest/data/final/\" + str(util) + \"_CalTest_elec_group_1.csv\")\n",
      "df2 = pd.read_csv(\"/Users/matthewgee/Projects/CalTest/data/final/\" + str(util) + \"_CalTest_elec_group_2.csv\")\n",
      "df3 = pd.read_csv(\"/Users/matthewgee/Projects/CalTest/data/final/\" + str(util) + \"_CalTest_elec_group_3.csv\")\n",
      "df4 = pd.read_csv(\"/Users/matthewgee/Projects/CalTest/data/final/\" + str(util) + \"_CalTest_elec_group_4.csv\")\n",
      "df = pd.concat([df1,df2,df3,df4])\n",
      "df.to_csv(combinedSelect)\n",
      "df.to_excel(combinedSelectX)"
     ],
     "language": "python",
     "metadata": {},
     "outputs": [
      {
       "ename": "ValueError",
       "evalue": "column index (256) not an int in range(256)",
       "output_type": "pyerr",
       "traceback": [
        "\u001b[0;31m---------------------------------------------------------------------------\u001b[0m\n\u001b[0;31mValueError\u001b[0m                                Traceback (most recent call last)",
        "\u001b[0;32m<ipython-input-101-00226455861f>\u001b[0m in \u001b[0;36m<module>\u001b[0;34m()\u001b[0m\n\u001b[1;32m      6\u001b[0m \u001b[0mdf\u001b[0m \u001b[0;34m=\u001b[0m \u001b[0mpd\u001b[0m\u001b[0;34m.\u001b[0m\u001b[0mconcat\u001b[0m\u001b[0;34m(\u001b[0m\u001b[0;34m[\u001b[0m\u001b[0mdf1\u001b[0m\u001b[0;34m,\u001b[0m\u001b[0mdf2\u001b[0m\u001b[0;34m,\u001b[0m\u001b[0mdf3\u001b[0m\u001b[0;34m,\u001b[0m\u001b[0mdf4\u001b[0m\u001b[0;34m]\u001b[0m\u001b[0;34m)\u001b[0m\u001b[0;34m\u001b[0m\u001b[0m\n\u001b[1;32m      7\u001b[0m \u001b[0mdf\u001b[0m\u001b[0;34m.\u001b[0m\u001b[0mto_csv\u001b[0m\u001b[0;34m(\u001b[0m\u001b[0mcombinedSelect\u001b[0m\u001b[0;34m)\u001b[0m\u001b[0;34m\u001b[0m\u001b[0m\n\u001b[0;32m----> 8\u001b[0;31m \u001b[0mdf\u001b[0m\u001b[0;34m.\u001b[0m\u001b[0mto_excel\u001b[0m\u001b[0;34m(\u001b[0m\u001b[0mcombinedSelectX\u001b[0m\u001b[0;34m)\u001b[0m\u001b[0;34m\u001b[0m\u001b[0m\n\u001b[0m",
        "\u001b[0;32m/Users/matthewgee/Library/Enthought/Canopy_64bit/User/lib/python2.7/site-packages/pandas/core/frame.pyc\u001b[0m in \u001b[0;36mto_excel\u001b[0;34m(self, excel_writer, sheet_name, na_rep, float_format, cols, header, index, index_label, startrow, startcol, engine, merge_cells)\u001b[0m\n\u001b[1;32m   1202\u001b[0m         \u001b[0mformatted_cells\u001b[0m \u001b[0;34m=\u001b[0m \u001b[0mformatter\u001b[0m\u001b[0;34m.\u001b[0m\u001b[0mget_formatted_cells\u001b[0m\u001b[0;34m(\u001b[0m\u001b[0;34m)\u001b[0m\u001b[0;34m\u001b[0m\u001b[0m\n\u001b[1;32m   1203\u001b[0m         excel_writer.write_cells(formatted_cells, sheet_name,\n\u001b[0;32m-> 1204\u001b[0;31m                                  startrow=startrow, startcol=startcol)\n\u001b[0m\u001b[1;32m   1205\u001b[0m         \u001b[0;32mif\u001b[0m \u001b[0mneed_save\u001b[0m\u001b[0;34m:\u001b[0m\u001b[0;34m\u001b[0m\u001b[0m\n\u001b[1;32m   1206\u001b[0m             \u001b[0mexcel_writer\u001b[0m\u001b[0;34m.\u001b[0m\u001b[0msave\u001b[0m\u001b[0;34m(\u001b[0m\u001b[0;34m)\u001b[0m\u001b[0;34m\u001b[0m\u001b[0m\n",
        "\u001b[0;32m/Users/matthewgee/Library/Enthought/Canopy_64bit/User/lib/python2.7/site-packages/pandas/io/excel.pyc\u001b[0m in \u001b[0;36mwrite_cells\u001b[0;34m(self, cells, sheet_name, startrow, startcol)\u001b[0m\n\u001b[1;32m    651\u001b[0m                 wks.write(startrow + cell.row,\n\u001b[1;32m    652\u001b[0m                           \u001b[0mstartcol\u001b[0m \u001b[0;34m+\u001b[0m \u001b[0mcell\u001b[0m\u001b[0;34m.\u001b[0m\u001b[0mcol\u001b[0m\u001b[0;34m,\u001b[0m\u001b[0;34m\u001b[0m\u001b[0m\n\u001b[0;32m--> 653\u001b[0;31m                           val, style)\n\u001b[0m\u001b[1;32m    654\u001b[0m \u001b[0;34m\u001b[0m\u001b[0m\n\u001b[1;32m    655\u001b[0m     \u001b[0;34m@\u001b[0m\u001b[0mclassmethod\u001b[0m\u001b[0;34m\u001b[0m\u001b[0m\n",
        "\u001b[0;32m/Users/matthewgee/Library/Enthought/Canopy_64bit/User/lib/python2.7/site-packages/xlwt/Worksheet.pyc\u001b[0m in \u001b[0;36mwrite\u001b[0;34m(self, r, c, label, style)\u001b[0m\n\u001b[1;32m   1028\u001b[0m \u001b[0;34m\u001b[0m\u001b[0m\n\u001b[1;32m   1029\u001b[0m     \u001b[0;32mdef\u001b[0m \u001b[0mwrite\u001b[0m\u001b[0;34m(\u001b[0m\u001b[0mself\u001b[0m\u001b[0;34m,\u001b[0m \u001b[0mr\u001b[0m\u001b[0;34m,\u001b[0m \u001b[0mc\u001b[0m\u001b[0;34m,\u001b[0m \u001b[0mlabel\u001b[0m\u001b[0;34m=\u001b[0m\u001b[0;34m\"\"\u001b[0m\u001b[0;34m,\u001b[0m \u001b[0mstyle\u001b[0m\u001b[0;34m=\u001b[0m\u001b[0mStyle\u001b[0m\u001b[0;34m.\u001b[0m\u001b[0mdefault_style\u001b[0m\u001b[0;34m)\u001b[0m\u001b[0;34m:\u001b[0m\u001b[0;34m\u001b[0m\u001b[0m\n\u001b[0;32m-> 1030\u001b[0;31m         \u001b[0mself\u001b[0m\u001b[0;34m.\u001b[0m\u001b[0mrow\u001b[0m\u001b[0;34m(\u001b[0m\u001b[0mr\u001b[0m\u001b[0;34m)\u001b[0m\u001b[0;34m.\u001b[0m\u001b[0mwrite\u001b[0m\u001b[0;34m(\u001b[0m\u001b[0mc\u001b[0m\u001b[0;34m,\u001b[0m \u001b[0mlabel\u001b[0m\u001b[0;34m,\u001b[0m \u001b[0mstyle\u001b[0m\u001b[0;34m)\u001b[0m\u001b[0;34m\u001b[0m\u001b[0m\n\u001b[0m\u001b[1;32m   1031\u001b[0m \u001b[0;34m\u001b[0m\u001b[0m\n\u001b[1;32m   1032\u001b[0m     \u001b[0;32mdef\u001b[0m \u001b[0mwrite_rich_text\u001b[0m\u001b[0;34m(\u001b[0m\u001b[0mself\u001b[0m\u001b[0;34m,\u001b[0m \u001b[0mr\u001b[0m\u001b[0;34m,\u001b[0m \u001b[0mc\u001b[0m\u001b[0;34m,\u001b[0m \u001b[0mrich_text_list\u001b[0m\u001b[0;34m,\u001b[0m \u001b[0mstyle\u001b[0m\u001b[0;34m=\u001b[0m\u001b[0mStyle\u001b[0m\u001b[0;34m.\u001b[0m\u001b[0mdefault_style\u001b[0m\u001b[0;34m)\u001b[0m\u001b[0;34m:\u001b[0m\u001b[0;34m\u001b[0m\u001b[0m\n",
        "\u001b[0;32m/Users/matthewgee/Library/Enthought/Canopy_64bit/User/lib/python2.7/site-packages/xlwt/Row.pyc\u001b[0m in \u001b[0;36mwrite\u001b[0;34m(self, col, label, style)\u001b[0m\n\u001b[1;32m    233\u001b[0m     \u001b[0;32mdef\u001b[0m \u001b[0mwrite\u001b[0m\u001b[0;34m(\u001b[0m\u001b[0mself\u001b[0m\u001b[0;34m,\u001b[0m \u001b[0mcol\u001b[0m\u001b[0;34m,\u001b[0m \u001b[0mlabel\u001b[0m\u001b[0;34m,\u001b[0m \u001b[0mstyle\u001b[0m\u001b[0;34m=\u001b[0m\u001b[0mStyle\u001b[0m\u001b[0;34m.\u001b[0m\u001b[0mdefault_style\u001b[0m\u001b[0;34m)\u001b[0m\u001b[0;34m:\u001b[0m\u001b[0;34m\u001b[0m\u001b[0m\n\u001b[1;32m    234\u001b[0m         \u001b[0mself\u001b[0m\u001b[0;34m.\u001b[0m\u001b[0m__adjust_height\u001b[0m\u001b[0;34m(\u001b[0m\u001b[0mstyle\u001b[0m\u001b[0;34m)\u001b[0m\u001b[0;34m\u001b[0m\u001b[0m\n\u001b[0;32m--> 235\u001b[0;31m         \u001b[0mself\u001b[0m\u001b[0;34m.\u001b[0m\u001b[0m__adjust_bound_col_idx\u001b[0m\u001b[0;34m(\u001b[0m\u001b[0mcol\u001b[0m\u001b[0;34m)\u001b[0m\u001b[0;34m\u001b[0m\u001b[0m\n\u001b[0m\u001b[1;32m    236\u001b[0m         \u001b[0mstyle_index\u001b[0m \u001b[0;34m=\u001b[0m \u001b[0mself\u001b[0m\u001b[0;34m.\u001b[0m\u001b[0m__parent_wb\u001b[0m\u001b[0;34m.\u001b[0m\u001b[0madd_style\u001b[0m\u001b[0;34m(\u001b[0m\u001b[0mstyle\u001b[0m\u001b[0;34m)\u001b[0m\u001b[0;34m\u001b[0m\u001b[0m\n\u001b[1;32m    237\u001b[0m         \u001b[0;32mif\u001b[0m \u001b[0misinstance\u001b[0m\u001b[0;34m(\u001b[0m\u001b[0mlabel\u001b[0m\u001b[0;34m,\u001b[0m \u001b[0mbasestring\u001b[0m\u001b[0;34m)\u001b[0m\u001b[0;34m:\u001b[0m\u001b[0;34m\u001b[0m\u001b[0m\n",
        "\u001b[0;32m/Users/matthewgee/Library/Enthought/Canopy_64bit/User/lib/python2.7/site-packages/xlwt/Row.pyc\u001b[0m in \u001b[0;36m__adjust_bound_col_idx\u001b[0;34m(self, *args)\u001b[0m\n\u001b[1;32m     76\u001b[0m             \u001b[0miarg\u001b[0m \u001b[0;34m=\u001b[0m \u001b[0mint\u001b[0m\u001b[0;34m(\u001b[0m\u001b[0marg\u001b[0m\u001b[0;34m)\u001b[0m\u001b[0;34m\u001b[0m\u001b[0m\n\u001b[1;32m     77\u001b[0m             \u001b[0;32mif\u001b[0m \u001b[0;32mnot\u001b[0m \u001b[0;34m(\u001b[0m\u001b[0;34m(\u001b[0m\u001b[0;36m0\u001b[0m \u001b[0;34m<=\u001b[0m \u001b[0miarg\u001b[0m \u001b[0;34m<=\u001b[0m \u001b[0;36m255\u001b[0m\u001b[0;34m)\u001b[0m \u001b[0;32mand\u001b[0m \u001b[0marg\u001b[0m \u001b[0;34m==\u001b[0m \u001b[0miarg\u001b[0m\u001b[0;34m)\u001b[0m\u001b[0;34m:\u001b[0m\u001b[0;34m\u001b[0m\u001b[0m\n\u001b[0;32m---> 78\u001b[0;31m                 \u001b[0;32mraise\u001b[0m \u001b[0mValueError\u001b[0m\u001b[0;34m(\u001b[0m\u001b[0;34m\"column index (%r) not an int in range(256)\"\u001b[0m \u001b[0;34m%\u001b[0m \u001b[0marg\u001b[0m\u001b[0;34m)\u001b[0m\u001b[0;34m\u001b[0m\u001b[0m\n\u001b[0m\u001b[1;32m     79\u001b[0m             \u001b[0msheet\u001b[0m \u001b[0;34m=\u001b[0m \u001b[0mself\u001b[0m\u001b[0;34m.\u001b[0m\u001b[0m__parent\u001b[0m\u001b[0;34m\u001b[0m\u001b[0m\n\u001b[1;32m     80\u001b[0m             \u001b[0;32mif\u001b[0m \u001b[0miarg\u001b[0m \u001b[0;34m<\u001b[0m \u001b[0mself\u001b[0m\u001b[0;34m.\u001b[0m\u001b[0m__min_col_idx\u001b[0m\u001b[0;34m:\u001b[0m\u001b[0;34m\u001b[0m\u001b[0m\n",
        "\u001b[0;31mValueError\u001b[0m: column index (256) not an int in range(256)"
       ]
      }
     ],
     "prompt_number": 101
    },
    {
     "cell_type": "code",
     "collapsed": false,
     "input": [],
     "language": "python",
     "metadata": {},
     "outputs": []
    }
   ],
   "metadata": {}
  }
 ]
}