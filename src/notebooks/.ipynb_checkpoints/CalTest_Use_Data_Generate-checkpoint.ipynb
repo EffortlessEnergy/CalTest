{
 "metadata": {
  "name": "",
  "signature": "sha256:dd56e5d1cf09209df6f9732376296eb137705b84ac6e8ca193790b12befc370c"
 },
 "nbformat": 3,
 "nbformat_minor": 0,
 "worksheets": [
  {
   "cells": [
    {
     "cell_type": "code",
     "collapsed": false,
     "input": [],
     "language": "python",
     "metadata": {},
     "outputs": []
    }
   ],
   "metadata": {}
  }
 ]
}