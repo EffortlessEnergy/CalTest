{
 "metadata": {
  "name": ""
 },
 "nbformat": 3,
 "nbformat_minor": 0,
 "worksheets": [
  {
   "cells": [
    {
     "cell_type": "markdown",
     "metadata": {},
     "source": [
      "##CalTest Home Selection Gas\n",
      "\n",
      "*The purpose of home selection is to find a reprentative set of homes for CalTest. Representitiveness was determined by the following criteria:*\n",
      "\n",
      "1. Contractor (Completed by preferred contractors)\n",
      "2. Pre-retrofit air leakage (25th-90th percentile of CFM50)\n",
      "3. Energy intesity (25th-90th percentile)\n",
      "4. Gas heat + gas hot water (Required)\n",
      "5. Stories (1, optional)\n",
      "6. Total conditioned area (20th-80th percentile)\n",
      "7. Total gas use (40th-90th percentile)\n",
      "8. Total gas savings (>40th percentile)\n",
      "9. Gas realization rate (25th-75th percentile)\n",
      "10. Fit on heating degree days regression ($R^2>.9$)\n",
      "11. Year built (>1950)\n",
      "12. Climate grouping (evenly distributed across 3 main groups)\n",
      "13. Utility (representative sample from each IOU)\n",
      "\n",
      "The final dataset `CalTest_test_homes_v1_4-1.csv` consists of 28 homes that form a representative distribution of home types, climate areas, and measures, while also meeting the selection criteria above.\n",
      "\n",
      "Test homes are also displayed in the likely format for vendors in the excel spreadsheet `CalTest_beta_v3_April_2.xls`.\n"
     ]
    },
    {
     "cell_type": "markdown",
     "metadata": {},
     "source": [
      "####Steps in home selection"
     ]
    },
    {
     "cell_type": "markdown",
     "metadata": {},
     "source": [
      "Begin with combined dataset of cleaned home charateristics with weather normalized data.\n",
      "\n",
      "    CalTest_combined_project_data_cleaned.csv\n",
      "    CalTest_combined_usage_data_cleaned.csv"
     ]
    },
    {
     "cell_type": "code",
     "collapsed": false,
     "input": [
      "import pandas as pd\n",
      "import matplotlib as plt\n",
      "\n",
      "\n",
      "#Define switch class\n",
      "class switch(object):\n",
      "    def __init__(self, value):\n",
      "        self.value = value\n",
      "        self.fall = False\n",
      "\n",
      "    def __iter__(self):\n",
      "        \"\"\"Return the match method once, then stop\"\"\"\n",
      "        yield self.match\n",
      "        raise StopIteration\n",
      "    \n",
      "    def match(self, *args):\n",
      "        \"\"\"Indicate whether or not to enter a case suite\"\"\"\n",
      "        if self.fall or not args:\n",
      "            return True\n",
      "        elif self.value in args: # changed for v1.5, see below\n",
      "            self.fall = True\n",
      "            return True\n",
      "        else:\n",
      "            return False"
     ],
     "language": "python",
     "metadata": {},
     "outputs": [],
     "prompt_number": 42
    },
    {
     "cell_type": "code",
     "collapsed": false,
     "input": [
      "#set utility and climate group for run\n",
      "#loop through scg, sdge pge\n",
      "#loop throug climate group 1,2,3 for PGE\n",
      "#loop through climategroup 4,5 for SCG\n",
      "#loop through climate group 6,7 for SDGE\n",
      "\n",
      "util = \"sdge\"\n",
      "climategroup = 8\n",
      "\n",
      "#specify dataset\n",
      "useData = \"/Users/matthewgee/Projects/CalTest/data/final/\" + str(util) +\"_CalTest_data_prepped.csv\"\n",
      "\n",
      "#specify path\n",
      "savePath = \"/Users/matthewgee/Projects/CalTest/data/final/\"\n",
      "\n",
      "\n",
      "#Output filenames\n",
      "dataSelect = \"/Users/matthewgee/Projects/CalTest/data/final/\" + str(util) + \"_CalTest_gas_group_\" + str(climategroup) +\".csv\"\n",
      "combinedSelect = \"/Users/matthewgee/Projects/CalTest/data/final/\" + str(util) + \"_combined_CalTest_gas.csv\"\n",
      "combinedSelectX = \"/Users/matthewgee/Projects/CalTest/data/final/\" + str(util) + \"_combined_CalTest_gas.xls\""
     ],
     "language": "python",
     "metadata": {},
     "outputs": [],
     "prompt_number": 92
    },
    {
     "cell_type": "markdown",
     "metadata": {},
     "source": [
      "####Read in data as dataframes, and identify homes by utility\n"
     ]
    },
    {
     "cell_type": "code",
     "collapsed": false,
     "input": [
      "df = pd.read_csv(useData)\n",
      "\n",
      "len(df)"
     ],
     "language": "python",
     "metadata": {},
     "outputs": [
      {
       "metadata": {},
       "output_type": "pyout",
       "prompt_number": 93,
       "text": [
        "48"
       ]
      }
     ],
     "prompt_number": 93
    },
    {
     "cell_type": "code",
     "collapsed": false,
     "input": [
      "df.climate.value_counts()"
     ],
     "language": "python",
     "metadata": {},
     "outputs": [
      {
       "metadata": {},
       "output_type": "pyout",
       "prompt_number": 94,
       "text": [
        "7     41\n",
        "10     7\n",
        "dtype: int64"
       ]
      }
     ],
     "prompt_number": 94
    },
    {
     "cell_type": "code",
     "collapsed": false,
     "input": [
      "#Create climate zone-specific datasets\n",
      "# PG&E (12, 3), (4, 11, 2), (13,16,5,&7) \n",
      "for case in switch(climategroup):\n",
      "    if case(1):\n",
      "        df = df[(df['climate']==12) | (df['climate']==3)]\n",
      "        df = df[df.preffered_contractor==1]\n",
      "        break\n",
      "    if case(2):\n",
      "        df = df[(df['climate']==11) | (df['climate']==2) | (df['climate']==4)]\n",
      "        df= df[df.cooltype1!=\"None\"]\n",
      "        break\n",
      "    if case(3):\n",
      "        df = df[(df['climate']==13) | (df['climate']==16) | (df['climate']==5) | (df['climate']==7)]\n",
      "        df= df[df.cooltype1!=\"None\"]\n",
      "        break\n",
      "    if case(4):\n",
      "        df = df[(df['climate']==9)]\n",
      "        break \n",
      "    if case(5):\n",
      "        df = df[(df['climate']==12) | (df['climate']==3)]\n",
      "        break\n",
      "    if case(6):\n",
      "        df = df[(df['climate']==13) | (df['climate']==16) | (df['climate']==5) | (df['climate']==7)]\n",
      "        break\n",
      "    if case(7):\n",
      "        df = df[(df['climate']==7)]\n",
      "        break\n",
      "    if case(8):\n",
      "        df = df[(df['climate']==10)]\n",
      "        break\n",
      "    if case():\n",
      "        print \"No climate group\"\n",
      "        break\n",
      "len(df)"
     ],
     "language": "python",
     "metadata": {},
     "outputs": [
      {
       "metadata": {},
       "output_type": "pyout",
       "prompt_number": 95,
       "text": [
        "7"
       ]
      }
     ],
     "prompt_number": 95
    },
    {
     "cell_type": "code",
     "collapsed": false,
     "input": [
      "#df.gas_realization.describe()\n"
     ],
     "language": "python",
     "metadata": {},
     "outputs": [],
     "prompt_number": 96
    },
    {
     "cell_type": "markdown",
     "metadata": {},
     "source": [
      "Subset by contractor"
     ]
    },
    {
     "cell_type": "code",
     "collapsed": false,
     "input": [
      "df.contractor.value_counts()"
     ],
     "language": "python",
     "metadata": {},
     "outputs": [
      {
       "metadata": {},
       "output_type": "pyout",
       "prompt_number": 97,
       "text": [
        "GreenHomes America             6\n",
        "Get Green Remodeling, Inc.     1\n",
        "dtype: int64"
       ]
      }
     ],
     "prompt_number": 97
    },
    {
     "cell_type": "code",
     "collapsed": false,
     "input": [
      "#I no longer screen by contractor size\n",
      "#g = df.groupby('contractor')\n",
      "#df = g.filter(lambda x: len(x) > 5)\n",
      "#df.contractor.value_counts()"
     ],
     "language": "python",
     "metadata": {},
     "outputs": [],
     "prompt_number": 98
    },
    {
     "cell_type": "code",
     "collapsed": false,
     "input": [
      "#df = df[df.preffered_contractor==1]\n",
      "#len(df)"
     ],
     "language": "python",
     "metadata": {},
     "outputs": [],
     "prompt_number": 99
    },
    {
     "cell_type": "markdown",
     "metadata": {},
     "source": [
      "####Filter by quantile of pre-retrofit CFM50\n"
     ]
    },
    {
     "cell_type": "code",
     "collapsed": false,
     "input": [
      "df.shell_leakage_cfm50_existing.describe()"
     ],
     "language": "python",
     "metadata": {},
     "outputs": [
      {
       "metadata": {},
       "output_type": "pyout",
       "prompt_number": 100,
       "text": [
        "count       7.000000\n",
        "mean     3158.857143\n",
        "std      1298.232186\n",
        "min      2003.000000\n",
        "25%      2467.500000\n",
        "50%      2630.000000\n",
        "75%      3347.000000\n",
        "max      5850.000000\n",
        "Name: shell_leakage_cfm50_existing, dtype: float64"
       ]
      }
     ],
     "prompt_number": 100
    },
    {
     "cell_type": "markdown",
     "metadata": {},
     "source": [
      "Histogram of pre-retrofi CFM50\n"
     ]
    },
    {
     "cell_type": "code",
     "collapsed": false,
     "input": [
      "df.shell_leakage_cfm50_existing.hist(figsize=(10,5))"
     ],
     "language": "python",
     "metadata": {},
     "outputs": [
      {
       "metadata": {},
       "output_type": "pyout",
       "prompt_number": 101,
       "text": [
        "<matplotlib.axes.AxesSubplot at 0x1097d2e10>"
       ]
      },
      {
       "metadata": {},
       "output_type": "display_data",
       "png": "[encoded data removed]",
       "text": [
        "<matplotlib.figure.Figure at 0x109179a90>"
       ]
      }
     ],
     "prompt_number": 101
    },
    {
     "cell_type": "markdown",
     "metadata": {},
     "source": [
      "Remove lower 25% percentile and top 10 percentile of CFM50"
     ]
    },
    {
     "cell_type": "code",
     "collapsed": false,
     "input": [
      "df = df[df.shell_leakage_cfm50_existing < df.shell_leakage_cfm50_existing.quantile(.95)]\n",
      "df = df[df.shell_leakage_cfm50_existing.quantile(.15) < df.shell_leakage_cfm50_existing]\n",
      "df.shell_leakage_cfm50_existing.hist(figsize(10,5))"
     ],
     "language": "python",
     "metadata": {},
     "outputs": [
      {
       "metadata": {},
       "output_type": "pyout",
       "prompt_number": 102,
       "text": [
        "<matplotlib.axes.AxesSubplot at 0x1097dac50>"
       ]
      },
      {
       "metadata": {},
       "output_type": "display_data",
       "png": "[encoded data removed]",
       "text": [
        "<matplotlib.figure.Figure at 0x1091d1c10>"
       ]
      }
     ],
     "prompt_number": 102
    },
    {
     "cell_type": "markdown",
     "metadata": {},
     "source": [
      "New distribution of CFM50"
     ]
    },
    {
     "cell_type": "code",
     "collapsed": false,
     "input": [
      "len(df)"
     ],
     "language": "python",
     "metadata": {},
     "outputs": [
      {
       "metadata": {},
       "output_type": "pyout",
       "prompt_number": 103,
       "text": [
        "5"
       ]
      }
     ],
     "prompt_number": 103
    },
    {
     "cell_type": "markdown",
     "metadata": {},
     "source": [
      "###Select by energy intensity"
     ]
    },
    {
     "cell_type": "code",
     "collapsed": false,
     "input": [
      "df.energy_intensity_gas.hist(figsize=(10,5))"
     ],
     "language": "python",
     "metadata": {},
     "outputs": [
      {
       "metadata": {},
       "output_type": "pyout",
       "prompt_number": 104,
       "text": [
        "<matplotlib.axes.AxesSubplot at 0x1097e0650>"
       ]
      },
      {
       "metadata": {},
       "output_type": "display_data",
       "png": "[encoded data removed]",
       "text": [
        "<matplotlib.figure.Figure at 0x1097ca410>"
       ]
      }
     ],
     "prompt_number": 104
    },
    {
     "cell_type": "markdown",
     "metadata": {},
     "source": [
      "\n",
      "Remove lower 25 percentile and top 10 percentile of CFM50"
     ]
    },
    {
     "cell_type": "code",
     "collapsed": false,
     "input": [
      "df = df[df.energy_intensity_gas < df.energy_intensity_gas.quantile(.95)]\n",
      "df = df[df.energy_intensity_gas.quantile(.25) < df.energy_intensity_gas]\n",
      "df.energy_intensity_gas.hist(figsize=(10,5))"
     ],
     "language": "python",
     "metadata": {},
     "outputs": [
      {
       "metadata": {},
       "output_type": "pyout",
       "prompt_number": 90,
       "text": [
        "<matplotlib.axes.AxesSubplot at 0x1085bffd0>"
       ]
      },
      {
       "metadata": {},
       "output_type": "display_data",
       "png": "[encoded data removed]",
       "text": [
        "<matplotlib.figure.Figure at 0x108bd9210>"
       ]
      }
     ],
     "prompt_number": 90
    },
    {
     "cell_type": "markdown",
     "metadata": {},
     "source": [
      "###Gas heating and gas hot water\n"
     ]
    },
    {
     "cell_type": "code",
     "collapsed": false,
     "input": [
      "#df = df[df.gas_heat==1]\n",
      "#df = df[df.gas_hotwater==1]\n",
      "len(df)"
     ],
     "language": "python",
     "metadata": {},
     "outputs": [
      {
       "metadata": {},
       "output_type": "pyout",
       "prompt_number": 91,
       "text": [
        "2"
       ]
      }
     ],
     "prompt_number": 91
    },
    {
     "cell_type": "markdown",
     "metadata": {},
     "source": [
      "###Remove based on number of stories\n",
      "For now we are including only 1 story buildings\n"
     ]
    },
    {
     "cell_type": "code",
     "collapsed": false,
     "input": [
      "df.stories.value_counts()"
     ],
     "language": "python",
     "metadata": {},
     "outputs": [
      {
       "metadata": {},
       "output_type": "pyout",
       "prompt_number": 58,
       "text": [
        "1    19\n",
        "dtype: int64"
       ]
      }
     ],
     "prompt_number": 58
    },
    {
     "cell_type": "code",
     "collapsed": false,
     "input": [
      "#keep 1 & 2 stories\n",
      "df = df[df.stories==1]\n",
      "len(df)"
     ],
     "language": "python",
     "metadata": {},
     "outputs": [
      {
       "metadata": {},
       "output_type": "pyout",
       "prompt_number": 59,
       "text": [
        "19"
       ]
      }
     ],
     "prompt_number": 59
    },
    {
     "cell_type": "markdown",
     "metadata": {},
     "source": [
      "###Subset by total area\n",
      "\n",
      "Look at the distribution of total conditioned area across the subset of homes."
     ]
    },
    {
     "cell_type": "code",
     "collapsed": false,
     "input": [
      "df.pre_area.hist(figsize=(10,5))"
     ],
     "language": "python",
     "metadata": {},
     "outputs": [
      {
       "metadata": {},
       "output_type": "pyout",
       "prompt_number": 60,
       "text": [
        "<matplotlib.axes.AxesSubplot at 0x107f23d10>"
       ]
      },
      {
       "metadata": {},
       "output_type": "display_data",
       "png": "[encoded data removed]",
       "text": [
        "<matplotlib.figure.Figure at 0x10833dd10>"
       ]
      }
     ],
     "prompt_number": 60
    },
    {
     "cell_type": "markdown",
     "metadata": {},
     "source": [
      "Dropping the lower and upper 20% of the distribution"
     ]
    },
    {
     "cell_type": "code",
     "collapsed": false,
     "input": [
      "df = df[df.pre_area < df.pre_area.quantile(.90)]\n",
      "df = df[df.pre_area.quantile(.20) < df.pre_area]\n",
      "df.pre_area.hist(figsize=(10,5))"
     ],
     "language": "python",
     "metadata": {},
     "outputs": [
      {
       "metadata": {},
       "output_type": "pyout",
       "prompt_number": 61,
       "text": [
        "<matplotlib.axes.AxesSubplot at 0x1083a7f90>"
       ]
      },
      {
       "metadata": {},
       "output_type": "display_data",
       "png": "[encoded data removed]",
       "text": [
        "<matplotlib.figure.Figure at 0x107f284d0>"
       ]
      }
     ],
     "prompt_number": 61
    },
    {
     "cell_type": "markdown",
     "metadata": {},
     "source": [
      "###Subset on total gas savings\n",
      "We select for the upper 60% and remove only the top 3% from the total realized savings distribution to ensure there is enough signal in the sample homes for testing."
     ]
    },
    {
     "cell_type": "code",
     "collapsed": false,
     "input": [
      "df.gas_savings.hist(figsize=(10,5))"
     ],
     "language": "python",
     "metadata": {},
     "outputs": [
      {
       "metadata": {},
       "output_type": "pyout",
       "prompt_number": 62,
       "text": [
        "<matplotlib.axes.AxesSubplot at 0x1083cc390>"
       ]
      },
      {
       "metadata": {},
       "output_type": "display_data",
       "png": "[encoded data removed]",
       "text": [
        "<matplotlib.figure.Figure at 0x1089be450>"
       ]
      }
     ],
     "prompt_number": 62
    },
    {
     "cell_type": "code",
     "collapsed": false,
     "input": [
      "df = df[df.gas_savings < df.gas_savings.quantile(.97)]\n",
      "df = df[df.gas_savings.quantile(.40) < df.gas_savings]\n",
      "df.gas_savings.hist(figsize=(10,5))"
     ],
     "language": "python",
     "metadata": {},
     "outputs": [
      {
       "metadata": {},
       "output_type": "pyout",
       "prompt_number": 63,
       "text": [
        "<matplotlib.axes.AxesSubplot at 0x10833f450>"
       ]
      },
      {
       "metadata": {},
       "output_type": "display_data",
       "png": "[encoded data removed]",
       "text": [
        "<matplotlib.figure.Figure at 0x107f30750>"
       ]
      }
     ],
     "prompt_number": 63
    },
    {
     "cell_type": "code",
     "collapsed": false,
     "input": [
      "len(df)"
     ],
     "language": "python",
     "metadata": {},
     "outputs": [
      {
       "metadata": {},
       "output_type": "pyout",
       "prompt_number": 64,
       "text": [
        "7"
       ]
      }
     ],
     "prompt_number": 64
    },
    {
     "cell_type": "markdown",
     "metadata": {},
     "source": [
      "###Subset on Realization Rate\n",
      "\n",
      "Examining the distribution of realization rates for gas and electricity"
     ]
    },
    {
     "cell_type": "code",
     "collapsed": false,
     "input": [
      "#Gas Realization rates\n",
      "#df.gas_realization.hist()"
     ],
     "language": "python",
     "metadata": {},
     "outputs": [],
     "prompt_number": 65
    },
    {
     "cell_type": "code",
     "collapsed": false,
     "input": [
      "#Electricity Realization rates\n",
      "#df.elec_realization.hist()"
     ],
     "language": "python",
     "metadata": {},
     "outputs": [],
     "prompt_number": 66
    },
    {
     "cell_type": "markdown",
     "metadata": {},
     "source": [
      "Drop the upper and lower 25th percentiles for both gas and electrcity"
     ]
    },
    {
     "cell_type": "code",
     "collapsed": false,
     "input": [
      "#df = df[df.gas_realization < df.gas_realization.quantile(.80)]\n",
      "#df = df[df.gas_realization.quantile(.20) < df.gas_realization]\n",
      "#df.gas_realization.hist(figsize=(10,5))"
     ],
     "language": "python",
     "metadata": {},
     "outputs": [],
     "prompt_number": 67
    },
    {
     "cell_type": "code",
     "collapsed": false,
     "input": [
      "#df = df[df.elec_realization < df.elec_realization.quantile(.80)]\n",
      "#df = df[df.elec_realization.quantile(.20) < df.elec_realization]\n",
      "#df.elec_realization.hist(figsize=(10,5))"
     ],
     "language": "python",
     "metadata": {},
     "outputs": [],
     "prompt_number": 68
    },
    {
     "cell_type": "code",
     "collapsed": false,
     "input": [
      "len(df)"
     ],
     "language": "python",
     "metadata": {},
     "outputs": [
      {
       "metadata": {},
       "output_type": "pyout",
       "prompt_number": 69,
       "text": [
        "7"
       ]
      }
     ],
     "prompt_number": 69
    },
    {
     "cell_type": "markdown",
     "metadata": {},
     "source": [
      "###Check representativeness across climate zones"
     ]
    },
    {
     "cell_type": "code",
     "collapsed": false,
     "input": [
      "df.climate.value_counts()"
     ],
     "language": "python",
     "metadata": {},
     "outputs": [
      {
       "metadata": {},
       "output_type": "pyout",
       "prompt_number": 70,
       "text": [
        "7    7\n",
        "dtype: int64"
       ]
      }
     ],
     "prompt_number": 70
    },
    {
     "cell_type": "markdown",
     "metadata": {},
     "source": [
      "###Checking representativeness across features\n"
     ]
    },
    {
     "cell_type": "code",
     "collapsed": false,
     "input": [
      "#df.year_built.hist()"
     ],
     "language": "python",
     "metadata": {},
     "outputs": [],
     "prompt_number": 71
    },
    {
     "cell_type": "markdown",
     "metadata": {},
     "source": [
      "Remove old (yearbuild<1979) from the sample"
     ]
    },
    {
     "cell_type": "code",
     "collapsed": false,
     "input": [
      "#df = df[df.year_built > 1930]\n",
      "#df.year_built.hist()"
     ],
     "language": "python",
     "metadata": {},
     "outputs": [],
     "prompt_number": 72
    },
    {
     "cell_type": "code",
     "collapsed": false,
     "input": [
      "len(df)"
     ],
     "language": "python",
     "metadata": {},
     "outputs": [
      {
       "metadata": {},
       "output_type": "pyout",
       "prompt_number": 73,
       "text": [
        "7"
       ]
      }
     ],
     "prompt_number": 73
    },
    {
     "cell_type": "code",
     "collapsed": false,
     "input": [
      "df.describe()"
     ],
     "language": "python",
     "metadata": {},
     "outputs": [
      {
       "html": [
        "<div style=\"max-height:1000px;max-width:1500px;overflow:auto;\">\n",
        "<table border=\"1\" class=\"dataframe\">\n",
        "  <thead>\n",
        "    <tr style=\"text-align: right;\">\n",
        "      <th></th>\n",
        "      <th>cazone</th>\n",
        "      <th>ceilingheight</th>\n",
        "      <th>pre_area</th>\n",
        "      <th>cooling_efficiency_existing</th>\n",
        "      <th>designcoolingcapacity</th>\n",
        "      <th>duct_insulation_r_existing</th>\n",
        "      <th>eer</th>\n",
        "      <th>shell_leakage_cfm50_existing</th>\n",
        "      <th>front_orientation</th>\n",
        "      <th>gas_furnace_efficiency_existing</th>\n",
        "      <th>bedrooms</th>\n",
        "      <th>occupants</th>\n",
        "      <th>ratedinput</th>\n",
        "      <th>recoveryefficiency</th>\n",
        "      <th>stories</th>\n",
        "      <th>summeridb</th>\n",
        "      <th>tanksize</th>\n",
        "      <th>winteridb</th>\n",
        "      <th>zip</th>\n",
        "      <th>projectid</th>\n",
        "      <th></th>\n",
        "    </tr>\n",
        "  </thead>\n",
        "  <tbody>\n",
        "    <tr>\n",
        "      <th>count</th>\n",
        "      <td> 7</td>\n",
        "      <td> 7.000000</td>\n",
        "      <td>    7.000000</td>\n",
        "      <td>  7.000000</td>\n",
        "      <td>     7.000000</td>\n",
        "      <td> 7.000000</td>\n",
        "      <td>  7.000000</td>\n",
        "      <td>    7.000000</td>\n",
        "      <td>   7.000000</td>\n",
        "      <td> 7.000000</td>\n",
        "      <td> 7.000000</td>\n",
        "      <td> 7.000000</td>\n",
        "      <td>     7.000000</td>\n",
        "      <td> 7.000000</td>\n",
        "      <td> 7</td>\n",
        "      <td>  7</td>\n",
        "      <td>  7</td>\n",
        "      <td>  7.000000</td>\n",
        "      <td>     7.000000</td>\n",
        "      <td> 7.000000e+00</td>\n",
        "      <td>...</td>\n",
        "    </tr>\n",
        "    <tr>\n",
        "      <th>mean</th>\n",
        "      <td> 7</td>\n",
        "      <td> 8.142857</td>\n",
        "      <td> 1673.628571</td>\n",
        "      <td> 11.628571</td>\n",
        "      <td> 30857.142857</td>\n",
        "      <td> 2.700000</td>\n",
        "      <td>  9.500000</td>\n",
        "      <td> 2677.857143</td>\n",
        "      <td>  70.714286</td>\n",
        "      <td> 0.814286</td>\n",
        "      <td> 3.428571</td>\n",
        "      <td> 5.014286</td>\n",
        "      <td> 39142.857143</td>\n",
        "      <td> 0.777143</td>\n",
        "      <td> 1</td>\n",
        "      <td> 75</td>\n",
        "      <td> 40</td>\n",
        "      <td> 69.714286</td>\n",
        "      <td> 92027.000000</td>\n",
        "      <td> 5.001136e+09</td>\n",
        "      <td>...</td>\n",
        "    </tr>\n",
        "    <tr>\n",
        "      <th>std</th>\n",
        "      <td> 0</td>\n",
        "      <td> 0.377964</td>\n",
        "      <td>  318.492437</td>\n",
        "      <td>  1.713393</td>\n",
        "      <td> 22828.553549</td>\n",
        "      <td> 1.024695</td>\n",
        "      <td>  0.761577</td>\n",
        "      <td>  602.051058</td>\n",
        "      <td> 121.464280</td>\n",
        "      <td> 0.037796</td>\n",
        "      <td> 0.534522</td>\n",
        "      <td> 0.959911</td>\n",
        "      <td>  1069.044968</td>\n",
        "      <td> 0.007559</td>\n",
        "      <td> 0</td>\n",
        "      <td>  0</td>\n",
        "      <td>  0</td>\n",
        "      <td>  0.755929</td>\n",
        "      <td>   109.468412</td>\n",
        "      <td> 7.267500e+03</td>\n",
        "      <td>...</td>\n",
        "    </tr>\n",
        "    <tr>\n",
        "      <th>min</th>\n",
        "      <td> 7</td>\n",
        "      <td> 8.000000</td>\n",
        "      <td> 1392.000000</td>\n",
        "      <td>  9.700000</td>\n",
        "      <td>     0.000000</td>\n",
        "      <td> 2.100000</td>\n",
        "      <td>  8.300000</td>\n",
        "      <td> 2010.000000</td>\n",
        "      <td>   0.000000</td>\n",
        "      <td> 0.800000</td>\n",
        "      <td> 3.000000</td>\n",
        "      <td> 4.200000</td>\n",
        "      <td> 38000.000000</td>\n",
        "      <td> 0.760000</td>\n",
        "      <td> 1</td>\n",
        "      <td> 75</td>\n",
        "      <td> 40</td>\n",
        "      <td> 68.000000</td>\n",
        "      <td> 91910.000000</td>\n",
        "      <td> 5.001128e+09</td>\n",
        "      <td>...</td>\n",
        "    </tr>\n",
        "    <tr>\n",
        "      <th>25%</th>\n",
        "      <td> 7</td>\n",
        "      <td> 8.000000</td>\n",
        "      <td> 1467.500000</td>\n",
        "      <td>  9.850000</td>\n",
        "      <td> 18000.000000</td>\n",
        "      <td> 2.100000</td>\n",
        "      <td>  9.100000</td>\n",
        "      <td> 2135.000000</td>\n",
        "      <td>   0.000000</td>\n",
        "      <td> 0.800000</td>\n",
        "      <td> 3.000000</td>\n",
        "      <td> 4.400000</td>\n",
        "      <td> 38000.000000</td>\n",
        "      <td> 0.780000</td>\n",
        "      <td> 1</td>\n",
        "      <td> 75</td>\n",
        "      <td> 40</td>\n",
        "      <td> 70.000000</td>\n",
        "      <td> 91910.000000</td>\n",
        "      <td> 5.001128e+09</td>\n",
        "      <td>...</td>\n",
        "    </tr>\n",
        "    <tr>\n",
        "      <th>50%</th>\n",
        "      <td> 7</td>\n",
        "      <td> 8.000000</td>\n",
        "      <td> 1616.000000</td>\n",
        "      <td> 13.000000</td>\n",
        "      <td> 36000.000000</td>\n",
        "      <td> 2.100000</td>\n",
        "      <td> 10.000000</td>\n",
        "      <td> 2650.000000</td>\n",
        "      <td>   0.000000</td>\n",
        "      <td> 0.800000</td>\n",
        "      <td> 3.000000</td>\n",
        "      <td> 4.800000</td>\n",
        "      <td> 40000.000000</td>\n",
        "      <td> 0.780000</td>\n",
        "      <td> 1</td>\n",
        "      <td> 75</td>\n",
        "      <td> 40</td>\n",
        "      <td> 70.000000</td>\n",
        "      <td> 92110.000000</td>\n",
        "      <td> 5.001140e+09</td>\n",
        "      <td>...</td>\n",
        "    </tr>\n",
        "    <tr>\n",
        "      <th>75%</th>\n",
        "      <td> 7</td>\n",
        "      <td> 8.000000</td>\n",
        "      <td> 1722.700000</td>\n",
        "      <td> 13.000000</td>\n",
        "      <td> 42000.000000</td>\n",
        "      <td> 3.150000</td>\n",
        "      <td> 10.000000</td>\n",
        "      <td> 3205.000000</td>\n",
        "      <td> 112.500000</td>\n",
        "      <td> 0.800000</td>\n",
        "      <td> 4.000000</td>\n",
        "      <td> 5.150000</td>\n",
        "      <td> 40000.000000</td>\n",
        "      <td> 0.780000</td>\n",
        "      <td> 1</td>\n",
        "      <td> 75</td>\n",
        "      <td> 40</td>\n",
        "      <td> 70.000000</td>\n",
        "      <td> 92116.000000</td>\n",
        "      <td> 5.001141e+09</td>\n",
        "      <td>...</td>\n",
        "    </tr>\n",
        "    <tr>\n",
        "      <th>max</th>\n",
        "      <td> 7</td>\n",
        "      <td> 9.000000</td>\n",
        "      <td> 2327.000000</td>\n",
        "      <td> 13.000000</td>\n",
        "      <td> 60000.000000</td>\n",
        "      <td> 4.200000</td>\n",
        "      <td> 10.000000</td>\n",
        "      <td> 3405.000000</td>\n",
        "      <td> 270.000000</td>\n",
        "      <td> 0.900000</td>\n",
        "      <td> 4.000000</td>\n",
        "      <td> 7.000000</td>\n",
        "      <td> 40000.000000</td>\n",
        "      <td> 0.780000</td>\n",
        "      <td> 1</td>\n",
        "      <td> 75</td>\n",
        "      <td> 40</td>\n",
        "      <td> 70.000000</td>\n",
        "      <td> 92117.000000</td>\n",
        "      <td> 5.001144e+09</td>\n",
        "      <td>...</td>\n",
        "    </tr>\n",
        "  </tbody>\n",
        "</table>\n",
        "<p>8 rows \u00d7 100 columns</p>\n",
        "</div>"
       ],
       "metadata": {},
       "output_type": "pyout",
       "prompt_number": 74,
       "text": [
        "       cazone  ceilingheight     pre_area  cooling_efficiency_existing  \\\n",
        "count       7       7.000000     7.000000                     7.000000   \n",
        "mean        7       8.142857  1673.628571                    11.628571   \n",
        "std         0       0.377964   318.492437                     1.713393   \n",
        "min         7       8.000000  1392.000000                     9.700000   \n",
        "25%         7       8.000000  1467.500000                     9.850000   \n",
        "50%         7       8.000000  1616.000000                    13.000000   \n",
        "75%         7       8.000000  1722.700000                    13.000000   \n",
        "max         7       9.000000  2327.000000                    13.000000   \n",
        "\n",
        "       designcoolingcapacity  duct_insulation_r_existing        eer  \\\n",
        "count               7.000000                    7.000000   7.000000   \n",
        "mean            30857.142857                    2.700000   9.500000   \n",
        "std             22828.553549                    1.024695   0.761577   \n",
        "min                 0.000000                    2.100000   8.300000   \n",
        "25%             18000.000000                    2.100000   9.100000   \n",
        "50%             36000.000000                    2.100000  10.000000   \n",
        "75%             42000.000000                    3.150000  10.000000   \n",
        "max             60000.000000                    4.200000  10.000000   \n",
        "\n",
        "       shell_leakage_cfm50_existing  front_orientation  \\\n",
        "count                      7.000000           7.000000   \n",
        "mean                    2677.857143          70.714286   \n",
        "std                      602.051058         121.464280   \n",
        "min                     2010.000000           0.000000   \n",
        "25%                     2135.000000           0.000000   \n",
        "50%                     2650.000000           0.000000   \n",
        "75%                     3205.000000         112.500000   \n",
        "max                     3405.000000         270.000000   \n",
        "\n",
        "       gas_furnace_efficiency_existing  bedrooms  occupants    ratedinput  \\\n",
        "count                         7.000000  7.000000   7.000000      7.000000   \n",
        "mean                          0.814286  3.428571   5.014286  39142.857143   \n",
        "std                           0.037796  0.534522   0.959911   1069.044968   \n",
        "min                           0.800000  3.000000   4.200000  38000.000000   \n",
        "25%                           0.800000  3.000000   4.400000  38000.000000   \n",
        "50%                           0.800000  3.000000   4.800000  40000.000000   \n",
        "75%                           0.800000  4.000000   5.150000  40000.000000   \n",
        "max                           0.900000  4.000000   7.000000  40000.000000   \n",
        "\n",
        "       recoveryefficiency  stories  summeridb  tanksize  winteridb  \\\n",
        "count            7.000000        7          7         7   7.000000   \n",
        "mean             0.777143        1         75        40  69.714286   \n",
        "std              0.007559        0          0         0   0.755929   \n",
        "min              0.760000        1         75        40  68.000000   \n",
        "25%              0.780000        1         75        40  70.000000   \n",
        "50%              0.780000        1         75        40  70.000000   \n",
        "75%              0.780000        1         75        40  70.000000   \n",
        "max              0.780000        1         75        40  70.000000   \n",
        "\n",
        "                zip     projectid      \n",
        "count      7.000000  7.000000e+00 ...  \n",
        "mean   92027.000000  5.001136e+09 ...  \n",
        "std      109.468412  7.267500e+03 ...  \n",
        "min    91910.000000  5.001128e+09 ...  \n",
        "25%    91910.000000  5.001128e+09 ...  \n",
        "50%    92110.000000  5.001140e+09 ...  \n",
        "75%    92116.000000  5.001141e+09 ...  \n",
        "max    92117.000000  5.001144e+09 ...  \n",
        "\n",
        "[8 rows x 100 columns]"
       ]
      }
     ],
     "prompt_number": 74
    },
    {
     "cell_type": "markdown",
     "metadata": {},
     "source": [
      "###Output final files, create a combined file, & create Excel workbook"
     ]
    },
    {
     "cell_type": "code",
     "collapsed": false,
     "input": [
      "df.fillna(\"\")\n",
      "df.to_csv(dataSelect)"
     ],
     "language": "python",
     "metadata": {},
     "outputs": [],
     "prompt_number": 105
    },
    {
     "cell_type": "code",
     "collapsed": false,
     "input": [
      "#Create combined file across climate zones\n",
      "df1 = pd.read_csv(\"/Users/matthewgee/Projects/CalTest/data/final/\" + str(util) + \"_CalTest_gas_group_7.csv\")\n",
      "df2 = pd.read_csv(\"/Users/matthewgee/Projects/CalTest/data/final/\" + str(util) + \"_CalTest_gas_group_8.csv\")\n",
      "df = pd.concat([df1,df2])\n",
      "df.to_csv(combinedSelect)\n",
      "df.to_excel(combinedSelectX)"
     ],
     "language": "python",
     "metadata": {},
     "outputs": [],
     "prompt_number": 107
    },
    {
     "cell_type": "code",
     "collapsed": false,
     "input": [],
     "language": "python",
     "metadata": {},
     "outputs": [],
     "prompt_number": 76
    },
    {
     "cell_type": "code",
     "collapsed": false,
     "input": [],
     "language": "python",
     "metadata": {},
     "outputs": [],
     "prompt_number": 76
    }
   ],
   "metadata": {}
  }
 ]
}