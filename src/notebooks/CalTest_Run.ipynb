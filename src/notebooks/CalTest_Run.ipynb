{
 "metadata": {
  "name": "",
  "signature": "sha256:3ab114ca8b81db10adfd163d4abf1b4dc90999ef52b8a7d44c099394008e3320"
 },
 "nbformat": 3,
 "nbformat_minor": 0,
 "worksheets": [
  {
   "cells": [
    {
     "cell_type": "markdown",
     "metadata": {},
     "source": [
      "#CalTest Run\n",
      "\n",
      "This document provides a complete review of the CalTest DataSet Creation\n",
      "\n",
      "1. Clean Raw program data given by implementors & generate standard naming conventions (stata files)\n",
      "2. Extract required fields from XML files and create master data list (`CalTestXMLParse`)\n",
      "    2a. Explore XML output to ensure quality (`Explore_XML`)\n",
      "3. Create link dataset that links xml file names, project ids, and utility account numbers (`CalTest_join_table_create`)\n",
      "    - retrofit date is a critical component to getting this right\n",
      "4. Standardize format for utility data and combine (`CalTest_utility_data_combine`)\n",
      "5. Generate clean weather data (\n",
      "6. Generate hdd and cdd datasets\n",
      "7. Run regressions to generate weather normalized savings\n",
      "    - This step encorporates \n",
      "8. Combined weather normalized savings with project data\n",
      "9. Link project data (measure data) and XML file data\n",
      "10. Run selection scripts by climate zone and IOU\n",
      "11. Do manual screening (based on input from implementors)\n",
      "12. Clean selected home dataset to transform values\n",
      "13. Run excel-generation script\n",
      "\n"
     ]
    },
    {
     "cell_type": "markdown",
     "metadata": {},
     "source": [
      "##Cleaning Raw Data for Measures by PUC\n",
      "\n",
      "This is mostly handled in Stata. We will skip this step for now"
     ]
    },
    {
     "cell_type": "markdown",
     "metadata": {},
     "source": [
      "##Parse XML File\n",
      "\n",
      "**Inputs: **\n",
      "\n",
      "raw XML files in\n",
      "\n",
      "    sdgeXMLPath = \"/Users/matthewgee/Projects/CalTest/data/sdge/SDGE EPro files/XML/\"\n",
      "    pgeXMLPath = \"/Users/matthewgee/Projects/CalTest/data/pgedata/xml/AdvJobEProXml/\"\n",
      "    scgXMLPath = \"/Users/matthewgee/Projects/CalTest/data/scg/SoCalGas_CalTest/\"\n",
      "    sceXMLPath = \"/Users/matthewgee/Projects/CalTest/data/scg/SCE_CalTest/\"\n",
      "\n",
      "\n",
      "**Output:**\n",
      "\n",
      "    combinedXMLOutput = \"/Users/matthewgee/Projects/CalTest/data/CalTestCombined_XML_Data.csv\"\n"
     ]
    },
    {
     "cell_type": "code",
     "collapsed": false,
     "input": [
      "#%run CalTestXMLParse.ipynb\n",
      "print \"I ran a notebook from somewhere else!\""
     ],
     "language": "python",
     "metadata": {},
     "outputs": []
    }
   ],
   "metadata": {}
  }
 ]
}